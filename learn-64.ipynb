{
 "cells": [
  {
   "cell_type": "code",
   "execution_count": 1,
   "metadata": {},
   "outputs": [],
   "source": [
    "#from __future__ import print_function\n",
    "import argparse\n",
    "import os\n",
    "import imp\n",
    "import algorithms as alg\n",
    "from dataloader import DataLoader, GenericDataset"
   ]
  },
  {
   "cell_type": "code",
   "execution_count": 2,
   "metadata": {},
   "outputs": [
    {
     "data": {
      "text/plain": [
       "1L"
      ]
     },
     "execution_count": 2,
     "metadata": {},
     "output_type": "execute_result"
    }
   ],
   "source": [
    "import torch\n",
    "import torch.nn as nn\n",
    "torch.cuda.device_count()"
   ]
  },
  {
   "cell_type": "code",
   "execution_count": 3,
   "metadata": {},
   "outputs": [],
   "source": [
    "class Namespace:\n",
    "    def __init__(self, **kwargs):\n",
    "        self.__dict__.update(kwargs)"
   ]
  },
  {
   "cell_type": "code",
   "execution_count": 4,
   "metadata": {},
   "outputs": [],
   "source": [
    "args_opt = Namespace(\n",
    "    exp = 'Custom_NonLinearClassifiers_ImageNet_RotNet_AlexNet_Features_64',\n",
    "    evaluate = False,\n",
    "    checkpoint = 3,\n",
    "    num_workers = 1,\n",
    "    cuda = True,\n",
    "    disp_step= 5\n",
    ")"
   ]
  },
  {
   "cell_type": "code",
   "execution_count": 5,
   "metadata": {},
   "outputs": [],
   "source": [
    "exp_config_file = os.path.join('.','config',args_opt.exp+'.py')\n",
    "# if args_opt.semi == -1:\n",
    "exp_directory = os.path.join('.','experiments',args_opt.exp)\n",
    "# else:\n",
    "#    assert(args_opt.semi>0)\n",
    "#    exp_directory = os.path.join('.','experiments/unsupervised',args_opt.exp+'_semi'+str(args_opt.semi))"
   ]
  },
  {
   "cell_type": "code",
   "execution_count": 6,
   "metadata": {},
   "outputs": [
    {
     "data": {
      "text/plain": [
       "'./config/Custom_NonLinearClassifiers_ImageNet_RotNet_AlexNet_Features_64.py'"
      ]
     },
     "execution_count": 6,
     "metadata": {},
     "output_type": "execute_result"
    }
   ],
   "source": [
    "exp_config_file"
   ]
  },
  {
   "cell_type": "code",
   "execution_count": 7,
   "metadata": {},
   "outputs": [
    {
     "name": "stdout",
     "output_type": "stream",
     "text": [
      "Launching experiment: ./config/Custom_NonLinearClassifiers_ImageNet_RotNet_AlexNet_Features_64.py\n",
      "Loading experiment Custom_NonLinearClassifiers_ImageNet_RotNet_AlexNet_Features_64 from file: ./config/Custom_NonLinearClassifiers_ImageNet_RotNet_AlexNet_Features_64.py\n",
      "Generated logs, snapshots, and model files will be stored on ./experiments/Custom_NonLinearClassifiers_ImageNet_RotNet_AlexNet_Features_64\n"
     ]
    }
   ],
   "source": [
    "# Load the configuration params of the experiment\n",
    "print('Launching experiment: %s' % exp_config_file)\n",
    "config = imp.load_source(\"\",exp_config_file).config\n",
    "config['exp_dir'] = exp_directory # the place where logs, models, and other stuff will be stored\n",
    "print(\"Loading experiment %s from file: %s\" % (args_opt.exp, exp_config_file))\n",
    "print(\"Generated logs, snapshots, and model files will be stored on %s\" % (config['exp_dir']))"
   ]
  },
  {
   "cell_type": "code",
   "execution_count": 8,
   "metadata": {},
   "outputs": [],
   "source": [
    "# Set train and test datasets and the corresponding data loaders\n",
    "data_train_opt = config['data_train_opt']\n",
    "data_test_opt = config['data_test_opt']\n",
    "num_imgs_per_cat = data_train_opt['num_imgs_per_cat'] if ('num_imgs_per_cat' in data_train_opt) else None"
   ]
  },
  {
   "cell_type": "code",
   "execution_count": 9,
   "metadata": {},
   "outputs": [
    {
     "name": "stdout",
     "output_type": "stream",
     "text": [
      "custom\n",
      "num_imgs_per_category 64\n"
     ]
    }
   ],
   "source": [
    "dataset_train = GenericDataset(\n",
    "    dataset_name=data_train_opt['dataset_name'],\n",
    "    split=data_train_opt['split'],\n",
    "    random_sized_crop=data_train_opt['random_sized_crop'],\n",
    "num_imgs_per_cat=num_imgs_per_cat)"
   ]
  },
  {
   "cell_type": "code",
   "execution_count": 10,
   "metadata": {},
   "outputs": [
    {
     "name": "stdout",
     "output_type": "stream",
     "text": [
      "custom\n"
     ]
    }
   ],
   "source": [
    "dataset_test = GenericDataset(\n",
    "    dataset_name=data_test_opt['dataset_name'],\n",
    "    split=data_test_opt['split'],\n",
    "    random_sized_crop=data_test_opt['random_sized_crop'])"
   ]
  },
  {
   "cell_type": "code",
   "execution_count": 11,
   "metadata": {},
   "outputs": [],
   "source": [
    "dloader_train = DataLoader(\n",
    "    dataset=dataset_train,\n",
    "    batch_size=data_train_opt['batch_size'],\n",
    "    unsupervised=data_train_opt['unsupervised'],\n",
    "    epoch_size=data_train_opt['epoch_size'],\n",
    "    num_workers=args_opt.num_workers,\n",
    "shuffle=True)"
   ]
  },
  {
   "cell_type": "code",
   "execution_count": 12,
   "metadata": {},
   "outputs": [],
   "source": [
    "dloader_test = DataLoader(\n",
    "    dataset=dataset_test,\n",
    "    batch_size=data_test_opt['batch_size'],\n",
    "    unsupervised=data_test_opt['unsupervised'],\n",
    "    epoch_size=data_test_opt['epoch_size'],\n",
    "    num_workers=args_opt.num_workers,\n",
    "shuffle=False)"
   ]
  },
  {
   "cell_type": "code",
   "execution_count": 13,
   "metadata": {},
   "outputs": [
    {
     "data": {
      "text/plain": [
       "64000"
      ]
     },
     "execution_count": 13,
     "metadata": {},
     "output_type": "execute_result"
    }
   ],
   "source": [
    "len(dloader_train.dataset)"
   ]
  },
  {
   "cell_type": "code",
   "execution_count": 14,
   "metadata": {},
   "outputs": [],
   "source": [
    "config['disp_step'] = args_opt.disp_step"
   ]
  },
  {
   "cell_type": "code",
   "execution_count": 15,
   "metadata": {
    "scrolled": false
   },
   "outputs": [
    {
     "name": "stderr",
     "output_type": "stream",
     "text": [
      "2019-05-15 02:29:02,737 - algorithms.Algorithm - INFO   - Algorithm options {'max_num_epochs': 40, 'disp_step': 5, 'algorithm_type': 'FeatureClassificationModel', 'criterions': {'loss': {'opt': None, 'ctype': 'CrossEntropyLoss'}}, 'data_test_opt': {'unsupervised': False, 'batch_size': 150, 'epoch_size': None, 'random_sized_crop': False, 'split': 'supervised/val', 'dataset_name': 'custom'}, 'exp_dir': './experiments/Custom_NonLinearClassifiers_ImageNet_RotNet_AlexNet_Features_64', 'out_feat_keys': ['conv5'], 'networks': {'classifier': {'opt': [{'cls_type': 'Alexnet_conv5', 'num_classes': 1000, 'nChannels': 256}], 'def_file': 'architectures/MultipleNonLinearClassifiers.py', 'optim_params': {'LUT_lr': [(10, 0.01), (20, 0.002), (30, 0.0004), (40, 8e-05)], 'nesterov': True, 'optim_type': 'sgd', 'lr': 0.1, 'weight_decay': 0.0005, 'momentum': 0.9}, 'pretrained': None}, 'feat_extractor': {'opt': {'num_classes': 4}, 'def_file': 'architectures/AlexNet.py', 'optim_params': None, 'pretrained': './experiments/Custom_RotNet_AlexNet/models/model_net_epoch13'}}, 'data_train_opt': {'num_imgs_per_cat': 64, 'unsupervised': False, 'batch_size': 150, 'epoch_size': None, 'random_sized_crop': False, 'split': 'supervised/train', 'dataset_name': 'custom'}}\n",
      "2019-05-15 02:29:02,739 - algorithms.Algorithm - INFO   - Set network classifier\n",
      "2019-05-15 02:29:02,740 - algorithms.Algorithm - INFO   - ==> Initiliaze network classifier from file architectures/MultipleNonLinearClassifiers.py with opts: [{'cls_type': 'Alexnet_conv5', 'num_classes': 1000, 'nChannels': 256}]\n",
      "2019-05-15 02:29:05,367 - algorithms.Algorithm - INFO   - Set network feat_extractor\n",
      "2019-05-15 02:29:05,377 - algorithms.Algorithm - INFO   - ==> Initiliaze network feat_extractor from file architectures/AlexNet.py with opts: {'num_classes': 4}\n",
      "2019-05-15 02:29:05,949 - algorithms.Algorithm - INFO   - ==> Load pretrained parameters from file ./experiments/Custom_RotNet_AlexNet/models/model_net_epoch13:\n",
      "2019-05-15 02:29:22,172 - algorithms.Algorithm - INFO   - Initialize criterion[loss]: CrossEntropyLoss with options: None\n"
     ]
    }
   ],
   "source": [
    "algorithm = getattr(alg, config['algorithm_type'])(config)"
   ]
  },
  {
   "cell_type": "code",
   "execution_count": 16,
   "metadata": {},
   "outputs": [],
   "source": [
    "# device = torch.device(\"cuda\")\n",
    "# device"
   ]
  },
  {
   "cell_type": "code",
   "execution_count": 17,
   "metadata": {},
   "outputs": [
    {
     "name": "stderr",
     "output_type": "stream",
     "text": [
      "2019-05-15 02:29:22,421 - algorithms.Algorithm - INFO   - Load checkpoint of epoch 3\n",
      "2019-05-15 02:29:23,609 - algorithms.Algorithm - INFO   - Initialize optimizer: sgd with params: {'LUT_lr': [(10, 0.01), (20, 0.002), (30, 0.0004), (40, 8e-05)], 'nesterov': True, 'optim_type': 'sgd', 'lr': 0.1, 'weight_decay': 0.0005, 'momentum': 0.9} for netwotk: classifier\n"
     ]
    }
   ],
   "source": [
    "if args_opt.cuda: # enable cuda\n",
    "#     if torch.cuda.device_count() > 1:\n",
    "#         algorithm = nn.DataParallel(algorithm)\n",
    "    algorithm.load_to_gpu()\n",
    "#     algorithm.to(device)\n",
    "if args_opt.checkpoint > 0: # load checkpoint\n",
    "    algorithm.load_checkpoint(args_opt.checkpoint, train= (not args_opt.evaluate))"
   ]
  },
  {
   "cell_type": "code",
   "execution_count": null,
   "metadata": {
    "scrolled": false
   },
   "outputs": [
    {
     "name": "stderr",
     "output_type": "stream",
     "text": [
      "2019-05-15 02:29:24,822 - algorithms.Algorithm - INFO   - Training epoch [  4 /  40]\n",
      "2019-05-15 02:29:24,825 - algorithms.Algorithm - INFO   - ==> Set to classifier optimizer lr = 0.0100000000\n",
      "2019-05-15 02:29:24,826 - algorithms.Algorithm - INFO   - Training: Custom_NonLinearClassifiers_ImageNet_RotNet_AlexNet_Features_64\n",
      "  1%|          | 4/427 [00:20<40:30,  5.75s/it]  2019-05-15 02:29:49,477 - algorithms.Algorithm - INFO   - ==> Iteration [  4][   5 /  426]: {'process_time': 70.7293, 'prec5_c1': 61.0667, 'loss': 3.233, 'prec1_c1': 35.6, 'load_time': 29.2707}\n",
      "  2%|▏         | 9/427 [00:42<32:22,  4.65s/it]2019-05-15 02:30:12,098 - algorithms.Algorithm - INFO   - ==> Iteration [  4][  10 /  426]: {'process_time': 65.9289, 'prec5_c1': 59.7333, 'loss': 3.2706, 'prec1_c1': 33.8667, 'load_time': 34.0711}\n",
      "  3%|▎         | 14/427 [01:04<30:38,  4.45s/it]2019-05-15 02:30:33,514 - algorithms.Algorithm - INFO   - ==> Iteration [  4][  15 /  426]: {'process_time': 62.2315, 'prec5_c1': 58.6222, 'loss': 3.328, 'prec1_c1': 33.4222, 'load_time': 37.7685}\n",
      "  4%|▍         | 19/427 [01:27<31:45,  4.67s/it]2019-05-15 02:30:57,459 - algorithms.Algorithm - INFO   - ==> Iteration [  4][  20 /  426]: {'process_time': 61.2289, 'prec5_c1': 57.7, 'loss': 3.3432, 'prec1_c1': 32.9, 'load_time': 38.7711}\n",
      "  6%|▌         | 24/427 [01:50<31:23,  4.67s/it]2019-05-15 02:31:21,222 - algorithms.Algorithm - INFO   - ==> Iteration [  4][  25 /  426]: {'process_time': 61.4934, 'prec5_c1': 57.5467, 'loss': 3.3306, 'prec1_c1': 32.7733, 'load_time': 38.5066}\n",
      "  7%|▋         | 29/427 [02:15<31:23,  4.73s/it]2019-05-15 02:31:44,228 - algorithms.Algorithm - INFO   - ==> Iteration [  4][  30 /  426]: {'process_time': 61.3853, 'prec5_c1': 57.7333, 'loss': 3.3102, 'prec1_c1': 33.4889, 'load_time': 38.6147}\n",
      "  8%|▊         | 34/427 [02:37<30:11,  4.61s/it]2019-05-15 02:32:07,603 - algorithms.Algorithm - INFO   - ==> Iteration [  4][  35 /  426]: {'process_time': 62.265, 'prec5_c1': 58.0381, 'loss': 3.3052, 'prec1_c1': 33.7524, 'load_time': 37.735}\n",
      "  9%|▉         | 39/427 [03:02<31:33,  4.88s/it]2019-05-15 02:32:31,817 - algorithms.Algorithm - INFO   - ==> Iteration [  4][  40 /  426]: {'process_time': 62.8854, 'prec5_c1': 57.6, 'loss': 3.3174, 'prec1_c1': 33.65, 'load_time': 37.1146}\n",
      " 10%|█         | 44/427 [03:26<30:34,  4.79s/it]2019-05-15 02:32:55,423 - algorithms.Algorithm - INFO   - ==> Iteration [  4][  45 /  426]: {'process_time': 63.0536, 'prec5_c1': 57.763, 'loss': 3.3173, 'prec1_c1': 33.7926, 'load_time': 36.9464}\n",
      " 11%|█▏        | 49/427 [03:49<30:03,  4.77s/it]2019-05-15 02:33:18,621 - algorithms.Algorithm - INFO   - ==> Iteration [  4][  50 /  426]: {'process_time': 63.0301, 'prec5_c1': 58.0533, 'loss': 3.3078, 'prec1_c1': 33.9733, 'load_time': 36.9699}\n",
      " 13%|█▎        | 54/427 [04:13<29:47,  4.79s/it]2019-05-15 02:33:43,617 - algorithms.Algorithm - INFO   - ==> Iteration [  4][  55 /  426]: {'process_time': 63.7648, 'prec5_c1': 58.0364, 'loss': 3.3116, 'prec1_c1': 33.9758, 'load_time': 36.2352}\n",
      " 14%|█▍        | 59/427 [04:37<28:17,  4.61s/it]2019-05-15 02:34:05,908 - algorithms.Algorithm - INFO   - ==> Iteration [  4][  60 /  426]: {'process_time': 63.692, 'prec5_c1': 58.1222, 'loss': 3.3117, 'prec1_c1': 34.1222, 'load_time': 36.308}\n",
      " 15%|█▍        | 64/427 [04:59<27:11,  4.49s/it]2019-05-15 02:34:28,625 - algorithms.Algorithm - INFO   - ==> Iteration [  4][  65 /  426]: {'process_time': 64.2094, 'prec5_c1': 58.0103, 'loss': 3.3141, 'prec1_c1': 34.1026, 'load_time': 35.7906}\n",
      " 16%|█▌        | 69/427 [05:23<28:23,  4.76s/it]2019-05-15 02:34:52,494 - algorithms.Algorithm - INFO   - ==> Iteration [  4][  70 /  426]: {'process_time': 64.77, 'prec5_c1': 57.8476, 'loss': 3.3213, 'prec1_c1': 33.8476, 'load_time': 35.23}\n",
      " 17%|█▋        | 74/427 [05:48<29:17,  4.98s/it]2019-05-15 02:35:19,021 - algorithms.Algorithm - INFO   - ==> Iteration [  4][  75 /  426]: {'process_time': 65.6646, 'prec5_c1': 57.6978, 'loss': 3.3292, 'prec1_c1': 33.7244, 'load_time': 34.3354}\n",
      " 19%|█▊        | 79/427 [06:14<29:28,  5.08s/it]2019-05-15 02:35:45,165 - algorithms.Algorithm - INFO   - ==> Iteration [  4][  80 /  426]: {'process_time': 65.753, 'prec5_c1': 57.7583, 'loss': 3.3272, 'prec1_c1': 33.925, 'load_time': 34.247}\n",
      " 20%|█▉        | 84/427 [06:39<28:36,  5.00s/it]2019-05-15 02:36:09,838 - algorithms.Algorithm - INFO   - ==> Iteration [  4][  85 /  426]: {'process_time': 66.3521, 'prec5_c1': 57.6078, 'loss': 3.3341, 'prec1_c1': 33.7098, 'load_time': 33.6479}\n",
      " 21%|██        | 89/427 [07:04<27:28,  4.88s/it]2019-05-15 02:36:34,027 - algorithms.Algorithm - INFO   - ==> Iteration [  4][  90 /  426]: {'process_time': 66.6693, 'prec5_c1': 57.4667, 'loss': 3.3376, 'prec1_c1': 33.6148, 'load_time': 33.3307}\n",
      " 22%|██▏       | 94/427 [07:26<24:56,  4.49s/it]2019-05-15 02:36:56,480 - algorithms.Algorithm - INFO   - ==> Iteration [  4][  95 /  426]: {'process_time': 66.6634, 'prec5_c1': 57.4035, 'loss': 3.3376, 'prec1_c1': 33.586, 'load_time': 33.3366}\n",
      " 23%|██▎       | 99/427 [07:49<24:06,  4.41s/it]2019-05-15 02:37:19,387 - algorithms.Algorithm - INFO   - ==> Iteration [  4][ 100 /  426]: {'process_time': 67.1414, 'prec5_c1': 57.46, 'loss': 3.3365, 'prec1_c1': 33.62, 'load_time': 32.8586}\n",
      " 24%|██▍       | 104/427 [08:12<25:01,  4.65s/it]2019-05-15 02:37:42,557 - algorithms.Algorithm - INFO   - ==> Iteration [  4][ 105 /  426]: {'process_time': 67.8896, 'prec5_c1': 57.3206, 'loss': 3.3402, 'prec1_c1': 33.581, 'load_time': 32.1104}\n",
      " 26%|██▌       | 109/427 [08:35<24:03,  4.54s/it]2019-05-15 02:38:04,360 - algorithms.Algorithm - INFO   - ==> Iteration [  4][ 110 /  426]: {'process_time': 67.8557, 'prec5_c1': 57.4, 'loss': 3.3395, 'prec1_c1': 33.6, 'load_time': 32.1443}\n",
      " 27%|██▋       | 114/427 [08:58<25:06,  4.81s/it]2019-05-15 02:38:27,904 - algorithms.Algorithm - INFO   - ==> Iteration [  4][ 115 /  426]: {'process_time': 67.5963, 'prec5_c1': 57.2754, 'loss': 3.343, 'prec1_c1': 33.571, 'load_time': 32.4037}\n",
      " 28%|██▊       | 119/427 [09:20<22:40,  4.42s/it]2019-05-15 02:38:49,486 - algorithms.Algorithm - INFO   - ==> Iteration [  4][ 120 /  426]: {'process_time': 67.1553, 'prec5_c1': 57.2556, 'loss': 3.3432, 'prec1_c1': 33.4833, 'load_time': 32.8447}\n",
      " 29%|██▉       | 124/427 [09:42<23:12,  4.60s/it]2019-05-15 02:39:12,128 - algorithms.Algorithm - INFO   - ==> Iteration [  4][ 125 /  426]: {'process_time': 66.9026, 'prec5_c1': 57.1787, 'loss': 3.3435, 'prec1_c1': 33.4187, 'load_time': 33.0974}\n",
      " 30%|███       | 129/427 [10:04<21:40,  4.36s/it]2019-05-15 02:39:34,239 - algorithms.Algorithm - INFO   - ==> Iteration [  4][ 130 /  426]: {'process_time': 66.7832, 'prec5_c1': 57.2359, 'loss': 3.3395, 'prec1_c1': 33.4462, 'load_time': 33.2168}\n",
      " 31%|███▏      | 134/427 [10:27<22:04,  4.52s/it]2019-05-15 02:39:57,428 - algorithms.Algorithm - INFO   - ==> Iteration [  4][ 135 /  426]: {'process_time': 67.1683, 'prec5_c1': 57.2741, 'loss': 3.341, 'prec1_c1': 33.4222, 'load_time': 32.8317}\n",
      " 33%|███▎      | 139/427 [10:51<22:50,  4.76s/it]2019-05-15 02:40:21,118 - algorithms.Algorithm - INFO   - ==> Iteration [  4][ 140 /  426]: {'process_time': 66.8793, 'prec5_c1': 57.1286, 'loss': 3.3486, 'prec1_c1': 33.2667, 'load_time': 33.1207}\n",
      " 34%|███▎      | 144/427 [11:14<21:50,  4.63s/it]2019-05-15 02:40:44,173 - algorithms.Algorithm - INFO   - ==> Iteration [  4][ 145 /  426]: {'process_time': 67.4477, 'prec5_c1': 57.1448, 'loss': 3.3488, 'prec1_c1': 33.246, 'load_time': 32.5523}\n",
      " 35%|███▍      | 149/427 [11:38<22:37,  4.88s/it]2019-05-15 02:41:08,418 - algorithms.Algorithm - INFO   - ==> Iteration [  4][ 150 /  426]: {'process_time': 67.6819, 'prec5_c1': 57.2311, 'loss': 3.3453, 'prec1_c1': 33.2667, 'load_time': 32.3181}\n",
      " 36%|███▌      | 154/427 [12:04<23:17,  5.12s/it]2019-05-15 02:41:34,062 - algorithms.Algorithm - INFO   - ==> Iteration [  4][ 155 /  426]: {'process_time': 68.1929, 'prec5_c1': 57.2473, 'loss': 3.3457, 'prec1_c1': 33.2688, 'load_time': 31.8071}\n",
      " 37%|███▋      | 159/427 [12:27<20:59,  4.70s/it]2019-05-15 02:41:56,707 - algorithms.Algorithm - INFO   - ==> Iteration [  4][ 160 /  426]: {'process_time': 68.091, 'prec5_c1': 57.2167, 'loss': 3.3461, 'prec1_c1': 33.2542, 'load_time': 31.909}\n"
     ]
    },
    {
     "name": "stderr",
     "output_type": "stream",
     "text": [
      " 38%|███▊      | 164/427 [12:49<19:56,  4.55s/it]2019-05-15 02:42:19,139 - algorithms.Algorithm - INFO   - ==> Iteration [  4][ 165 /  426]: {'process_time': 67.9767, 'prec5_c1': 57.1434, 'loss': 3.3463, 'prec1_c1': 33.2485, 'load_time': 32.0233}\n",
      " 40%|███▉      | 169/427 [13:12<18:56,  4.41s/it]2019-05-15 02:42:42,139 - algorithms.Algorithm - INFO   - ==> Iteration [  4][ 170 /  426]: {'process_time': 68.1958, 'prec5_c1': 57.0353, 'loss': 3.3499, 'prec1_c1': 33.1608, 'load_time': 31.8042}\n",
      " 41%|████      | 174/427 [13:36<20:20,  4.82s/it]2019-05-15 02:43:06,652 - algorithms.Algorithm - INFO   - ==> Iteration [  4][ 175 /  426]: {'process_time': 68.7671, 'prec5_c1': 57.0362, 'loss': 3.3501, 'prec1_c1': 33.1276, 'load_time': 31.2329}\n",
      " 42%|████▏     | 179/427 [14:01<19:50,  4.80s/it]2019-05-15 02:43:31,442 - algorithms.Algorithm - INFO   - ==> Iteration [  4][ 180 /  426]: {'process_time': 69.0238, 'prec5_c1': 57.0926, 'loss': 3.3487, 'prec1_c1': 33.1963, 'load_time': 30.9762}\n",
      " 43%|████▎     | 184/427 [14:25<19:13,  4.75s/it]2019-05-15 02:43:54,867 - algorithms.Algorithm - INFO   - ==> Iteration [  4][ 185 /  426]: {'process_time': 69.0174, 'prec5_c1': 57.2108, 'loss': 3.3463, 'prec1_c1': 33.2757, 'load_time': 30.9826}\n",
      " 44%|████▍     | 189/427 [14:49<19:15,  4.86s/it]2019-05-15 02:44:18,536 - algorithms.Algorithm - INFO   - ==> Iteration [  4][ 190 /  426]: {'process_time': 69.2313, 'prec5_c1': 57.3263, 'loss': 3.3441, 'prec1_c1': 33.3123, 'load_time': 30.7687}\n",
      " 45%|████▌     | 194/427 [15:11<17:43,  4.57s/it]2019-05-15 02:44:41,005 - algorithms.Algorithm - INFO   - ==> Iteration [  4][ 195 /  426]: {'process_time': 69.1787, 'prec5_c1': 57.2991, 'loss': 3.3447, 'prec1_c1': 33.3162, 'load_time': 30.8213}\n",
      " 47%|████▋     | 199/427 [15:33<16:32,  4.35s/it]2019-05-15 02:45:02,776 - algorithms.Algorithm - INFO   - ==> Iteration [  4][ 200 /  426]: {'process_time': 68.9407, 'prec5_c1': 57.2467, 'loss': 3.3469, 'prec1_c1': 33.2233, 'load_time': 31.0593}\n",
      " 48%|████▊     | 204/427 [15:55<15:59,  4.30s/it]2019-05-15 02:45:24,312 - algorithms.Algorithm - INFO   - ==> Iteration [  4][ 205 /  426]: {'process_time': 68.7013, 'prec5_c1': 57.2195, 'loss': 3.3468, 'prec1_c1': 33.2, 'load_time': 31.2987}\n",
      " 49%|████▉     | 209/427 [16:18<16:35,  4.57s/it]2019-05-15 02:45:48,207 - algorithms.Algorithm - INFO   - ==> Iteration [  4][ 210 /  426]: {'process_time': 68.7442, 'prec5_c1': 57.1905, 'loss': 3.3483, 'prec1_c1': 33.1492, 'load_time': 31.2558}\n",
      " 50%|█████     | 214/427 [16:40<15:29,  4.36s/it]2019-05-15 02:46:10,125 - algorithms.Algorithm - INFO   - ==> Iteration [  4][ 215 /  426]: {'process_time': 68.8664, 'prec5_c1': 57.1163, 'loss': 3.3512, 'prec1_c1': 33.1442, 'load_time': 31.1336}\n",
      " 51%|█████▏    | 219/427 [17:03<15:02,  4.34s/it]2019-05-15 02:46:32,320 - algorithms.Algorithm - INFO   - ==> Iteration [  4][ 220 /  426]: {'process_time': 68.9533, 'prec5_c1': 57.0606, 'loss': 3.3541, 'prec1_c1': 33.0879, 'load_time': 31.0467}\n",
      " 52%|█████▏    | 224/427 [17:26<15:08,  4.47s/it]2019-05-15 02:46:56,070 - algorithms.Algorithm - INFO   - ==> Iteration [  4][ 225 /  426]: {'process_time': 68.8037, 'prec5_c1': 57.0133, 'loss': 3.3532, 'prec1_c1': 33.0874, 'load_time': 31.1963}\n",
      " 54%|█████▎    | 229/427 [17:50<15:51,  4.81s/it]2019-05-15 02:47:19,784 - algorithms.Algorithm - INFO   - ==> Iteration [  4][ 230 /  426]: {'process_time': 68.6096, 'prec5_c1': 56.971, 'loss': 3.3532, 'prec1_c1': 33.0783, 'load_time': 31.3904}\n",
      " 55%|█████▍    | 234/427 [18:11<13:54,  4.32s/it]2019-05-15 02:47:41,008 - algorithms.Algorithm - INFO   - ==> Iteration [  4][ 235 /  426]: {'process_time': 68.5336, 'prec5_c1': 56.9504, 'loss': 3.3564, 'prec1_c1': 33.0894, 'load_time': 31.4664}\n",
      " 56%|█████▌    | 239/427 [18:32<12:50,  4.10s/it]2019-05-15 02:48:02,585 - algorithms.Algorithm - INFO   - ==> Iteration [  4][ 240 /  426]: {'process_time': 68.2471, 'prec5_c1': 56.8806, 'loss': 3.3583, 'prec1_c1': 33.0389, 'load_time': 31.7529}\n",
      " 57%|█████▋    | 244/427 [18:57<15:15,  5.01s/it]2019-05-15 02:48:27,453 - algorithms.Algorithm - INFO   - ==> Iteration [  4][ 245 /  426]: {'process_time': 68.0693, 'prec5_c1': 56.8735, 'loss': 3.3596, 'prec1_c1': 33.0259, 'load_time': 31.9307}\n",
      " 58%|█████▊    | 249/427 [19:21<13:54,  4.69s/it]2019-05-15 02:48:50,122 - algorithms.Algorithm - INFO   - ==> Iteration [  4][ 250 /  426]: {'process_time': 67.8159, 'prec5_c1': 56.8827, 'loss': 3.3587, 'prec1_c1': 33.048, 'load_time': 32.1841}\n",
      " 59%|█████▉    | 254/427 [19:44<13:37,  4.72s/it]2019-05-15 02:49:14,037 - algorithms.Algorithm - INFO   - ==> Iteration [  4][ 255 /  426]: {'process_time': 67.6509, 'prec5_c1': 56.9229, 'loss': 3.3576, 'prec1_c1': 33.0144, 'load_time': 32.3491}\n",
      " 61%|██████    | 259/427 [20:08<13:18,  4.75s/it]2019-05-15 02:49:37,476 - algorithms.Algorithm - INFO   - ==> Iteration [  4][ 260 /  426]: {'process_time': 67.6788, 'prec5_c1': 56.9179, 'loss': 3.3574, 'prec1_c1': 33.0231, 'load_time': 32.3212}\n",
      " 62%|██████▏   | 264/427 [20:30<12:03,  4.44s/it]2019-05-15 02:49:59,453 - algorithms.Algorithm - INFO   - ==> Iteration [  4][ 265 /  426]: {'process_time': 67.4574, 'prec5_c1': 56.9208, 'loss': 3.3557, 'prec1_c1': 33.0164, 'load_time': 32.5426}\n",
      " 63%|██████▎   | 269/427 [20:52<11:39,  4.43s/it]2019-05-15 02:50:21,205 - algorithms.Algorithm - INFO   - ==> Iteration [  4][ 270 /  426]: {'process_time': 67.1992, 'prec5_c1': 56.9778, 'loss': 3.3517, 'prec1_c1': 33.0667, 'load_time': 32.8008}\n",
      " 64%|██████▍   | 274/427 [21:11<10:03,  3.94s/it]2019-05-15 02:50:40,498 - algorithms.Algorithm - INFO   - ==> Iteration [  4][ 275 /  426]: {'process_time': 66.9154, 'prec5_c1': 56.977, 'loss': 3.3504, 'prec1_c1': 33.0618, 'load_time': 33.0846}\n",
      " 65%|██████▌   | 279/427 [21:32<10:23,  4.21s/it]2019-05-15 02:51:02,587 - algorithms.Algorithm - INFO   - ==> Iteration [  4][ 280 /  426]: {'process_time': 66.7638, 'prec5_c1': 56.95, 'loss': 3.3515, 'prec1_c1': 33.0476, 'load_time': 33.2362}\n",
      " 67%|██████▋   | 284/427 [21:56<10:51,  4.56s/it]2019-05-15 02:51:25,541 - algorithms.Algorithm - INFO   - ==> Iteration [  4][ 285 /  426]: {'process_time': 66.7658, 'prec5_c1': 56.9591, 'loss': 3.3513, 'prec1_c1': 33.0152, 'load_time': 33.2342}\n",
      " 68%|██████▊   | 289/427 [22:18<10:23,  4.52s/it]2019-05-15 02:51:47,788 - algorithms.Algorithm - INFO   - ==> Iteration [  4][ 290 /  426]: {'process_time': 66.6862, 'prec5_c1': 56.9448, 'loss': 3.3504, 'prec1_c1': 32.9977, 'load_time': 33.3138}\n",
      " 69%|██████▉   | 294/427 [22:42<10:35,  4.78s/it]2019-05-15 02:52:11,321 - algorithms.Algorithm - INFO   - ==> Iteration [  4][ 295 /  426]: {'process_time': 66.5958, 'prec5_c1': 56.922, 'loss': 3.3507, 'prec1_c1': 32.9808, 'load_time': 33.4042}\n",
      " 70%|███████   | 299/427 [23:04<09:26,  4.42s/it]2019-05-15 02:52:33,283 - algorithms.Algorithm - INFO   - ==> Iteration [  4][ 300 /  426]: {'process_time': 66.662, 'prec5_c1': 56.9422, 'loss': 3.3492, 'prec1_c1': 33.0044, 'load_time': 33.338}\n",
      " 71%|███████   | 304/427 [23:25<08:52,  4.33s/it]2019-05-15 02:52:54,101 - algorithms.Algorithm - INFO   - ==> Iteration [  4][ 305 /  426]: {'process_time': 66.571, 'prec5_c1': 57.0098, 'loss': 3.3463, 'prec1_c1': 33.0732, 'load_time': 33.429}\n",
      " 72%|███████▏  | 309/427 [23:46<08:40,  4.41s/it]2019-05-15 02:53:15,518 - algorithms.Algorithm - INFO   - ==> Iteration [  4][ 310 /  426]: {'process_time': 66.541, 'prec5_c1': 56.9871, 'loss': 3.3475, 'prec1_c1': 33.0258, 'load_time': 33.459}\n",
      " 74%|███████▎  | 314/427 [24:06<07:37,  4.05s/it]2019-05-15 02:53:35,519 - algorithms.Algorithm - INFO   - ==> Iteration [  4][ 315 /  426]: {'process_time': 66.3686, 'prec5_c1': 57.0286, 'loss': 3.3449, 'prec1_c1': 33.0794, 'load_time': 33.6314}\n",
      " 75%|███████▍  | 319/427 [24:27<07:36,  4.22s/it]2019-05-15 02:53:57,724 - algorithms.Algorithm - INFO   - ==> Iteration [  4][ 320 /  426]: {'process_time': 66.2935, 'prec5_c1': 57.0146, 'loss': 3.3458, 'prec1_c1': 33.0458, 'load_time': 33.7065}\n",
      " 76%|███████▌  | 324/427 [24:50<07:45,  4.52s/it]2019-05-15 02:54:19,686 - algorithms.Algorithm - INFO   - ==> Iteration [  4][ 325 /  426]: {'process_time': 66.3048, 'prec5_c1': 57.0236, 'loss': 3.3457, 'prec1_c1': 33.0236, 'load_time': 33.6952}\n",
      " 77%|███████▋  | 329/427 [25:12<07:09,  4.38s/it]2019-05-15 02:54:41,194 - algorithms.Algorithm - INFO   - ==> Iteration [  4][ 330 /  426]: {'process_time': 66.3818, 'prec5_c1': 57.0222, 'loss': 3.3459, 'prec1_c1': 33.0101, 'load_time': 33.6182}\n"
     ]
    },
    {
     "name": "stderr",
     "output_type": "stream",
     "text": [
      " 78%|███████▊  | 334/427 [25:35<07:02,  4.54s/it]2019-05-15 02:55:04,319 - algorithms.Algorithm - INFO   - ==> Iteration [  4][ 335 /  426]: {'process_time': 66.3022, 'prec5_c1': 57.0269, 'loss': 3.3441, 'prec1_c1': 33.0607, 'load_time': 33.6978}\n",
      " 79%|███████▉  | 339/427 [25:56<06:12,  4.23s/it]2019-05-15 02:55:24,724 - algorithms.Algorithm - INFO   - ==> Iteration [  4][ 340 /  426]: {'process_time': 66.2218, 'prec5_c1': 57.0529, 'loss': 3.3431, 'prec1_c1': 33.0706, 'load_time': 33.7782}\n",
      " 81%|████████  | 344/427 [26:17<06:05,  4.40s/it]2019-05-15 02:55:46,623 - algorithms.Algorithm - INFO   - ==> Iteration [  4][ 345 /  426]: {'process_time': 66.0971, 'prec5_c1': 57.028, 'loss': 3.3431, 'prec1_c1': 33.0609, 'load_time': 33.9029}\n",
      " 82%|████████▏ | 349/427 [26:38<05:22,  4.14s/it]2019-05-15 02:56:07,152 - algorithms.Algorithm - INFO   - ==> Iteration [  4][ 350 /  426]: {'process_time': 65.9853, 'prec5_c1': 57.0057, 'loss': 3.3431, 'prec1_c1': 33.059, 'load_time': 34.0147}\n",
      " 83%|████████▎ | 354/427 [27:00<05:24,  4.44s/it]2019-05-15 02:56:30,169 - algorithms.Algorithm - INFO   - ==> Iteration [  4][ 355 /  426]: {'process_time': 65.9595, 'prec5_c1': 56.9709, 'loss': 3.3436, 'prec1_c1': 33.0197, 'load_time': 34.0405}\n",
      " 84%|████████▍ | 359/427 [27:22<04:55,  4.35s/it]2019-05-15 02:56:51,358 - algorithms.Algorithm - INFO   - ==> Iteration [  4][ 360 /  426]: {'process_time': 65.9641, 'prec5_c1': 56.9389, 'loss': 3.3442, 'prec1_c1': 32.9944, 'load_time': 34.0359}\n",
      " 85%|████████▌ | 364/427 [27:44<04:33,  4.35s/it]2019-05-15 02:57:14,319 - algorithms.Algorithm - INFO   - ==> Iteration [  4][ 365 /  426]: {'process_time': 66.0357, 'prec5_c1': 56.9023, 'loss': 3.3452, 'prec1_c1': 32.968, 'load_time': 33.9643}\n",
      " 86%|████████▋ | 369/427 [28:06<04:08,  4.29s/it]2019-05-15 02:57:35,446 - algorithms.Algorithm - INFO   - ==> Iteration [  4][ 370 /  426]: {'process_time': 66.0427, 'prec5_c1': 56.8559, 'loss': 3.3462, 'prec1_c1': 32.9459, 'load_time': 33.9573}\n",
      " 88%|████████▊ | 374/427 [28:29<03:59,  4.53s/it]2019-05-15 02:57:58,312 - algorithms.Algorithm - INFO   - ==> Iteration [  4][ 375 /  426]: {'process_time': 66.0056, 'prec5_c1': 56.8124, 'loss': 3.3481, 'prec1_c1': 32.8587, 'load_time': 33.9944}\n",
      " 89%|████████▉ | 379/427 [28:50<03:30,  4.38s/it]2019-05-15 02:58:20,898 - algorithms.Algorithm - INFO   - ==> Iteration [  4][ 380 /  426]: {'process_time': 65.9468, 'prec5_c1': 56.7439, 'loss': 3.3494, 'prec1_c1': 32.8228, 'load_time': 34.0532}\n",
      " 90%|████████▉ | 384/427 [29:14<03:18,  4.62s/it]2019-05-15 02:58:43,270 - algorithms.Algorithm - INFO   - ==> Iteration [  4][ 385 /  426]: {'process_time': 65.9405, 'prec5_c1': 56.7203, 'loss': 3.3495, 'prec1_c1': 32.826, 'load_time': 34.0595}\n",
      " 91%|█████████ | 389/427 [29:36<02:49,  4.46s/it]2019-05-15 02:59:05,442 - algorithms.Algorithm - INFO   - ==> Iteration [  4][ 390 /  426]: {'process_time': 65.9561, 'prec5_c1': 56.735, 'loss': 3.3485, 'prec1_c1': 32.8427, 'load_time': 34.0439}\n",
      " 92%|█████████▏| 394/427 [29:58<02:28,  4.49s/it]2019-05-15 02:59:28,556 - algorithms.Algorithm - INFO   - ==> Iteration [  4][ 395 /  426]: {'process_time': 65.9216, 'prec5_c1': 56.773, 'loss': 3.3466, 'prec1_c1': 32.8709, 'load_time': 34.0784}\n",
      " 93%|█████████▎| 399/427 [30:22<02:10,  4.67s/it]2019-05-15 02:59:52,806 - algorithms.Algorithm - INFO   - ==> Iteration [  4][ 400 /  426]: {'process_time': 66.0201, 'prec5_c1': 56.795, 'loss': 3.3461, 'prec1_c1': 32.8483, 'load_time': 33.9799}\n",
      " 95%|█████████▍| 404/427 [30:45<01:44,  4.52s/it]2019-05-15 03:00:14,991 - algorithms.Algorithm - INFO   - ==> Iteration [  4][ 405 /  426]: {'process_time': 65.9813, 'prec5_c1': 56.7918, 'loss': 3.3454, 'prec1_c1': 32.8626, 'load_time': 34.0187}\n",
      " 96%|█████████▌| 409/427 [31:09<01:27,  4.86s/it]2019-05-15 03:00:38,680 - algorithms.Algorithm - INFO   - ==> Iteration [  4][ 410 /  426]: {'process_time': 65.8577, 'prec5_c1': 56.8325, 'loss': 3.3435, 'prec1_c1': 32.9008, 'load_time': 34.1423}\n",
      " 97%|█████████▋| 414/427 [31:31<00:56,  4.36s/it]2019-05-15 03:01:00,836 - algorithms.Algorithm - INFO   - ==> Iteration [  4][ 415 /  426]: {'process_time': 65.7513, 'prec5_c1': 56.8145, 'loss': 3.3444, 'prec1_c1': 32.8755, 'load_time': 34.2487}\n",
      " 98%|█████████▊| 419/427 [31:53<00:35,  4.49s/it]2019-05-15 03:01:23,368 - algorithms.Algorithm - INFO   - ==> Iteration [  4][ 420 /  426]: {'process_time': 65.7161, 'prec5_c1': 56.8064, 'loss': 3.3448, 'prec1_c1': 32.854, 'load_time': 34.2839}\n",
      " 99%|█████████▉| 424/427 [32:17<00:14,  4.72s/it]2019-05-15 03:01:47,159 - algorithms.Algorithm - INFO   - ==> Iteration [  4][ 425 /  426]: {'process_time': 65.7087, 'prec5_c1': 56.7922, 'loss': 3.3452, 'prec1_c1': 32.8173, 'load_time': 34.2913}\n",
      "100%|██████████| 427/427 [32:34<00:00,  5.30s/it]\n",
      "2019-05-15 03:01:59,540 - algorithms.Algorithm - INFO   - ==> Training stats: {'process_time': 65.7834, 'prec5_c1': 56.7752, 'loss': 3.3458, 'prec1_c1': 32.808, 'load_time': 34.2166}\n",
      "2019-05-15 03:02:00,859 - algorithms.Algorithm - INFO   - Evaluating: Custom_NonLinearClassifiers_ImageNet_RotNet_AlexNet_Features_64\n",
      "2019-05-15 03:02:00,865 - algorithms.Algorithm - INFO   - ==> Dataset: custom_supervised/val [64000 images]\n",
      "100%|██████████| 427/427 [24:06<00:00,  2.43s/it]\n",
      "2019-05-15 03:26:07,254 - algorithms.Algorithm - INFO   - ==> Results: {'process_time': 54.1057, 'prec5_c1': 42.6151, 'loss': 4.0221, 'prec1_c1': 20.9118, 'load_time': 45.8943}\n",
      "2019-05-15 03:26:07,280 - algorithms.Algorithm - INFO   - ==> Evaluation stats: {'process_time': 54.1057, 'prec5_c1': 42.6151, 'loss': 4.0221, 'prec1_c1': 20.9118, 'load_time': 45.8943}\n",
      "2019-05-15 03:26:07,281 - algorithms.Algorithm - INFO   - Training epoch [  5 /  40]\n",
      "2019-05-15 03:26:07,283 - algorithms.Algorithm - INFO   - ==> Set to classifier optimizer lr = 0.0100000000\n",
      "2019-05-15 03:26:07,284 - algorithms.Algorithm - INFO   - Training: Custom_NonLinearClassifiers_ImageNet_RotNet_AlexNet_Features_64\n",
      "  1%|          | 4/427 [00:22<41:03,  5.82s/it]2019-05-15 03:26:34,057 - algorithms.Algorithm - INFO   - ==> Iteration [  5][   5 /  426]: {'process_time': 69.7296, 'prec5_c1': 62.5333, 'loss': 2.9632, 'prec1_c1': 40.0, 'load_time': 30.2704}\n",
      "  2%|▏         | 9/427 [00:46<34:43,  4.98s/it]2019-05-15 03:26:58,305 - algorithms.Algorithm - INFO   - ==> Iteration [  5][  10 /  426]: {'process_time': 66.9605, 'prec5_c1': 63.7333, 'loss': 2.984, 'prec1_c1': 40.2, 'load_time': 33.0395}\n",
      "  3%|▎         | 14/427 [01:13<36:08,  5.25s/it]2019-05-15 03:27:25,003 - algorithms.Algorithm - INFO   - ==> Iteration [  5][  15 /  426]: {'process_time': 67.6719, 'prec5_c1': 64.1333, 'loss': 2.9786, 'prec1_c1': 40.4, 'load_time': 32.3281}\n",
      "  4%|▍         | 19/427 [01:37<35:21,  5.20s/it]2019-05-15 03:27:49,418 - algorithms.Algorithm - INFO   - ==> Iteration [  5][  20 /  426]: {'process_time': 66.1554, 'prec5_c1': 63.0667, 'loss': 3.0107, 'prec1_c1': 39.6333, 'load_time': 33.8446}\n",
      "  6%|▌         | 24/427 [02:01<31:50,  4.74s/it]2019-05-15 03:28:14,503 - algorithms.Algorithm - INFO   - ==> Iteration [  5][  25 /  426]: {'process_time': 69.1222, 'prec5_c1': 63.6533, 'loss': 2.9943, 'prec1_c1': 39.68, 'load_time': 30.8778}\n",
      "  7%|▋         | 29/427 [02:26<32:35,  4.91s/it]2019-05-15 03:28:38,319 - algorithms.Algorithm - INFO   - ==> Iteration [  5][  30 /  426]: {'process_time': 68.1278, 'prec5_c1': 63.6222, 'loss': 2.9933, 'prec1_c1': 39.8889, 'load_time': 31.8722}\n",
      "  8%|▊         | 34/427 [02:50<32:22,  4.94s/it]2019-05-15 03:29:02,886 - algorithms.Algorithm - INFO   - ==> Iteration [  5][  35 /  426]: {'process_time': 68.3096, 'prec5_c1': 63.6952, 'loss': 2.9966, 'prec1_c1': 39.9238, 'load_time': 31.6904}\n",
      "  9%|▉         | 39/427 [03:15<31:55,  4.94s/it]2019-05-15 03:29:27,248 - algorithms.Algorithm - INFO   - ==> Iteration [  5][  40 /  426]: {'process_time': 68.486, 'prec5_c1': 63.9333, 'loss': 2.9994, 'prec1_c1': 39.8833, 'load_time': 31.514}\n",
      " 10%|█         | 44/427 [03:39<31:04,  4.87s/it]2019-05-15 03:29:50,950 - algorithms.Algorithm - INFO   - ==> Iteration [  5][  45 /  426]: {'process_time': 69.5862, 'prec5_c1': 64.0148, 'loss': 2.9872, 'prec1_c1': 39.9852, 'load_time': 30.4138}\n",
      " 11%|█▏        | 49/427 [04:03<30:29,  4.84s/it]2019-05-15 03:30:15,550 - algorithms.Algorithm - INFO   - ==> Iteration [  5][  50 /  426]: {'process_time': 71.4037, 'prec5_c1': 64.04, 'loss': 2.9835, 'prec1_c1': 40.0933, 'load_time': 28.5963}\n"
     ]
    },
    {
     "name": "stderr",
     "output_type": "stream",
     "text": [
      " 13%|█▎        | 54/427 [04:28<31:35,  5.08s/it]2019-05-15 03:30:41,259 - algorithms.Algorithm - INFO   - ==> Iteration [  5][  55 /  426]: {'process_time': 71.2601, 'prec5_c1': 64.0606, 'loss': 2.9829, 'prec1_c1': 40.2545, 'load_time': 28.7399}\n",
      " 14%|█▍        | 59/427 [04:54<31:57,  5.21s/it]2019-05-15 03:31:07,354 - algorithms.Algorithm - INFO   - ==> Iteration [  5][  60 /  426]: {'process_time': 71.318, 'prec5_c1': 64.0111, 'loss': 2.9813, 'prec1_c1': 40.2333, 'load_time': 28.682}\n",
      " 15%|█▍        | 64/427 [05:19<29:35,  4.89s/it]2019-05-15 03:31:30,907 - algorithms.Algorithm - INFO   - ==> Iteration [  5][  65 /  426]: {'process_time': 70.4303, 'prec5_c1': 64.1128, 'loss': 2.9761, 'prec1_c1': 40.3179, 'load_time': 29.5697}\n",
      " 16%|█▌        | 69/427 [05:44<30:31,  5.12s/it]2019-05-15 03:31:56,797 - algorithms.Algorithm - INFO   - ==> Iteration [  5][  70 /  426]: {'process_time': 70.3179, 'prec5_c1': 64.2857, 'loss': 2.9715, 'prec1_c1': 40.3429, 'load_time': 29.6821}\n",
      " 17%|█▋        | 74/427 [06:07<26:29,  4.50s/it]2019-05-15 03:32:19,857 - algorithms.Algorithm - INFO   - ==> Iteration [  5][  75 /  426]: {'process_time': 69.9258, 'prec5_c1': 64.4356, 'loss': 2.9693, 'prec1_c1': 40.3822, 'load_time': 30.0742}\n",
      " 19%|█▊        | 79/427 [06:31<27:03,  4.66s/it]2019-05-15 03:32:42,915 - algorithms.Algorithm - INFO   - ==> Iteration [  5][  80 /  426]: {'process_time': 69.9139, 'prec5_c1': 64.6083, 'loss': 2.9596, 'prec1_c1': 40.5667, 'load_time': 30.0861}\n",
      " 20%|█▉        | 84/427 [06:55<27:38,  4.83s/it]2019-05-15 03:33:07,048 - algorithms.Algorithm - INFO   - ==> Iteration [  5][  85 /  426]: {'process_time': 70.0197, 'prec5_c1': 64.6039, 'loss': 2.9627, 'prec1_c1': 40.4863, 'load_time': 29.9803}\n",
      " 21%|██        | 89/427 [07:18<25:19,  4.50s/it]2019-05-15 03:33:31,474 - algorithms.Algorithm - INFO   - ==> Iteration [  5][  90 /  426]: {'process_time': 70.2604, 'prec5_c1': 64.4444, 'loss': 2.9674, 'prec1_c1': 40.2, 'load_time': 29.7396}\n",
      " 22%|██▏       | 94/427 [07:43<26:30,  4.78s/it]2019-05-15 03:33:54,595 - algorithms.Algorithm - INFO   - ==> Iteration [  5][  95 /  426]: {'process_time': 70.0212, 'prec5_c1': 64.2105, 'loss': 2.9746, 'prec1_c1': 40.0281, 'load_time': 29.9788}\n",
      " 23%|██▎       | 99/427 [08:06<26:18,  4.81s/it]2019-05-15 03:34:18,760 - algorithms.Algorithm - INFO   - ==> Iteration [  5][ 100 /  426]: {'process_time': 70.1386, 'prec5_c1': 64.2667, 'loss': 2.9733, 'prec1_c1': 39.9133, 'load_time': 29.8614}\n",
      " 24%|██▍       | 104/427 [08:32<28:00,  5.20s/it]2019-05-15 03:34:44,242 - algorithms.Algorithm - INFO   - ==> Iteration [  5][ 105 /  426]: {'process_time': 69.7528, 'prec5_c1': 64.1397, 'loss': 2.9774, 'prec1_c1': 39.7714, 'load_time': 30.2472}\n",
      " 26%|██▌       | 109/427 [08:56<25:23,  4.79s/it]2019-05-15 03:35:08,155 - algorithms.Algorithm - INFO   - ==> Iteration [  5][ 110 /  426]: {'process_time': 69.7148, 'prec5_c1': 64.1939, 'loss': 2.9768, 'prec1_c1': 39.8424, 'load_time': 30.2852}\n",
      " 27%|██▋       | 114/427 [09:18<23:12,  4.45s/it]2019-05-15 03:35:30,732 - algorithms.Algorithm - INFO   - ==> Iteration [  5][ 115 /  426]: {'process_time': 69.6277, 'prec5_c1': 64.087, 'loss': 2.9774, 'prec1_c1': 39.7681, 'load_time': 30.3723}\n",
      " 28%|██▊       | 119/427 [09:41<23:05,  4.50s/it]2019-05-15 03:35:53,273 - algorithms.Algorithm - INFO   - ==> Iteration [  5][ 120 /  426]: {'process_time': 69.5776, 'prec5_c1': 63.8667, 'loss': 2.9829, 'prec1_c1': 39.6722, 'load_time': 30.4224}\n",
      " 29%|██▉       | 124/427 [10:06<24:19,  4.82s/it]2019-05-15 03:36:18,360 - algorithms.Algorithm - INFO   - ==> Iteration [  5][ 125 /  426]: {'process_time': 69.6923, 'prec5_c1': 63.936, 'loss': 2.9803, 'prec1_c1': 39.744, 'load_time': 30.3077}\n",
      " 30%|███       | 129/427 [10:28<22:30,  4.53s/it]2019-05-15 03:36:40,148 - algorithms.Algorithm - INFO   - ==> Iteration [  5][ 130 /  426]: {'process_time': 69.4507, 'prec5_c1': 63.9846, 'loss': 2.981, 'prec1_c1': 39.7744, 'load_time': 30.5493}\n",
      " 31%|███▏      | 134/427 [10:51<22:40,  4.64s/it]2019-05-15 03:37:03,328 - algorithms.Algorithm - INFO   - ==> Iteration [  5][ 135 /  426]: {'process_time': 69.717, 'prec5_c1': 64.0247, 'loss': 2.9786, 'prec1_c1': 39.8222, 'load_time': 30.283}\n",
      " 33%|███▎      | 139/427 [11:14<22:48,  4.75s/it]2019-05-15 03:37:27,352 - algorithms.Algorithm - INFO   - ==> Iteration [  5][ 140 /  426]: {'process_time': 69.806, 'prec5_c1': 64.0667, 'loss': 2.9796, 'prec1_c1': 39.8286, 'load_time': 30.194}\n",
      " 34%|███▎      | 144/427 [11:40<23:24,  4.96s/it]2019-05-15 03:37:52,114 - algorithms.Algorithm - INFO   - ==> Iteration [  5][ 145 /  426]: {'process_time': 69.8111, 'prec5_c1': 64.0276, 'loss': 2.9797, 'prec1_c1': 39.8851, 'load_time': 30.1889}\n",
      " 35%|███▍      | 149/427 [12:02<20:37,  4.45s/it]2019-05-15 03:38:14,997 - algorithms.Algorithm - INFO   - ==> Iteration [  5][ 150 /  426]: {'process_time': 69.4787, 'prec5_c1': 64.04, 'loss': 2.9807, 'prec1_c1': 39.8667, 'load_time': 30.5213}\n",
      " 36%|███▌      | 154/427 [12:25<20:41,  4.55s/it]2019-05-15 03:38:37,169 - algorithms.Algorithm - INFO   - ==> Iteration [  5][ 155 /  426]: {'process_time': 69.6069, 'prec5_c1': 64.0989, 'loss': 2.9792, 'prec1_c1': 39.8366, 'load_time': 30.3931}\n",
      " 37%|███▋      | 159/427 [12:48<20:31,  4.59s/it]2019-05-15 03:39:00,327 - algorithms.Algorithm - INFO   - ==> Iteration [  5][ 160 /  426]: {'process_time': 69.6831, 'prec5_c1': 64.0083, 'loss': 2.9835, 'prec1_c1': 39.7167, 'load_time': 30.3169}\n",
      " 38%|███▊      | 164/427 [13:13<21:26,  4.89s/it]2019-05-15 03:39:24,695 - algorithms.Algorithm - INFO   - ==> Iteration [  5][ 165 /  426]: {'process_time': 69.4276, 'prec5_c1': 64.0081, 'loss': 2.987, 'prec1_c1': 39.6606, 'load_time': 30.5724}\n",
      " 40%|███▉      | 169/427 [13:34<19:28,  4.53s/it]2019-05-15 03:39:46,447 - algorithms.Algorithm - INFO   - ==> Iteration [  5][ 170 /  426]: {'process_time': 69.3618, 'prec5_c1': 63.9176, 'loss': 2.9897, 'prec1_c1': 39.5569, 'load_time': 30.6382}\n",
      " 41%|████      | 174/427 [13:57<19:27,  4.61s/it]2019-05-15 03:40:09,665 - algorithms.Algorithm - INFO   - ==> Iteration [  5][ 175 /  426]: {'process_time': 69.4153, 'prec5_c1': 63.8819, 'loss': 2.9921, 'prec1_c1': 39.4705, 'load_time': 30.5847}\n",
      " 42%|████▏     | 179/427 [14:22<20:13,  4.89s/it]2019-05-15 03:40:35,064 - algorithms.Algorithm - INFO   - ==> Iteration [  5][ 180 /  426]: {'process_time': 69.4438, 'prec5_c1': 63.8593, 'loss': 2.9921, 'prec1_c1': 39.4593, 'load_time': 30.5562}\n",
      " 43%|████▎     | 184/427 [14:48<20:02,  4.95s/it]2019-05-15 03:40:59,987 - algorithms.Algorithm - INFO   - ==> Iteration [  5][ 185 /  426]: {'process_time': 69.5053, 'prec5_c1': 63.773, 'loss': 2.9951, 'prec1_c1': 39.3766, 'load_time': 30.4947}\n",
      " 44%|████▍     | 189/427 [15:12<19:34,  4.94s/it]2019-05-15 03:41:24,623 - algorithms.Algorithm - INFO   - ==> Iteration [  5][ 190 /  426]: {'process_time': 69.3745, 'prec5_c1': 63.7579, 'loss': 2.9956, 'prec1_c1': 39.3579, 'load_time': 30.6255}\n",
      " 45%|████▌     | 194/427 [15:36<19:05,  4.92s/it]2019-05-15 03:41:47,835 - algorithms.Algorithm - INFO   - ==> Iteration [  5][ 195 /  426]: {'process_time': 69.3114, 'prec5_c1': 63.7812, 'loss': 2.9959, 'prec1_c1': 39.2991, 'load_time': 30.6886}\n",
      " 47%|████▋     | 199/427 [15:58<17:05,  4.50s/it]2019-05-15 03:42:10,393 - algorithms.Algorithm - INFO   - ==> Iteration [  5][ 200 /  426]: {'process_time': 69.372, 'prec5_c1': 63.6433, 'loss': 2.9996, 'prec1_c1': 39.17, 'load_time': 30.628}\n",
      " 48%|████▊     | 204/427 [16:22<17:59,  4.84s/it]2019-05-15 03:42:34,174 - algorithms.Algorithm - INFO   - ==> Iteration [  5][ 205 /  426]: {'process_time': 69.4959, 'prec5_c1': 63.548, 'loss': 3.0017, 'prec1_c1': 39.1089, 'load_time': 30.5041}\n",
      " 49%|████▉     | 209/427 [16:45<17:02,  4.69s/it]2019-05-15 03:42:57,452 - algorithms.Algorithm - INFO   - ==> Iteration [  5][ 210 /  426]: {'process_time': 69.4871, 'prec5_c1': 63.5048, 'loss': 3.0039, 'prec1_c1': 38.981, 'load_time': 30.5129}\n",
      " 50%|█████     | 214/427 [17:09<17:19,  4.88s/it]2019-05-15 03:43:23,087 - algorithms.Algorithm - INFO   - ==> Iteration [  5][ 215 /  426]: {'process_time': 69.6575, 'prec5_c1': 63.4202, 'loss': 3.0076, 'prec1_c1': 38.9209, 'load_time': 30.3425}\n",
      " 51%|█████▏    | 219/427 [17:34<16:27,  4.75s/it]2019-05-15 03:43:47,068 - algorithms.Algorithm - INFO   - ==> Iteration [  5][ 220 /  426]: {'process_time': 69.6547, 'prec5_c1': 63.3424, 'loss': 3.01, 'prec1_c1': 38.8485, 'load_time': 30.3453}\n"
     ]
    },
    {
     "name": "stderr",
     "output_type": "stream",
     "text": [
      " 52%|█████▏    | 224/427 [17:59<16:50,  4.98s/it]2019-05-15 03:44:12,543 - algorithms.Algorithm - INFO   - ==> Iteration [  5][ 225 /  426]: {'process_time': 69.8451, 'prec5_c1': 63.3333, 'loss': 3.0105, 'prec1_c1': 38.8356, 'load_time': 30.1549}\n",
      " 54%|█████▎    | 229/427 [18:24<15:35,  4.73s/it]2019-05-15 03:44:35,774 - algorithms.Algorithm - INFO   - ==> Iteration [  5][ 230 /  426]: {'process_time': 69.5754, 'prec5_c1': 63.3507, 'loss': 3.0115, 'prec1_c1': 38.7652, 'load_time': 30.4246}\n",
      " 55%|█████▍    | 234/427 [18:46<14:34,  4.53s/it]2019-05-15 03:44:57,922 - algorithms.Algorithm - INFO   - ==> Iteration [  5][ 235 /  426]: {'process_time': 69.3709, 'prec5_c1': 63.2936, 'loss': 3.0146, 'prec1_c1': 38.695, 'load_time': 30.6291}\n",
      " 56%|█████▌    | 239/427 [19:07<13:33,  4.33s/it]2019-05-15 03:45:20,060 - algorithms.Algorithm - INFO   - ==> Iteration [  5][ 240 /  426]: {'process_time': 69.0186, 'prec5_c1': 63.3306, 'loss': 3.013, 'prec1_c1': 38.7083, 'load_time': 30.9814}\n",
      " 57%|█████▋    | 244/427 [19:31<13:55,  4.57s/it]2019-05-15 03:45:43,186 - algorithms.Algorithm - INFO   - ==> Iteration [  5][ 245 /  426]: {'process_time': 68.777, 'prec5_c1': 63.3497, 'loss': 3.0126, 'prec1_c1': 38.7048, 'load_time': 31.223}\n",
      " 58%|█████▊    | 249/427 [19:53<12:50,  4.33s/it]2019-05-15 03:46:05,072 - algorithms.Algorithm - INFO   - ==> Iteration [  5][ 250 /  426]: {'process_time': 68.6791, 'prec5_c1': 63.3573, 'loss': 3.0136, 'prec1_c1': 38.6907, 'load_time': 31.3209}\n",
      " 59%|█████▉    | 254/427 [20:20<15:14,  5.28s/it]2019-05-15 03:46:32,340 - algorithms.Algorithm - INFO   - ==> Iteration [  5][ 255 /  426]: {'process_time': 68.6456, 'prec5_c1': 63.3281, 'loss': 3.0145, 'prec1_c1': 38.6301, 'load_time': 31.3544}\n",
      " 61%|██████    | 259/427 [20:43<13:11,  4.71s/it]2019-05-15 03:46:56,115 - algorithms.Algorithm - INFO   - ==> Iteration [  5][ 260 /  426]: {'process_time': 68.7415, 'prec5_c1': 63.2462, 'loss': 3.0169, 'prec1_c1': 38.5821, 'load_time': 31.2585}\n",
      " 62%|██████▏   | 264/427 [21:09<13:24,  4.94s/it]2019-05-15 03:47:21,088 - algorithms.Algorithm - INFO   - ==> Iteration [  5][ 265 /  426]: {'process_time': 68.5278, 'prec5_c1': 63.2377, 'loss': 3.0183, 'prec1_c1': 38.5459, 'load_time': 31.4722}\n",
      " 63%|██████▎   | 269/427 [21:33<13:37,  5.17s/it]2019-05-15 03:47:44,499 - algorithms.Algorithm - INFO   - ==> Iteration [  5][ 270 /  426]: {'process_time': 68.4915, 'prec5_c1': 63.2346, 'loss': 3.0188, 'prec1_c1': 38.5012, 'load_time': 31.5085}\n",
      " 64%|██████▍   | 274/427 [21:55<11:35,  4.55s/it]2019-05-15 03:48:06,882 - algorithms.Algorithm - INFO   - ==> Iteration [  5][ 275 /  426]: {'process_time': 68.3157, 'prec5_c1': 63.2145, 'loss': 3.0193, 'prec1_c1': 38.4558, 'load_time': 31.6843}\n",
      " 65%|██████▌   | 279/427 [22:19<11:31,  4.67s/it]2019-05-15 03:48:31,626 - algorithms.Algorithm - INFO   - ==> Iteration [  5][ 280 /  426]: {'process_time': 68.3285, 'prec5_c1': 63.1667, 'loss': 3.0211, 'prec1_c1': 38.3976, 'load_time': 31.6715}\n",
      " 67%|██████▋   | 284/427 [22:43<11:23,  4.78s/it]2019-05-15 03:48:54,797 - algorithms.Algorithm - INFO   - ==> Iteration [  5][ 285 /  426]: {'process_time': 68.3464, 'prec5_c1': 63.1673, 'loss': 3.0201, 'prec1_c1': 38.4117, 'load_time': 31.6536}\n",
      " 68%|██████▊   | 289/427 [23:06<11:38,  5.07s/it]2019-05-15 03:49:19,745 - algorithms.Algorithm - INFO   - ==> Iteration [  5][ 290 /  426]: {'process_time': 68.3151, 'prec5_c1': 63.1586, 'loss': 3.0203, 'prec1_c1': 38.4023, 'load_time': 31.6849}\n",
      " 69%|██████▉   | 294/427 [23:32<11:06,  5.01s/it]2019-05-15 03:49:44,914 - algorithms.Algorithm - INFO   - ==> Iteration [  5][ 295 /  426]: {'process_time': 68.1409, 'prec5_c1': 63.1616, 'loss': 3.021, 'prec1_c1': 38.4181, 'load_time': 31.8591}\n",
      " 70%|███████   | 299/427 [23:57<10:50,  5.09s/it]2019-05-15 03:50:09,615 - algorithms.Algorithm - INFO   - ==> Iteration [  5][ 300 /  426]: {'process_time': 67.9637, 'prec5_c1': 63.1311, 'loss': 3.022, 'prec1_c1': 38.3978, 'load_time': 32.0363}\n",
      " 71%|███████   | 304/427 [24:23<10:35,  5.16s/it]2019-05-15 03:50:35,417 - algorithms.Algorithm - INFO   - ==> Iteration [  5][ 305 /  426]: {'process_time': 67.954, 'prec5_c1': 63.1038, 'loss': 3.0218, 'prec1_c1': 38.4153, 'load_time': 32.046}\n",
      " 72%|███████▏  | 309/427 [24:46<09:10,  4.66s/it]2019-05-15 03:50:57,691 - algorithms.Algorithm - INFO   - ==> Iteration [  5][ 310 /  426]: {'process_time': 67.8683, 'prec5_c1': 63.1097, 'loss': 3.0214, 'prec1_c1': 38.4366, 'load_time': 32.1317}\n",
      " 74%|███████▎  | 314/427 [25:09<08:44,  4.64s/it]2019-05-15 03:51:20,973 - algorithms.Algorithm - INFO   - ==> Iteration [  5][ 315 /  426]: {'process_time': 67.6887, 'prec5_c1': 63.0815, 'loss': 3.0224, 'prec1_c1': 38.4296, 'load_time': 32.3113}\n",
      " 75%|███████▍  | 319/427 [25:32<08:28,  4.70s/it]2019-05-15 03:51:45,714 - algorithms.Algorithm - INFO   - ==> Iteration [  5][ 320 /  426]: {'process_time': 67.5668, 'prec5_c1': 63.0375, 'loss': 3.0249, 'prec1_c1': 38.3854, 'load_time': 32.4332}\n",
      " 76%|███████▌  | 324/427 [25:56<07:39,  4.46s/it]2019-05-15 03:52:07,992 - algorithms.Algorithm - INFO   - ==> Iteration [  5][ 325 /  426]: {'process_time': 67.3821, 'prec5_c1': 63.001, 'loss': 3.0256, 'prec1_c1': 38.361, 'load_time': 32.6179}\n",
      " 77%|███████▋  | 329/427 [26:20<07:34,  4.64s/it]2019-05-15 03:52:31,525 - algorithms.Algorithm - INFO   - ==> Iteration [  5][ 330 /  426]: {'process_time': 67.3902, 'prec5_c1': 62.9879, 'loss': 3.026, 'prec1_c1': 38.3798, 'load_time': 32.6098}\n",
      " 78%|███████▊  | 334/427 [26:42<07:08,  4.61s/it]2019-05-15 03:52:53,960 - algorithms.Algorithm - INFO   - ==> Iteration [  5][ 335 /  426]: {'process_time': 67.2447, 'prec5_c1': 62.9751, 'loss': 3.0253, 'prec1_c1': 38.3841, 'load_time': 32.7553}\n",
      " 79%|███████▉  | 339/427 [27:07<06:59,  4.77s/it]2019-05-15 03:53:19,096 - algorithms.Algorithm - INFO   - ==> Iteration [  5][ 340 /  426]: {'process_time': 67.2013, 'prec5_c1': 62.9431, 'loss': 3.0258, 'prec1_c1': 38.3588, 'load_time': 32.7987}\n",
      " 81%|████████  | 344/427 [27:29<06:09,  4.45s/it]2019-05-15 03:53:42,008 - algorithms.Algorithm - INFO   - ==> Iteration [  5][ 345 /  426]: {'process_time': 67.1169, 'prec5_c1': 62.9546, 'loss': 3.0253, 'prec1_c1': 38.3478, 'load_time': 32.8831}\n",
      " 82%|████████▏ | 349/427 [27:54<06:13,  4.79s/it]2019-05-15 03:54:06,050 - algorithms.Algorithm - INFO   - ==> Iteration [  5][ 350 /  426]: {'process_time': 67.154, 'prec5_c1': 62.9143, 'loss': 3.026, 'prec1_c1': 38.3257, 'load_time': 32.846}\n",
      " 83%|████████▎ | 354/427 [28:17<05:35,  4.59s/it]2019-05-15 03:54:29,474 - algorithms.Algorithm - INFO   - ==> Iteration [  5][ 355 /  426]: {'process_time': 67.3747, 'prec5_c1': 62.9202, 'loss': 3.0255, 'prec1_c1': 38.3174, 'load_time': 32.6253}\n",
      " 84%|████████▍ | 359/427 [28:39<04:59,  4.41s/it]2019-05-15 03:54:51,496 - algorithms.Algorithm - INFO   - ==> Iteration [  5][ 360 /  426]: {'process_time': 67.3777, 'prec5_c1': 62.9148, 'loss': 3.0262, 'prec1_c1': 38.2907, 'load_time': 32.6223}\n",
      " 85%|████████▌ | 364/427 [29:04<05:13,  4.97s/it]2019-05-15 03:55:16,159 - algorithms.Algorithm - INFO   - ==> Iteration [  5][ 365 /  426]: {'process_time': 67.358, 'prec5_c1': 62.8621, 'loss': 3.0275, 'prec1_c1': 38.2521, 'load_time': 32.642}\n",
      " 86%|████████▋ | 369/427 [29:27<04:31,  4.68s/it]2019-05-15 03:55:40,545 - algorithms.Algorithm - INFO   - ==> Iteration [  5][ 370 /  426]: {'process_time': 67.3547, 'prec5_c1': 62.8072, 'loss': 3.0294, 'prec1_c1': 38.2036, 'load_time': 32.6453}\n",
      " 88%|████████▊ | 374/427 [29:53<04:28,  5.06s/it]2019-05-15 03:56:05,356 - algorithms.Algorithm - INFO   - ==> Iteration [  5][ 375 /  426]: {'process_time': 67.4085, 'prec5_c1': 62.8302, 'loss': 3.029, 'prec1_c1': 38.1991, 'load_time': 32.5915}\n",
      " 89%|████████▉ | 379/427 [30:18<04:04,  5.09s/it]2019-05-15 03:56:31,424 - algorithms.Algorithm - INFO   - ==> Iteration [  5][ 380 /  426]: {'process_time': 67.4744, 'prec5_c1': 62.8035, 'loss': 3.0303, 'prec1_c1': 38.1789, 'load_time': 32.5256}\n",
      " 90%|████████▉ | 384/427 [30:44<03:39,  5.11s/it]2019-05-15 03:56:56,516 - algorithms.Algorithm - INFO   - ==> Iteration [  5][ 385 /  426]: {'process_time': 67.4681, 'prec5_c1': 62.7671, 'loss': 3.0308, 'prec1_c1': 38.1593, 'load_time': 32.5319}\n",
      " 91%|█████████ | 389/427 [31:09<03:12,  5.06s/it]2019-05-15 03:57:21,566 - algorithms.Algorithm - INFO   - ==> Iteration [  5][ 390 /  426]: {'process_time': 67.4253, 'prec5_c1': 62.7675, 'loss': 3.0304, 'prec1_c1': 38.1419, 'load_time': 32.5747}\n"
     ]
    },
    {
     "name": "stderr",
     "output_type": "stream",
     "text": [
      " 92%|█████████▏| 394/427 [31:32<02:33,  4.65s/it]2019-05-15 03:57:43,775 - algorithms.Algorithm - INFO   - ==> Iteration [  5][ 395 /  426]: {'process_time': 67.3364, 'prec5_c1': 62.7629, 'loss': 3.0302, 'prec1_c1': 38.162, 'load_time': 32.6636}\n",
      " 93%|█████████▎| 399/427 [31:56<02:17,  4.92s/it]2019-05-15 03:58:08,337 - algorithms.Algorithm - INFO   - ==> Iteration [  5][ 400 /  426]: {'process_time': 67.3261, 'prec5_c1': 62.7717, 'loss': 3.0299, 'prec1_c1': 38.1367, 'load_time': 32.6739}\n",
      " 95%|█████████▍| 404/427 [32:18<01:43,  4.50s/it]2019-05-15 03:58:30,580 - algorithms.Algorithm - INFO   - ==> Iteration [  5][ 405 /  426]: {'process_time': 67.254, 'prec5_c1': 62.777, 'loss': 3.0294, 'prec1_c1': 38.1119, 'load_time': 32.746}\n",
      " 96%|█████████▌| 409/427 [32:40<01:18,  4.34s/it]2019-05-15 03:58:51,797 - algorithms.Algorithm - INFO   - ==> Iteration [  5][ 410 /  426]: {'process_time': 67.1797, 'prec5_c1': 62.7789, 'loss': 3.0296, 'prec1_c1': 38.0894, 'load_time': 32.8203}\n",
      " 97%|█████████▋| 414/427 [33:01<00:56,  4.36s/it]2019-05-15 03:59:12,848 - algorithms.Algorithm - INFO   - ==> Iteration [  5][ 415 /  426]: {'process_time': 67.0041, 'prec5_c1': 62.7582, 'loss': 3.0306, 'prec1_c1': 38.0659, 'load_time': 32.9959}\n",
      " 98%|█████████▊| 419/427 [33:22<00:34,  4.26s/it]2019-05-15 03:59:35,054 - algorithms.Algorithm - INFO   - ==> Iteration [  5][ 420 /  426]: {'process_time': 66.9332, 'prec5_c1': 62.7238, 'loss': 3.031, 'prec1_c1': 38.0603, 'load_time': 33.0668}\n",
      " 99%|█████████▉| 424/427 [33:45<00:13,  4.39s/it]2019-05-15 03:59:56,876 - algorithms.Algorithm - INFO   - ==> Iteration [  5][ 425 /  426]: {'process_time': 66.8102, 'prec5_c1': 62.6871, 'loss': 3.0309, 'prec1_c1': 38.0627, 'load_time': 33.1898}\n",
      "100%|██████████| 427/427 [33:56<00:00,  3.91s/it]\n",
      "2019-05-15 04:00:04,153 - algorithms.Algorithm - INFO   - ==> Training stats: {'process_time': 66.7877, 'prec5_c1': 62.6831, 'loss': 3.0313, 'prec1_c1': 38.0515, 'load_time': 33.2123}\n",
      "2019-05-15 04:00:04,922 - algorithms.Algorithm - INFO   - Evaluating: Custom_NonLinearClassifiers_ImageNet_RotNet_AlexNet_Features_64\n",
      "2019-05-15 04:00:04,932 - algorithms.Algorithm - INFO   - ==> Dataset: custom_supervised/val [64000 images]\n",
      "100%|██████████| 427/427 [16:34<00:00,  2.10s/it]\n",
      "2019-05-15 04:16:39,878 - algorithms.Algorithm - INFO   - ==> Results: {'process_time': 55.2457, 'prec5_c1': 44.0141, 'loss': 3.939, 'prec1_c1': 22.1148, 'load_time': 44.7543}\n",
      "2019-05-15 04:16:39,923 - algorithms.Algorithm - INFO   - ==> Evaluation stats: {'process_time': 55.2457, 'prec5_c1': 44.0141, 'loss': 3.939, 'prec1_c1': 22.1148, 'load_time': 44.7543}\n",
      "2019-05-15 04:16:39,924 - algorithms.Algorithm - INFO   - Training epoch [  6 /  40]\n",
      "2019-05-15 04:16:39,925 - algorithms.Algorithm - INFO   - ==> Set to classifier optimizer lr = 0.0100000000\n",
      "2019-05-15 04:16:39,926 - algorithms.Algorithm - INFO   - Training: Custom_NonLinearClassifiers_ImageNet_RotNet_AlexNet_Features_64\n",
      "  1%|          | 4/427 [00:17<31:15,  4.43s/it]2019-05-15 04:17:02,131 - algorithms.Algorithm - INFO   - ==> Iteration [  6][   5 /  426]: {'process_time': 59.3113, 'prec5_c1': 68.6667, 'loss': 2.7124, 'prec1_c1': 46.4, 'load_time': 40.6887}\n",
      "  2%|▏         | 9/427 [00:41<32:53,  4.72s/it]2019-05-15 04:17:26,872 - algorithms.Algorithm - INFO   - ==> Iteration [  6][  10 /  426]: {'process_time': 64.6877, 'prec5_c1': 69.2, 'loss': 2.6709, 'prec1_c1': 46.6, 'load_time': 35.3123}\n",
      "  3%|▎         | 14/427 [01:06<33:02,  4.80s/it]2019-05-15 04:17:50,274 - algorithms.Algorithm - INFO   - ==> Iteration [  6][  15 /  426]: {'process_time': 65.055, 'prec5_c1': 69.2889, 'loss': 2.6792, 'prec1_c1': 45.7778, 'load_time': 34.945}\n",
      "  4%|▍         | 19/427 [01:30<33:00,  4.85s/it]2019-05-15 04:18:14,920 - algorithms.Algorithm - INFO   - ==> Iteration [  6][  20 /  426]: {'process_time': 65.7821, 'prec5_c1': 68.8, 'loss': 2.6957, 'prec1_c1': 45.5, 'load_time': 34.2179}\n",
      "  6%|▌         | 24/427 [01:53<31:38,  4.71s/it]2019-05-15 04:18:37,893 - algorithms.Algorithm - INFO   - ==> Iteration [  6][  25 /  426]: {'process_time': 67.7378, 'prec5_c1': 69.0667, 'loss': 2.687, 'prec1_c1': 45.4667, 'load_time': 32.2622}\n",
      "  7%|▋         | 29/427 [02:16<30:38,  4.62s/it]2019-05-15 04:19:00,899 - algorithms.Algorithm - INFO   - ==> Iteration [  6][  30 /  426]: {'process_time': 67.5626, 'prec5_c1': 69.2444, 'loss': 2.6824, 'prec1_c1': 45.7333, 'load_time': 32.4374}\n",
      "  8%|▊         | 34/427 [02:39<30:41,  4.68s/it]2019-05-15 04:19:24,761 - algorithms.Algorithm - INFO   - ==> Iteration [  6][  35 /  426]: {'process_time': 67.7186, 'prec5_c1': 68.8571, 'loss': 2.6922, 'prec1_c1': 45.4095, 'load_time': 32.2814}\n",
      "  9%|▉         | 39/427 [03:01<27:31,  4.26s/it]2019-05-15 04:19:45,637 - algorithms.Algorithm - INFO   - ==> Iteration [  6][  40 /  426]: {'process_time': 67.7055, 'prec5_c1': 69.0167, 'loss': 2.6925, 'prec1_c1': 45.6833, 'load_time': 32.2945}\n",
      " 10%|█         | 44/427 [03:22<26:23,  4.13s/it]2019-05-15 04:20:06,311 - algorithms.Algorithm - INFO   - ==> Iteration [  6][  45 /  426]: {'process_time': 68.2231, 'prec5_c1': 69.0963, 'loss': 2.6933, 'prec1_c1': 45.6889, 'load_time': 31.7769}\n",
      " 11%|█▏        | 49/427 [03:44<27:32,  4.37s/it]2019-05-15 04:20:28,304 - algorithms.Algorithm - INFO   - ==> Iteration [  6][  50 /  426]: {'process_time': 68.2548, 'prec5_c1': 68.92, 'loss': 2.7009, 'prec1_c1': 45.56, 'load_time': 31.7452}\n",
      " 13%|█▎        | 54/427 [04:06<27:31,  4.43s/it]2019-05-15 04:20:50,615 - algorithms.Algorithm - INFO   - ==> Iteration [  6][  55 /  426]: {'process_time': 68.0306, 'prec5_c1': 69.297, 'loss': 2.6877, 'prec1_c1': 45.9636, 'load_time': 31.9694}\n",
      " 14%|█▍        | 59/427 [04:28<27:33,  4.49s/it]2019-05-15 04:21:13,748 - algorithms.Algorithm - INFO   - ==> Iteration [  6][  60 /  426]: {'process_time': 68.7953, 'prec5_c1': 69.1333, 'loss': 2.6897, 'prec1_c1': 45.9556, 'load_time': 31.2047}\n",
      " 15%|█▍        | 64/427 [04:56<32:24,  5.36s/it]2019-05-15 04:21:41,067 - algorithms.Algorithm - INFO   - ==> Iteration [  6][  65 /  426]: {'process_time': 68.7729, 'prec5_c1': 68.9333, 'loss': 2.697, 'prec1_c1': 45.7949, 'load_time': 31.2271}\n",
      " 16%|█▌        | 69/427 [05:21<30:16,  5.07s/it]2019-05-15 04:22:06,389 - algorithms.Algorithm - INFO   - ==> Iteration [  6][  70 /  426]: {'process_time': 68.9891, 'prec5_c1': 68.9238, 'loss': 2.7001, 'prec1_c1': 45.6095, 'load_time': 31.0109}\n",
      " 17%|█▋        | 74/427 [05:47<30:29,  5.18s/it]2019-05-15 04:22:33,517 - algorithms.Algorithm - INFO   - ==> Iteration [  6][  75 /  426]: {'process_time': 69.395, 'prec5_c1': 69.0222, 'loss': 2.6929, 'prec1_c1': 45.7689, 'load_time': 30.605}\n",
      " 19%|█▊        | 79/427 [06:15<32:32,  5.61s/it]2019-05-15 04:23:01,542 - algorithms.Algorithm - INFO   - ==> Iteration [  6][  80 /  426]: {'process_time': 69.4619, 'prec5_c1': 68.925, 'loss': 2.6956, 'prec1_c1': 45.825, 'load_time': 30.5381}\n",
      " 20%|█▉        | 84/427 [06:40<27:42,  4.85s/it]2019-05-15 04:23:24,591 - algorithms.Algorithm - INFO   - ==> Iteration [  6][  85 /  426]: {'process_time': 69.4129, 'prec5_c1': 68.9412, 'loss': 2.6926, 'prec1_c1': 45.6941, 'load_time': 30.5871}\n",
      " 21%|██        | 89/427 [07:06<31:55,  5.67s/it]2019-05-15 04:23:51,845 - algorithms.Algorithm - INFO   - ==> Iteration [  6][  90 /  426]: {'process_time': 69.6196, 'prec5_c1': 69.0963, 'loss': 2.6861, 'prec1_c1': 45.837, 'load_time': 30.3804}\n",
      " 22%|██▏       | 94/427 [07:32<28:29,  5.13s/it]2019-05-15 04:24:17,784 - algorithms.Algorithm - INFO   - ==> Iteration [  6][  95 /  426]: {'process_time': 69.6994, 'prec5_c1': 69.2211, 'loss': 2.6823, 'prec1_c1': 45.8807, 'load_time': 30.3006}\n",
      " 23%|██▎       | 99/427 [07:58<26:56,  4.93s/it]2019-05-15 04:24:43,726 - algorithms.Algorithm - INFO   - ==> Iteration [  6][ 100 /  426]: {'process_time': 69.6949, 'prec5_c1': 69.1333, 'loss': 2.6865, 'prec1_c1': 45.7467, 'load_time': 30.3051}\n",
      " 24%|██▍       | 104/427 [08:23<26:20,  4.89s/it]2019-05-15 04:25:08,017 - algorithms.Algorithm - INFO   - ==> Iteration [  6][ 105 /  426]: {'process_time': 69.4902, 'prec5_c1': 69.1937, 'loss': 2.6841, 'prec1_c1': 45.7778, 'load_time': 30.5098}\n",
      " 26%|██▌       | 109/427 [08:46<24:35,  4.64s/it]2019-05-15 04:25:30,726 - algorithms.Algorithm - INFO   - ==> Iteration [  6][ 110 /  426]: {'process_time': 69.3061, 'prec5_c1': 69.2121, 'loss': 2.6863, 'prec1_c1': 45.7212, 'load_time': 30.6939}\n"
     ]
    },
    {
     "name": "stderr",
     "output_type": "stream",
     "text": [
      " 27%|██▋       | 114/427 [09:07<22:22,  4.29s/it]2019-05-15 04:25:53,424 - algorithms.Algorithm - INFO   - ==> Iteration [  6][ 115 /  426]: {'process_time': 69.0307, 'prec5_c1': 69.1246, 'loss': 2.6903, 'prec1_c1': 45.4957, 'load_time': 30.9693}\n",
      " 28%|██▊       | 119/427 [09:30<22:29,  4.38s/it]2019-05-15 04:26:14,060 - algorithms.Algorithm - INFO   - ==> Iteration [  6][ 120 /  426]: {'process_time': 68.4765, 'prec5_c1': 69.1, 'loss': 2.6925, 'prec1_c1': 45.4389, 'load_time': 31.5235}\n",
      " 29%|██▉       | 124/427 [09:51<21:32,  4.27s/it]2019-05-15 04:26:35,540 - algorithms.Algorithm - INFO   - ==> Iteration [  6][ 125 /  426]: {'process_time': 68.6771, 'prec5_c1': 69.0507, 'loss': 2.6969, 'prec1_c1': 45.2907, 'load_time': 31.3229}\n",
      " 30%|███       | 129/427 [10:11<20:15,  4.08s/it]2019-05-15 04:26:56,094 - algorithms.Algorithm - INFO   - ==> Iteration [  6][ 130 /  426]: {'process_time': 68.6148, 'prec5_c1': 69.0308, 'loss': 2.7017, 'prec1_c1': 45.1231, 'load_time': 31.3852}\n",
      " 31%|███▏      | 134/427 [10:35<23:24,  4.79s/it]2019-05-15 04:27:19,964 - algorithms.Algorithm - INFO   - ==> Iteration [  6][ 135 /  426]: {'process_time': 68.6139, 'prec5_c1': 68.9827, 'loss': 2.7012, 'prec1_c1': 45.1457, 'load_time': 31.3861}\n",
      " 33%|███▎      | 139/427 [10:57<20:55,  4.36s/it]2019-05-15 04:27:41,318 - algorithms.Algorithm - INFO   - ==> Iteration [  6][ 140 /  426]: {'process_time': 68.7669, 'prec5_c1': 68.9857, 'loss': 2.7025, 'prec1_c1': 45.0476, 'load_time': 31.2331}\n",
      " 34%|███▎      | 144/427 [11:19<20:59,  4.45s/it]2019-05-15 04:28:05,081 - algorithms.Algorithm - INFO   - ==> Iteration [  6][ 145 /  426]: {'process_time': 68.7995, 'prec5_c1': 68.892, 'loss': 2.7066, 'prec1_c1': 44.9379, 'load_time': 31.2005}\n",
      " 35%|███▍      | 149/427 [11:46<24:44,  5.34s/it]2019-05-15 04:28:33,757 - algorithms.Algorithm - INFO   - ==> Iteration [  6][ 150 /  426]: {'process_time': 68.8395, 'prec5_c1': 68.9156, 'loss': 2.7058, 'prec1_c1': 44.8444, 'load_time': 31.1605}\n",
      " 36%|███▌      | 154/427 [12:15<25:11,  5.54s/it]2019-05-15 04:28:59,499 - algorithms.Algorithm - INFO   - ==> Iteration [  6][ 155 /  426]: {'process_time': 68.8282, 'prec5_c1': 68.8301, 'loss': 2.7102, 'prec1_c1': 44.7828, 'load_time': 31.1718}\n",
      " 37%|███▋      | 159/427 [12:40<23:36,  5.29s/it]2019-05-15 04:29:26,787 - algorithms.Algorithm - INFO   - ==> Iteration [  6][ 160 /  426]: {'process_time': 68.8925, 'prec5_c1': 68.8625, 'loss': 2.7104, 'prec1_c1': 44.7208, 'load_time': 31.1075}\n",
      " 38%|███▊      | 164/427 [13:08<23:32,  5.37s/it]2019-05-15 04:29:53,527 - algorithms.Algorithm - INFO   - ==> Iteration [  6][ 165 /  426]: {'process_time': 69.1423, 'prec5_c1': 68.8687, 'loss': 2.7097, 'prec1_c1': 44.7798, 'load_time': 30.8577}\n",
      " 40%|███▉      | 169/427 [13:35<23:43,  5.52s/it]2019-05-15 04:30:19,669 - algorithms.Algorithm - INFO   - ==> Iteration [  6][ 170 /  426]: {'process_time': 69.1279, 'prec5_c1': 68.8549, 'loss': 2.7107, 'prec1_c1': 44.7529, 'load_time': 30.8721}\n",
      " 41%|████      | 174/427 [13:59<21:59,  5.21s/it]2019-05-15 04:30:43,736 - algorithms.Algorithm - INFO   - ==> Iteration [  6][ 175 /  426]: {'process_time': 69.296, 'prec5_c1': 68.8076, 'loss': 2.7131, 'prec1_c1': 44.659, 'load_time': 30.704}\n",
      " 42%|████▏     | 179/427 [14:21<18:26,  4.46s/it]2019-05-15 04:31:05,781 - algorithms.Algorithm - INFO   - ==> Iteration [  6][ 180 /  426]: {'process_time': 69.2466, 'prec5_c1': 68.8667, 'loss': 2.7111, 'prec1_c1': 44.7481, 'load_time': 30.7534}\n",
      " 43%|████▎     | 184/427 [14:43<18:04,  4.46s/it]2019-05-15 04:31:27,377 - algorithms.Algorithm - INFO   - ==> Iteration [  6][ 185 /  426]: {'process_time': 69.4564, 'prec5_c1': 68.8108, 'loss': 2.7145, 'prec1_c1': 44.6523, 'load_time': 30.5436}\n",
      " 44%|████▍     | 189/427 [15:04<16:50,  4.25s/it]2019-05-15 04:31:48,659 - algorithms.Algorithm - INFO   - ==> Iteration [  6][ 190 /  426]: {'process_time': 69.3731, 'prec5_c1': 68.7614, 'loss': 2.7173, 'prec1_c1': 44.5789, 'load_time': 30.6269}\n",
      " 45%|████▌     | 194/427 [15:24<16:08,  4.16s/it]2019-05-15 04:32:08,939 - algorithms.Algorithm - INFO   - ==> Iteration [  6][ 195 /  426]: {'process_time': 69.538, 'prec5_c1': 68.7419, 'loss': 2.7191, 'prec1_c1': 44.588, 'load_time': 30.462}\n",
      " 47%|████▋     | 199/427 [15:45<15:40,  4.13s/it]2019-05-15 04:32:29,597 - algorithms.Algorithm - INFO   - ==> Iteration [  6][ 200 /  426]: {'process_time': 69.3383, 'prec5_c1': 68.6467, 'loss': 2.7221, 'prec1_c1': 44.5267, 'load_time': 30.6617}\n",
      " 48%|████▊     | 204/427 [16:06<15:37,  4.21s/it]2019-05-15 04:32:50,745 - algorithms.Algorithm - INFO   - ==> Iteration [  6][ 205 /  426]: {'process_time': 69.3349, 'prec5_c1': 68.6081, 'loss': 2.7249, 'prec1_c1': 44.4423, 'load_time': 30.6651}\n",
      " 49%|████▉     | 209/427 [16:26<14:53,  4.10s/it]2019-05-15 04:33:12,946 - algorithms.Algorithm - INFO   - ==> Iteration [  6][ 210 /  426]: {'process_time': 69.251, 'prec5_c1': 68.6254, 'loss': 2.7248, 'prec1_c1': 44.4571, 'load_time': 30.749}\n",
      " 50%|█████     | 214/427 [16:51<17:08,  4.83s/it]2019-05-15 04:33:37,865 - algorithms.Algorithm - INFO   - ==> Iteration [  6][ 215 /  426]: {'process_time': 69.3635, 'prec5_c1': 68.5519, 'loss': 2.7272, 'prec1_c1': 44.4217, 'load_time': 30.6365}\n",
      " 51%|█████▏    | 219/427 [17:15<16:14,  4.69s/it]2019-05-15 04:33:59,558 - algorithms.Algorithm - INFO   - ==> Iteration [  6][ 220 /  426]: {'process_time': 69.5158, 'prec5_c1': 68.4697, 'loss': 2.7305, 'prec1_c1': 44.3242, 'load_time': 30.4842}\n",
      " 52%|█████▏    | 224/427 [17:42<20:06,  5.94s/it]2019-05-15 04:34:28,595 - algorithms.Algorithm - INFO   - ==> Iteration [  6][ 225 /  426]: {'process_time': 69.3702, 'prec5_c1': 68.4504, 'loss': 2.7314, 'prec1_c1': 44.2667, 'load_time': 30.6298}\n",
      " 54%|█████▎    | 229/427 [18:10<18:03,  5.47s/it]2019-05-15 04:34:55,307 - algorithms.Algorithm - INFO   - ==> Iteration [  6][ 230 /  426]: {'process_time': 69.4994, 'prec5_c1': 68.4609, 'loss': 2.7315, 'prec1_c1': 44.229, 'load_time': 30.5006}\n",
      " 55%|█████▍    | 234/427 [18:36<17:04,  5.31s/it]2019-05-15 04:35:22,534 - algorithms.Algorithm - INFO   - ==> Iteration [  6][ 235 /  426]: {'process_time': 69.6958, 'prec5_c1': 68.4653, 'loss': 2.7313, 'prec1_c1': 44.2326, 'load_time': 30.3042}\n",
      " 56%|█████▌    | 239/427 [19:01<15:29,  4.94s/it]2019-05-15 04:35:46,857 - algorithms.Algorithm - INFO   - ==> Iteration [  6][ 240 /  426]: {'process_time': 69.5751, 'prec5_c1': 68.4722, 'loss': 2.7313, 'prec1_c1': 44.2444, 'load_time': 30.4249}\n",
      " 57%|█████▋    | 244/427 [19:25<14:32,  4.77s/it]2019-05-15 04:36:09,658 - algorithms.Algorithm - INFO   - ==> Iteration [  6][ 245 /  426]: {'process_time': 69.4855, 'prec5_c1': 68.4, 'loss': 2.7356, 'prec1_c1': 44.1061, 'load_time': 30.5145}\n",
      " 58%|█████▊    | 249/427 [19:48<13:29,  4.55s/it]2019-05-15 04:36:32,978 - algorithms.Algorithm - INFO   - ==> Iteration [  6][ 250 /  426]: {'process_time': 69.1186, 'prec5_c1': 68.4027, 'loss': 2.737, 'prec1_c1': 44.064, 'load_time': 30.8814}\n",
      " 59%|█████▉    | 254/427 [20:10<12:49,  4.45s/it]2019-05-15 04:36:54,535 - algorithms.Algorithm - INFO   - ==> Iteration [  6][ 255 /  426]: {'process_time': 68.9872, 'prec5_c1': 68.3895, 'loss': 2.7379, 'prec1_c1': 44.034, 'load_time': 31.0128}\n",
      " 61%|██████    | 259/427 [20:31<11:54,  4.25s/it]2019-05-15 04:37:15,533 - algorithms.Algorithm - INFO   - ==> Iteration [  6][ 260 /  426]: {'process_time': 68.8883, 'prec5_c1': 68.3538, 'loss': 2.7394, 'prec1_c1': 43.9769, 'load_time': 31.1117}\n",
      " 62%|██████▏   | 264/427 [20:52<11:33,  4.25s/it]2019-05-15 04:37:37,638 - algorithms.Algorithm - INFO   - ==> Iteration [  6][ 265 /  426]: {'process_time': 68.648, 'prec5_c1': 68.322, 'loss': 2.7414, 'prec1_c1': 43.9019, 'load_time': 31.352}\n",
      " 63%|██████▎   | 269/427 [21:15<11:58,  4.55s/it]2019-05-15 04:37:59,863 - algorithms.Algorithm - INFO   - ==> Iteration [  6][ 270 /  426]: {'process_time': 68.4234, 'prec5_c1': 68.2765, 'loss': 2.7427, 'prec1_c1': 43.8296, 'load_time': 31.5766}\n",
      " 64%|██████▍   | 274/427 [21:37<11:01,  4.32s/it]2019-05-15 04:38:21,590 - algorithms.Algorithm - INFO   - ==> Iteration [  6][ 275 /  426]: {'process_time': 68.5024, 'prec5_c1': 68.2255, 'loss': 2.7445, 'prec1_c1': 43.8012, 'load_time': 31.4976}\n",
      " 65%|██████▌   | 279/427 [22:00<11:08,  4.52s/it]2019-05-15 04:38:44,302 - algorithms.Algorithm - INFO   - ==> Iteration [  6][ 280 /  426]: {'process_time': 68.3311, 'prec5_c1': 68.1833, 'loss': 2.7454, 'prec1_c1': 43.7357, 'load_time': 31.6689}\n"
     ]
    },
    {
     "name": "stderr",
     "output_type": "stream",
     "text": [
      " 67%|██████▋   | 284/427 [22:24<11:46,  4.94s/it]2019-05-15 04:39:08,735 - algorithms.Algorithm - INFO   - ==> Iteration [  6][ 285 /  426]: {'process_time': 68.1995, 'prec5_c1': 68.1708, 'loss': 2.7445, 'prec1_c1': 43.7497, 'load_time': 31.8005}\n",
      " 68%|██████▊   | 289/427 [22:46<10:17,  4.48s/it]2019-05-15 04:39:30,597 - algorithms.Algorithm - INFO   - ==> Iteration [  6][ 290 /  426]: {'process_time': 67.9193, 'prec5_c1': 68.1793, 'loss': 2.7444, 'prec1_c1': 43.7103, 'load_time': 32.0807}\n",
      " 69%|██████▉   | 294/427 [23:10<10:12,  4.61s/it]2019-05-15 04:39:54,267 - algorithms.Algorithm - INFO   - ==> Iteration [  6][ 295 /  426]: {'process_time': 67.7016, 'prec5_c1': 68.1469, 'loss': 2.7439, 'prec1_c1': 43.6655, 'load_time': 32.2984}\n",
      " 70%|███████   | 299/427 [23:32<09:46,  4.59s/it]2019-05-15 04:40:17,399 - algorithms.Algorithm - INFO   - ==> Iteration [  6][ 300 /  426]: {'process_time': 67.63, 'prec5_c1': 68.1333, 'loss': 2.7447, 'prec1_c1': 43.6622, 'load_time': 32.37}\n",
      " 71%|███████   | 304/427 [23:56<09:35,  4.68s/it]2019-05-15 04:40:40,953 - algorithms.Algorithm - INFO   - ==> Iteration [  6][ 305 /  426]: {'process_time': 67.4519, 'prec5_c1': 68.0721, 'loss': 2.7465, 'prec1_c1': 43.659, 'load_time': 32.5481}\n",
      " 72%|███████▏  | 309/427 [24:18<08:28,  4.31s/it]2019-05-15 04:41:02,610 - algorithms.Algorithm - INFO   - ==> Iteration [  6][ 310 /  426]: {'process_time': 67.2593, 'prec5_c1': 67.9892, 'loss': 2.7493, 'prec1_c1': 43.6, 'load_time': 32.7407}\n",
      " 74%|███████▎  | 314/427 [24:41<08:29,  4.51s/it]2019-05-15 04:41:25,375 - algorithms.Algorithm - INFO   - ==> Iteration [  6][ 315 /  426]: {'process_time': 67.126, 'prec5_c1': 68.0127, 'loss': 2.7478, 'prec1_c1': 43.6148, 'load_time': 32.874}\n",
      " 75%|███████▍  | 319/427 [25:02<07:50,  4.35s/it]2019-05-15 04:41:46,950 - algorithms.Algorithm - INFO   - ==> Iteration [  6][ 320 /  426]: {'process_time': 66.9157, 'prec5_c1': 67.9833, 'loss': 2.7472, 'prec1_c1': 43.6146, 'load_time': 33.0843}\n",
      " 76%|███████▌  | 324/427 [25:23<07:23,  4.30s/it]2019-05-15 04:42:07,879 - algorithms.Algorithm - INFO   - ==> Iteration [  6][ 325 /  426]: {'process_time': 66.702, 'prec5_c1': 67.959, 'loss': 2.7488, 'prec1_c1': 43.5651, 'load_time': 33.298}\n",
      " 77%|███████▋  | 329/427 [25:46<07:22,  4.52s/it]2019-05-15 04:42:31,466 - algorithms.Algorithm - INFO   - ==> Iteration [  6][ 330 /  426]: {'process_time': 66.582, 'prec5_c1': 67.9212, 'loss': 2.7499, 'prec1_c1': 43.5475, 'load_time': 33.418}\n",
      " 78%|███████▊  | 334/427 [26:07<06:19,  4.08s/it]2019-05-15 04:42:52,342 - algorithms.Algorithm - INFO   - ==> Iteration [  6][ 335 /  426]: {'process_time': 66.5187, 'prec5_c1': 67.9264, 'loss': 2.7496, 'prec1_c1': 43.5303, 'load_time': 33.4813}\n",
      " 79%|███████▉  | 339/427 [26:31<06:58,  4.75s/it]2019-05-15 04:43:15,265 - algorithms.Algorithm - INFO   - ==> Iteration [  6][ 340 /  426]: {'process_time': 66.575, 'prec5_c1': 67.9118, 'loss': 2.7504, 'prec1_c1': 43.4843, 'load_time': 33.425}\n",
      " 81%|████████  | 344/427 [26:53<06:07,  4.42s/it]2019-05-15 04:43:37,198 - algorithms.Algorithm - INFO   - ==> Iteration [  6][ 345 /  426]: {'process_time': 66.5952, 'prec5_c1': 67.8473, 'loss': 2.7526, 'prec1_c1': 43.4338, 'load_time': 33.4048}\n",
      " 82%|████████▏ | 349/427 [27:15<05:57,  4.58s/it]2019-05-15 04:43:59,408 - algorithms.Algorithm - INFO   - ==> Iteration [  6][ 350 /  426]: {'process_time': 66.6891, 'prec5_c1': 67.7943, 'loss': 2.7532, 'prec1_c1': 43.3962, 'load_time': 33.3109}\n",
      " 83%|████████▎ | 354/427 [27:37<05:22,  4.42s/it]2019-05-15 04:44:21,638 - algorithms.Algorithm - INFO   - ==> Iteration [  6][ 355 /  426]: {'process_time': 66.5885, 'prec5_c1': 67.7728, 'loss': 2.7535, 'prec1_c1': 43.3596, 'load_time': 33.4115}\n",
      " 84%|████████▍ | 359/427 [27:59<04:54,  4.32s/it]2019-05-15 04:44:43,476 - algorithms.Algorithm - INFO   - ==> Iteration [  6][ 360 /  426]: {'process_time': 66.4918, 'prec5_c1': 67.7296, 'loss': 2.7543, 'prec1_c1': 43.3352, 'load_time': 33.5082}\n",
      " 85%|████████▌ | 364/427 [28:20<04:30,  4.29s/it]2019-05-15 04:45:04,375 - algorithms.Algorithm - INFO   - ==> Iteration [  6][ 365 /  426]: {'process_time': 66.3375, 'prec5_c1': 67.7333, 'loss': 2.7553, 'prec1_c1': 43.2767, 'load_time': 33.6625}\n",
      " 86%|████████▋ | 369/427 [28:41<04:04,  4.22s/it]2019-05-15 04:45:25,696 - algorithms.Algorithm - INFO   - ==> Iteration [  6][ 370 /  426]: {'process_time': 66.3624, 'prec5_c1': 67.7171, 'loss': 2.7564, 'prec1_c1': 43.2505, 'load_time': 33.6376}\n",
      " 88%|████████▊ | 374/427 [29:04<04:03,  4.60s/it]2019-05-15 04:45:48,577 - algorithms.Algorithm - INFO   - ==> Iteration [  6][ 375 /  426]: {'process_time': 66.3734, 'prec5_c1': 67.68, 'loss': 2.7581, 'prec1_c1': 43.2249, 'load_time': 33.6266}\n",
      " 89%|████████▉ | 379/427 [29:28<03:47,  4.75s/it]2019-05-15 04:46:13,233 - algorithms.Algorithm - INFO   - ==> Iteration [  6][ 380 /  426]: {'process_time': 66.5706, 'prec5_c1': 67.6632, 'loss': 2.7593, 'prec1_c1': 43.1982, 'load_time': 33.4294}\n",
      " 90%|████████▉ | 384/427 [29:50<03:05,  4.32s/it]2019-05-15 04:46:35,202 - algorithms.Algorithm - INFO   - ==> Iteration [  6][ 385 /  426]: {'process_time': 66.7078, 'prec5_c1': 67.6416, 'loss': 2.7605, 'prec1_c1': 43.1671, 'load_time': 33.2922}\n",
      " 91%|█████████ | 389/427 [30:12<02:45,  4.35s/it]2019-05-15 04:46:57,641 - algorithms.Algorithm - INFO   - ==> Iteration [  6][ 390 /  426]: {'process_time': 66.8782, 'prec5_c1': 67.6034, 'loss': 2.762, 'prec1_c1': 43.1658, 'load_time': 33.1218}\n",
      " 92%|█████████▏| 394/427 [30:36<02:32,  4.64s/it]2019-05-15 04:47:20,630 - algorithms.Algorithm - INFO   - ==> Iteration [  6][ 395 /  426]: {'process_time': 66.9846, 'prec5_c1': 67.5494, 'loss': 2.7644, 'prec1_c1': 43.0987, 'load_time': 33.0154}\n",
      " 93%|█████████▎| 399/427 [30:59<02:10,  4.65s/it]2019-05-15 04:47:43,920 - algorithms.Algorithm - INFO   - ==> Iteration [  6][ 400 /  426]: {'process_time': 67.1494, 'prec5_c1': 67.5917, 'loss': 2.7625, 'prec1_c1': 43.1333, 'load_time': 32.8506}\n",
      " 95%|█████████▍| 404/427 [31:21<01:41,  4.42s/it]2019-05-15 04:48:05,478 - algorithms.Algorithm - INFO   - ==> Iteration [  6][ 405 /  426]: {'process_time': 67.1742, 'prec5_c1': 67.5802, 'loss': 2.7632, 'prec1_c1': 43.1243, 'load_time': 32.8258}\n",
      " 96%|█████████▌| 409/427 [31:42<01:17,  4.31s/it]2019-05-15 04:48:26,688 - algorithms.Algorithm - INFO   - ==> Iteration [  6][ 410 /  426]: {'process_time': 67.1783, 'prec5_c1': 67.5187, 'loss': 2.765, 'prec1_c1': 43.0813, 'load_time': 32.8217}\n",
      " 97%|█████████▋| 414/427 [32:04<00:58,  4.54s/it]2019-05-15 04:48:48,884 - algorithms.Algorithm - INFO   - ==> Iteration [  6][ 415 /  426]: {'process_time': 67.2639, 'prec5_c1': 67.4859, 'loss': 2.7662, 'prec1_c1': 43.0345, 'load_time': 32.7361}\n",
      " 98%|█████████▊| 419/427 [32:25<00:34,  4.26s/it]2019-05-15 04:49:09,857 - algorithms.Algorithm - INFO   - ==> Iteration [  6][ 420 /  426]: {'process_time': 67.2251, 'prec5_c1': 67.4698, 'loss': 2.7674, 'prec1_c1': 43.019, 'load_time': 32.7749}\n",
      " 99%|█████████▉| 424/427 [32:47<00:13,  4.35s/it]2019-05-15 04:49:31,333 - algorithms.Algorithm - INFO   - ==> Iteration [  6][ 425 /  426]: {'process_time': 67.2407, 'prec5_c1': 67.418, 'loss': 2.7681, 'prec1_c1': 42.9976, 'load_time': 32.7593}\n",
      "100%|██████████| 427/427 [32:58<00:00,  3.82s/it]\n",
      "2019-05-15 04:49:38,464 - algorithms.Algorithm - INFO   - ==> Training stats: {'process_time': 67.1931, 'prec5_c1': 67.3981, 'loss': 2.7684, 'prec1_c1': 43.0062, 'load_time': 32.8069}\n",
      "2019-05-15 04:49:39,152 - algorithms.Algorithm - INFO   - Evaluating: Custom_NonLinearClassifiers_ImageNet_RotNet_AlexNet_Features_64\n",
      "2019-05-15 04:49:39,162 - algorithms.Algorithm - INFO   - ==> Dataset: custom_supervised/val [64000 images]\n",
      "100%|██████████| 427/427 [18:22<00:00,  2.47s/it]\n",
      "2019-05-15 05:08:01,950 - algorithms.Algorithm - INFO   - ==> Results: {'process_time': 56.3723, 'prec5_c1': 44.6721, 'loss': 3.8988, 'prec1_c1': 22.8712, 'load_time': 43.6277}\n",
      "2019-05-15 05:08:01,974 - algorithms.Algorithm - INFO   - ==> Evaluation stats: {'process_time': 56.3723, 'prec5_c1': 44.6721, 'loss': 3.8988, 'prec1_c1': 22.8712, 'load_time': 43.6277}\n",
      "2019-05-15 05:08:01,976 - algorithms.Algorithm - INFO   - Training epoch [  7 /  40]\n",
      "2019-05-15 05:08:01,977 - algorithms.Algorithm - INFO   - ==> Set to classifier optimizer lr = 0.0100000000\n"
     ]
    },
    {
     "name": "stderr",
     "output_type": "stream",
     "text": [
      "2019-05-15 05:08:01,978 - algorithms.Algorithm - INFO   - Training: Custom_NonLinearClassifiers_ImageNet_RotNet_AlexNet_Features_64\n",
      "  1%|          | 4/427 [00:20<36:44,  5.21s/it]2019-05-15 05:08:26,617 - algorithms.Algorithm - INFO   - ==> Iteration [  7][   5 /  426]: {'process_time': 59.1898, 'prec5_c1': 76.2667, 'loss': 2.3646, 'prec1_c1': 51.8667, 'load_time': 40.8102}\n",
      "  2%|▏         | 9/427 [00:44<34:05,  4.89s/it]2019-05-15 05:08:50,772 - algorithms.Algorithm - INFO   - ==> Iteration [  7][  10 /  426]: {'process_time': 61.8109, 'prec5_c1': 75.6667, 'loss': 2.39, 'prec1_c1': 50.8667, 'load_time': 38.1891}\n",
      "  3%|▎         | 14/427 [01:06<31:08,  4.52s/it]2019-05-15 05:09:13,159 - algorithms.Algorithm - INFO   - ==> Iteration [  7][  15 /  426]: {'process_time': 62.24, 'prec5_c1': 74.9778, 'loss': 2.4246, 'prec1_c1': 50.2667, 'load_time': 37.76}\n",
      "  4%|▍         | 19/427 [01:28<29:52,  4.39s/it]2019-05-15 05:09:34,697 - algorithms.Algorithm - INFO   - ==> Iteration [  7][  20 /  426]: {'process_time': 61.5472, 'prec5_c1': 75.0, 'loss': 2.409, 'prec1_c1': 50.2667, 'load_time': 38.4528}\n",
      "  6%|▌         | 24/427 [01:50<29:25,  4.38s/it]2019-05-15 05:09:57,062 - algorithms.Algorithm - INFO   - ==> Iteration [  7][  25 /  426]: {'process_time': 62.1903, 'prec5_c1': 74.4, 'loss': 2.4199, 'prec1_c1': 50.32, 'load_time': 37.8097}\n",
      "  7%|▋         | 29/427 [02:15<32:26,  4.89s/it]2019-05-15 05:10:22,651 - algorithms.Algorithm - INFO   - ==> Iteration [  7][  30 /  426]: {'process_time': 64.9651, 'prec5_c1': 74.3778, 'loss': 2.4299, 'prec1_c1': 49.9333, 'load_time': 35.0349}\n",
      "  8%|▊         | 34/427 [02:40<33:43,  5.15s/it]2019-05-15 05:10:47,638 - algorithms.Algorithm - INFO   - ==> Iteration [  7][  35 /  426]: {'process_time': 64.2089, 'prec5_c1': 74.4952, 'loss': 2.4286, 'prec1_c1': 49.9238, 'load_time': 35.7911}\n",
      "  9%|▉         | 39/427 [03:05<33:03,  5.11s/it]2019-05-15 05:11:12,692 - algorithms.Algorithm - INFO   - ==> Iteration [  7][  40 /  426]: {'process_time': 63.9969, 'prec5_c1': 74.6833, 'loss': 2.4118, 'prec1_c1': 50.5, 'load_time': 36.0031}\n",
      " 10%|█         | 44/427 [03:31<34:06,  5.34s/it]2019-05-15 05:11:38,030 - algorithms.Algorithm - INFO   - ==> Iteration [  7][  45 /  426]: {'process_time': 64.2833, 'prec5_c1': 74.8, 'loss': 2.4091, 'prec1_c1': 50.4296, 'load_time': 35.7167}\n",
      " 11%|█▏        | 49/427 [03:54<29:19,  4.66s/it]2019-05-15 05:12:00,709 - algorithms.Algorithm - INFO   - ==> Iteration [  7][  50 /  426]: {'process_time': 64.8434, 'prec5_c1': 74.8667, 'loss': 2.4066, 'prec1_c1': 50.48, 'load_time': 35.1566}\n",
      " 13%|█▎        | 54/427 [04:14<25:35,  4.12s/it]2019-05-15 05:12:20,987 - algorithms.Algorithm - INFO   - ==> Iteration [  7][  55 /  426]: {'process_time': 65.2456, 'prec5_c1': 74.6788, 'loss': 2.4084, 'prec1_c1': 50.497, 'load_time': 34.7544}\n",
      " 14%|█▍        | 59/427 [04:36<26:03,  4.25s/it]2019-05-15 05:12:42,432 - algorithms.Algorithm - INFO   - ==> Iteration [  7][  60 /  426]: {'process_time': 64.5415, 'prec5_c1': 74.4556, 'loss': 2.4141, 'prec1_c1': 50.3889, 'load_time': 35.4585}\n",
      " 15%|█▍        | 64/427 [04:59<27:54,  4.61s/it]2019-05-15 05:13:06,294 - algorithms.Algorithm - INFO   - ==> Iteration [  7][  65 /  426]: {'process_time': 65.4925, 'prec5_c1': 74.2667, 'loss': 2.4255, 'prec1_c1': 50.0, 'load_time': 34.5075}\n",
      " 16%|█▌        | 69/427 [05:23<28:14,  4.73s/it]2019-05-15 05:13:28,941 - algorithms.Algorithm - INFO   - ==> Iteration [  7][  70 /  426]: {'process_time': 66.2931, 'prec5_c1': 74.2, 'loss': 2.4307, 'prec1_c1': 49.9143, 'load_time': 33.7069}\n",
      " 17%|█▋        | 74/427 [05:43<25:33,  4.34s/it]2019-05-15 05:13:50,143 - algorithms.Algorithm - INFO   - ==> Iteration [  7][  75 /  426]: {'process_time': 66.0581, 'prec5_c1': 74.1422, 'loss': 2.4337, 'prec1_c1': 49.8133, 'load_time': 33.9419}\n",
      " 19%|█▊        | 79/427 [06:04<24:09,  4.16s/it]2019-05-15 05:14:11,912 - algorithms.Algorithm - INFO   - ==> Iteration [  7][  80 /  426]: {'process_time': 66.4337, 'prec5_c1': 74.1417, 'loss': 2.4301, 'prec1_c1': 49.7833, 'load_time': 33.5663}\n",
      " 20%|█▉        | 84/427 [06:27<25:18,  4.43s/it]2019-05-15 05:14:33,758 - algorithms.Algorithm - INFO   - ==> Iteration [  7][  85 /  426]: {'process_time': 66.1975, 'prec5_c1': 74.1961, 'loss': 2.4314, 'prec1_c1': 49.7412, 'load_time': 33.8025}\n",
      " 21%|██        | 89/427 [06:48<23:42,  4.21s/it]2019-05-15 05:14:54,668 - algorithms.Algorithm - INFO   - ==> Iteration [  7][  90 /  426]: {'process_time': 66.0886, 'prec5_c1': 74.0074, 'loss': 2.4363, 'prec1_c1': 49.7556, 'load_time': 33.9114}\n",
      " 22%|██▏       | 94/427 [07:10<24:00,  4.33s/it]2019-05-15 05:15:17,807 - algorithms.Algorithm - INFO   - ==> Iteration [  7][  95 /  426]: {'process_time': 66.3148, 'prec5_c1': 73.986, 'loss': 2.4403, 'prec1_c1': 49.6211, 'load_time': 33.6852}\n",
      " 23%|██▎       | 99/427 [07:33<24:59,  4.57s/it]2019-05-15 05:15:40,521 - algorithms.Algorithm - INFO   - ==> Iteration [  7][ 100 /  426]: {'process_time': 66.5773, 'prec5_c1': 74.1, 'loss': 2.4392, 'prec1_c1': 49.6467, 'load_time': 33.4227}\n",
      " 24%|██▍       | 104/427 [07:59<27:02,  5.02s/it]2019-05-15 05:16:06,957 - algorithms.Algorithm - INFO   - ==> Iteration [  7][ 105 /  426]: {'process_time': 66.9233, 'prec5_c1': 73.9492, 'loss': 2.4461, 'prec1_c1': 49.5619, 'load_time': 33.0767}\n",
      " 26%|██▌       | 109/427 [08:22<23:45,  4.48s/it]2019-05-15 05:16:28,998 - algorithms.Algorithm - INFO   - ==> Iteration [  7][ 110 /  426]: {'process_time': 67.0848, 'prec5_c1': 73.7636, 'loss': 2.4548, 'prec1_c1': 49.4, 'load_time': 32.9152}\n",
      " 27%|██▋       | 114/427 [08:45<24:31,  4.70s/it]2019-05-15 05:16:51,636 - algorithms.Algorithm - INFO   - ==> Iteration [  7][ 115 /  426]: {'process_time': 67.3217, 'prec5_c1': 73.8029, 'loss': 2.4548, 'prec1_c1': 49.3681, 'load_time': 32.6783}\n",
      " 28%|██▊       | 119/427 [09:07<22:57,  4.47s/it]2019-05-15 05:17:14,031 - algorithms.Algorithm - INFO   - ==> Iteration [  7][ 120 /  426]: {'process_time': 67.2341, 'prec5_c1': 73.6444, 'loss': 2.457, 'prec1_c1': 49.3778, 'load_time': 32.7659}\n",
      " 29%|██▉       | 124/427 [09:29<21:55,  4.34s/it]2019-05-15 05:17:35,892 - algorithms.Algorithm - INFO   - ==> Iteration [  7][ 125 /  426]: {'process_time': 67.2502, 'prec5_c1': 73.7173, 'loss': 2.4549, 'prec1_c1': 49.456, 'load_time': 32.7498}\n",
      " 30%|███       | 129/427 [09:51<22:32,  4.54s/it]2019-05-15 05:18:00,080 - algorithms.Algorithm - INFO   - ==> Iteration [  7][ 130 /  426]: {'process_time': 67.4494, 'prec5_c1': 73.7692, 'loss': 2.4519, 'prec1_c1': 49.4872, 'load_time': 32.5506}\n",
      " 31%|███▏      | 134/427 [10:15<22:07,  4.53s/it]2019-05-15 05:18:21,922 - algorithms.Algorithm - INFO   - ==> Iteration [  7][ 135 /  426]: {'process_time': 67.3718, 'prec5_c1': 73.6938, 'loss': 2.4542, 'prec1_c1': 49.4914, 'load_time': 32.6282}\n",
      " 33%|███▎      | 139/427 [10:38<21:56,  4.57s/it]2019-05-15 05:18:44,700 - algorithms.Algorithm - INFO   - ==> Iteration [  7][ 140 /  426]: {'process_time': 67.1729, 'prec5_c1': 73.7048, 'loss': 2.4525, 'prec1_c1': 49.5476, 'load_time': 32.8271}\n",
      " 34%|███▎      | 144/427 [11:00<21:16,  4.51s/it]2019-05-15 05:19:07,052 - algorithms.Algorithm - INFO   - ==> Iteration [  7][ 145 /  426]: {'process_time': 67.2728, 'prec5_c1': 73.7701, 'loss': 2.4512, 'prec1_c1': 49.5954, 'load_time': 32.7272}\n",
      " 35%|███▍      | 149/427 [11:24<21:26,  4.63s/it]2019-05-15 05:19:30,819 - algorithms.Algorithm - INFO   - ==> Iteration [  7][ 150 /  426]: {'process_time': 67.2034, 'prec5_c1': 73.72, 'loss': 2.4526, 'prec1_c1': 49.5378, 'load_time': 32.7966}\n",
      " 36%|███▌      | 154/427 [11:48<22:50,  5.02s/it]2019-05-15 05:19:55,532 - algorithms.Algorithm - INFO   - ==> Iteration [  7][ 155 /  426]: {'process_time': 67.3667, 'prec5_c1': 73.7419, 'loss': 2.4528, 'prec1_c1': 49.5656, 'load_time': 32.6333}\n",
      " 37%|███▋      | 159/427 [12:12<21:29,  4.81s/it]2019-05-15 05:20:18,670 - algorithms.Algorithm - INFO   - ==> Iteration [  7][ 160 /  426]: {'process_time': 67.6277, 'prec5_c1': 73.5875, 'loss': 2.4605, 'prec1_c1': 49.3625, 'load_time': 32.3723}\n",
      " 38%|███▊      | 164/427 [12:35<20:18,  4.63s/it]2019-05-15 05:20:41,665 - algorithms.Algorithm - INFO   - ==> Iteration [  7][ 165 /  426]: {'process_time': 67.7025, 'prec5_c1': 73.4303, 'loss': 2.4663, 'prec1_c1': 49.2687, 'load_time': 32.2975}\n"
     ]
    },
    {
     "name": "stderr",
     "output_type": "stream",
     "text": [
      " 40%|███▉      | 169/427 [12:57<19:08,  4.45s/it]2019-05-15 05:21:03,702 - algorithms.Algorithm - INFO   - ==> Iteration [  7][ 170 /  426]: {'process_time': 67.8301, 'prec5_c1': 73.4078, 'loss': 2.4665, 'prec1_c1': 49.2667, 'load_time': 32.1699}\n",
      " 41%|████      | 174/427 [13:19<18:12,  4.32s/it]2019-05-15 05:21:25,898 - algorithms.Algorithm - INFO   - ==> Iteration [  7][ 175 /  426]: {'process_time': 67.8107, 'prec5_c1': 73.3638, 'loss': 2.4703, 'prec1_c1': 49.139, 'load_time': 32.1893}\n",
      " 42%|████▏     | 179/427 [13:41<18:13,  4.41s/it]2019-05-15 05:21:48,216 - algorithms.Algorithm - INFO   - ==> Iteration [  7][ 180 /  426]: {'process_time': 67.8406, 'prec5_c1': 73.2852, 'loss': 2.4726, 'prec1_c1': 49.0852, 'load_time': 32.1594}\n",
      " 43%|████▎     | 184/427 [14:07<20:14,  5.00s/it]2019-05-15 05:22:13,752 - algorithms.Algorithm - INFO   - ==> Iteration [  7][ 185 /  426]: {'process_time': 67.8528, 'prec5_c1': 73.2108, 'loss': 2.4753, 'prec1_c1': 49.027, 'load_time': 32.1472}\n",
      " 44%|████▍     | 189/427 [14:29<17:50,  4.50s/it]2019-05-15 05:22:36,059 - algorithms.Algorithm - INFO   - ==> Iteration [  7][ 190 /  426]: {'process_time': 67.8494, 'prec5_c1': 73.2316, 'loss': 2.4749, 'prec1_c1': 48.9965, 'load_time': 32.1506}\n",
      " 45%|████▌     | 194/427 [14:51<16:54,  4.36s/it]2019-05-15 05:22:57,402 - algorithms.Algorithm - INFO   - ==> Iteration [  7][ 195 /  426]: {'process_time': 67.7988, 'prec5_c1': 73.2513, 'loss': 2.4745, 'prec1_c1': 48.9709, 'load_time': 32.2012}\n",
      " 47%|████▋     | 199/427 [15:15<18:35,  4.89s/it]2019-05-15 05:23:21,693 - algorithms.Algorithm - INFO   - ==> Iteration [  7][ 200 /  426]: {'process_time': 67.9576, 'prec5_c1': 73.2167, 'loss': 2.4755, 'prec1_c1': 48.8867, 'load_time': 32.0424}\n",
      " 48%|████▊     | 204/427 [15:38<17:44,  4.77s/it]2019-05-15 05:23:45,291 - algorithms.Algorithm - INFO   - ==> Iteration [  7][ 205 /  426]: {'process_time': 68.1116, 'prec5_c1': 73.1545, 'loss': 2.4762, 'prec1_c1': 48.8846, 'load_time': 31.8884}\n",
      " 49%|████▉     | 209/427 [16:01<16:34,  4.56s/it]2019-05-15 05:24:07,970 - algorithms.Algorithm - INFO   - ==> Iteration [  7][ 210 /  426]: {'process_time': 68.0216, 'prec5_c1': 73.1587, 'loss': 2.476, 'prec1_c1': 48.8984, 'load_time': 31.9784}\n",
      " 50%|█████     | 214/427 [16:24<16:03,  4.52s/it]2019-05-15 05:24:30,926 - algorithms.Algorithm - INFO   - ==> Iteration [  7][ 215 /  426]: {'process_time': 68.1055, 'prec5_c1': 73.107, 'loss': 2.4761, 'prec1_c1': 48.9023, 'load_time': 31.8945}\n",
      " 51%|█████▏    | 219/427 [16:46<15:32,  4.48s/it]2019-05-15 05:24:53,293 - algorithms.Algorithm - INFO   - ==> Iteration [  7][ 220 /  426]: {'process_time': 68.0939, 'prec5_c1': 73.0485, 'loss': 2.4782, 'prec1_c1': 48.8545, 'load_time': 31.9061}\n",
      " 52%|█████▏    | 224/427 [17:10<15:40,  4.63s/it]2019-05-15 05:25:18,687 - algorithms.Algorithm - INFO   - ==> Iteration [  7][ 225 /  426]: {'process_time': 68.1688, 'prec5_c1': 72.9719, 'loss': 2.4797, 'prec1_c1': 48.8415, 'load_time': 31.8312}\n",
      " 54%|█████▎    | 229/427 [17:33<14:42,  4.45s/it]2019-05-15 05:25:40,211 - algorithms.Algorithm - INFO   - ==> Iteration [  7][ 230 /  426]: {'process_time': 68.1126, 'prec5_c1': 72.9739, 'loss': 2.4798, 'prec1_c1': 48.8087, 'load_time': 31.8874}\n",
      " 55%|█████▍    | 234/427 [17:55<13:50,  4.30s/it]2019-05-15 05:26:01,854 - algorithms.Algorithm - INFO   - ==> Iteration [  7][ 235 /  426]: {'process_time': 68.0868, 'prec5_c1': 72.9957, 'loss': 2.4781, 'prec1_c1': 48.8539, 'load_time': 31.9132}\n",
      " 56%|█████▌    | 239/427 [18:20<15:21,  4.90s/it]2019-05-15 05:26:26,723 - algorithms.Algorithm - INFO   - ==> Iteration [  7][ 240 /  426]: {'process_time': 68.1432, 'prec5_c1': 72.9306, 'loss': 2.4794, 'prec1_c1': 48.8444, 'load_time': 31.8568}\n",
      " 57%|█████▋    | 244/427 [18:42<13:45,  4.51s/it]2019-05-15 05:26:48,700 - algorithms.Algorithm - INFO   - ==> Iteration [  7][ 245 /  426]: {'process_time': 68.101, 'prec5_c1': 72.9415, 'loss': 2.4769, 'prec1_c1': 48.8952, 'load_time': 31.899}\n",
      " 58%|█████▊    | 249/427 [19:06<13:28,  4.54s/it]2019-05-15 05:27:12,869 - algorithms.Algorithm - INFO   - ==> Iteration [  7][ 250 /  426]: {'process_time': 68.0953, 'prec5_c1': 72.9147, 'loss': 2.4764, 'prec1_c1': 48.896, 'load_time': 31.9047}\n",
      " 59%|█████▉    | 254/427 [19:30<13:56,  4.83s/it]2019-05-15 05:27:36,996 - algorithms.Algorithm - INFO   - ==> Iteration [  7][ 255 /  426]: {'process_time': 68.2442, 'prec5_c1': 72.902, 'loss': 2.4779, 'prec1_c1': 48.8732, 'load_time': 31.7558}\n",
      " 61%|██████    | 259/427 [19:55<13:52,  4.96s/it]2019-05-15 05:28:01,180 - algorithms.Algorithm - INFO   - ==> Iteration [  7][ 260 /  426]: {'process_time': 68.0495, 'prec5_c1': 72.8462, 'loss': 2.4796, 'prec1_c1': 48.841, 'load_time': 31.9505}\n",
      " 62%|██████▏   | 264/427 [20:17<12:47,  4.71s/it]2019-05-15 05:28:23,854 - algorithms.Algorithm - INFO   - ==> Iteration [  7][ 265 /  426]: {'process_time': 67.8556, 'prec5_c1': 72.8226, 'loss': 2.4813, 'prec1_c1': 48.7849, 'load_time': 32.1444}\n",
      " 63%|██████▎   | 269/427 [20:39<11:32,  4.39s/it]2019-05-15 05:28:45,249 - algorithms.Algorithm - INFO   - ==> Iteration [  7][ 270 /  426]: {'process_time': 67.6653, 'prec5_c1': 72.8667, 'loss': 2.4808, 'prec1_c1': 48.7802, 'load_time': 32.3347}\n",
      " 64%|██████▍   | 274/427 [21:01<11:23,  4.47s/it]2019-05-15 05:29:08,122 - algorithms.Algorithm - INFO   - ==> Iteration [  7][ 275 /  426]: {'process_time': 67.5141, 'prec5_c1': 72.8388, 'loss': 2.4823, 'prec1_c1': 48.7248, 'load_time': 32.4859}\n",
      " 65%|██████▌   | 279/427 [21:23<10:33,  4.28s/it]2019-05-15 05:29:29,951 - algorithms.Algorithm - INFO   - ==> Iteration [  7][ 280 /  426]: {'process_time': 67.2795, 'prec5_c1': 72.8048, 'loss': 2.4821, 'prec1_c1': 48.719, 'load_time': 32.7205}\n",
      " 67%|██████▋   | 284/427 [21:45<10:34,  4.44s/it]2019-05-15 05:29:51,602 - algorithms.Algorithm - INFO   - ==> Iteration [  7][ 285 /  426]: {'process_time': 67.0597, 'prec5_c1': 72.7813, 'loss': 2.4835, 'prec1_c1': 48.6526, 'load_time': 32.9403}\n",
      " 68%|██████▊   | 289/427 [22:07<10:03,  4.37s/it]2019-05-15 05:30:13,971 - algorithms.Algorithm - INFO   - ==> Iteration [  7][ 290 /  426]: {'process_time': 66.8703, 'prec5_c1': 72.7035, 'loss': 2.4867, 'prec1_c1': 48.6276, 'load_time': 33.1297}\n",
      " 69%|██████▉   | 294/427 [22:28<09:19,  4.21s/it]2019-05-15 05:30:35,451 - algorithms.Algorithm - INFO   - ==> Iteration [  7][ 295 /  426]: {'process_time': 66.8262, 'prec5_c1': 72.6599, 'loss': 2.4878, 'prec1_c1': 48.5989, 'load_time': 33.1738}\n",
      " 70%|███████   | 299/427 [22:50<09:09,  4.30s/it]2019-05-15 05:30:56,529 - algorithms.Algorithm - INFO   - ==> Iteration [  7][ 300 /  426]: {'process_time': 66.6073, 'prec5_c1': 72.6067, 'loss': 2.4891, 'prec1_c1': 48.5644, 'load_time': 33.3927}\n",
      " 71%|███████   | 304/427 [23:11<08:46,  4.28s/it]2019-05-15 05:31:17,693 - algorithms.Algorithm - INFO   - ==> Iteration [  7][ 305 /  426]: {'process_time': 66.4399, 'prec5_c1': 72.5814, 'loss': 2.4905, 'prec1_c1': 48.4852, 'load_time': 33.5601}\n",
      " 72%|███████▏  | 309/427 [23:34<08:50,  4.49s/it]2019-05-15 05:31:40,858 - algorithms.Algorithm - INFO   - ==> Iteration [  7][ 310 /  426]: {'process_time': 66.2837, 'prec5_c1': 72.5699, 'loss': 2.4917, 'prec1_c1': 48.443, 'load_time': 33.7163}\n",
      " 74%|███████▎  | 314/427 [23:56<08:17,  4.41s/it]2019-05-15 05:32:03,060 - algorithms.Algorithm - INFO   - ==> Iteration [  7][ 315 /  426]: {'process_time': 66.2239, 'prec5_c1': 72.546, 'loss': 2.493, 'prec1_c1': 48.4106, 'load_time': 33.7761}\n",
      " 75%|███████▍  | 319/427 [24:18<07:48,  4.34s/it]2019-05-15 05:32:24,552 - algorithms.Algorithm - INFO   - ==> Iteration [  7][ 320 /  426]: {'process_time': 66.1602, 'prec5_c1': 72.5083, 'loss': 2.495, 'prec1_c1': 48.3625, 'load_time': 33.8398}\n",
      " 76%|███████▌  | 324/427 [24:40<07:42,  4.49s/it]2019-05-15 05:32:46,776 - algorithms.Algorithm - INFO   - ==> Iteration [  7][ 325 /  426]: {'process_time': 66.0352, 'prec5_c1': 72.4595, 'loss': 2.496, 'prec1_c1': 48.3754, 'load_time': 33.9648}\n",
      " 77%|███████▋  | 329/427 [25:02<07:14,  4.43s/it]2019-05-15 05:33:09,156 - algorithms.Algorithm - INFO   - ==> Iteration [  7][ 330 /  426]: {'process_time': 66.0273, 'prec5_c1': 72.4485, 'loss': 2.4969, 'prec1_c1': 48.3515, 'load_time': 33.9727}\n",
      " 78%|███████▊  | 334/427 [25:24<06:46,  4.37s/it]2019-05-15 05:33:30,270 - algorithms.Algorithm - INFO   - ==> Iteration [  7][ 335 /  426]: {'process_time': 65.786, 'prec5_c1': 72.4398, 'loss': 2.4977, 'prec1_c1': 48.3104, 'load_time': 34.214}\n"
     ]
    },
    {
     "name": "stderr",
     "output_type": "stream",
     "text": [
      " 79%|███████▉  | 339/427 [25:44<06:07,  4.18s/it]2019-05-15 05:33:50,795 - algorithms.Algorithm - INFO   - ==> Iteration [  7][ 340 /  426]: {'process_time': 65.6163, 'prec5_c1': 72.3784, 'loss': 2.5006, 'prec1_c1': 48.2627, 'load_time': 34.3837}\n",
      " 81%|████████  | 344/427 [26:05<05:39,  4.08s/it]2019-05-15 05:34:11,844 - algorithms.Algorithm - INFO   - ==> Iteration [  7][ 345 /  426]: {'process_time': 65.5271, 'prec5_c1': 72.3614, 'loss': 2.5015, 'prec1_c1': 48.2164, 'load_time': 34.4729}\n",
      " 82%|████████▏ | 349/427 [26:26<05:28,  4.22s/it]2019-05-15 05:34:31,918 - algorithms.Algorithm - INFO   - ==> Iteration [  7][ 350 /  426]: {'process_time': 65.3913, 'prec5_c1': 72.3219, 'loss': 2.5038, 'prec1_c1': 48.1676, 'load_time': 34.6087}\n",
      " 83%|████████▎ | 354/427 [26:48<05:24,  4.45s/it]2019-05-15 05:34:55,504 - algorithms.Algorithm - INFO   - ==> Iteration [  7][ 355 /  426]: {'process_time': 65.2969, 'prec5_c1': 72.2761, 'loss': 2.5064, 'prec1_c1': 48.1033, 'load_time': 34.7031}\n",
      " 84%|████████▍ | 359/427 [27:10<05:13,  4.61s/it]2019-05-15 05:35:17,187 - algorithms.Algorithm - INFO   - ==> Iteration [  7][ 360 /  426]: {'process_time': 65.1893, 'prec5_c1': 72.2222, 'loss': 2.5085, 'prec1_c1': 48.0463, 'load_time': 34.8107}\n",
      " 85%|████████▌ | 364/427 [27:32<04:34,  4.35s/it]2019-05-15 05:35:38,347 - algorithms.Algorithm - INFO   - ==> Iteration [  7][ 365 /  426]: {'process_time': 65.1414, 'prec5_c1': 72.1479, 'loss': 2.5112, 'prec1_c1': 47.969, 'load_time': 34.8586}\n",
      " 86%|████████▋ | 369/427 [27:54<04:22,  4.53s/it]2019-05-15 05:36:01,345 - algorithms.Algorithm - INFO   - ==> Iteration [  7][ 370 /  426]: {'process_time': 65.1138, 'prec5_c1': 72.1604, 'loss': 2.5105, 'prec1_c1': 47.9928, 'load_time': 34.8862}\n",
      " 88%|████████▊ | 374/427 [28:17<03:57,  4.48s/it]2019-05-15 05:36:23,823 - algorithms.Algorithm - INFO   - ==> Iteration [  7][ 375 /  426]: {'process_time': 64.9841, 'prec5_c1': 72.1707, 'loss': 2.5107, 'prec1_c1': 47.9893, 'load_time': 35.0159}\n",
      " 89%|████████▉ | 379/427 [28:38<03:18,  4.14s/it]2019-05-15 05:36:44,549 - algorithms.Algorithm - INFO   - ==> Iteration [  7][ 380 /  426]: {'process_time': 65.0077, 'prec5_c1': 72.1632, 'loss': 2.5111, 'prec1_c1': 47.9754, 'load_time': 34.9923}\n",
      " 90%|████████▉ | 384/427 [28:59<02:58,  4.15s/it]2019-05-15 05:37:05,620 - algorithms.Algorithm - INFO   - ==> Iteration [  7][ 385 /  426]: {'process_time': 65.0335, 'prec5_c1': 72.1281, 'loss': 2.5119, 'prec1_c1': 47.9411, 'load_time': 34.9665}\n",
      " 91%|█████████ | 389/427 [29:21<02:48,  4.43s/it]2019-05-15 05:37:27,885 - algorithms.Algorithm - INFO   - ==> Iteration [  7][ 390 /  426]: {'process_time': 64.9079, 'prec5_c1': 72.0974, 'loss': 2.5133, 'prec1_c1': 47.8838, 'load_time': 35.0921}\n",
      " 92%|█████████▏| 394/427 [29:46<02:34,  4.70s/it]2019-05-15 05:37:52,014 - algorithms.Algorithm - INFO   - ==> Iteration [  7][ 395 /  426]: {'process_time': 64.9053, 'prec5_c1': 72.0439, 'loss': 2.5158, 'prec1_c1': 47.8127, 'load_time': 35.0947}\n",
      " 93%|█████████▎| 399/427 [30:07<01:59,  4.27s/it]2019-05-15 05:38:14,891 - algorithms.Algorithm - INFO   - ==> Iteration [  7][ 400 /  426]: {'process_time': 64.8432, 'prec5_c1': 72.0167, 'loss': 2.5174, 'prec1_c1': 47.7717, 'load_time': 35.1568}\n",
      " 95%|█████████▍| 404/427 [30:32<01:47,  4.70s/it]2019-05-15 05:38:38,362 - algorithms.Algorithm - INFO   - ==> Iteration [  7][ 405 /  426]: {'process_time': 65.0269, 'prec5_c1': 71.9819, 'loss': 2.5197, 'prec1_c1': 47.707, 'load_time': 34.9731}\n",
      " 96%|█████████▌| 409/427 [30:54<01:21,  4.55s/it]2019-05-15 05:39:01,385 - algorithms.Algorithm - INFO   - ==> Iteration [  7][ 410 /  426]: {'process_time': 65.1682, 'prec5_c1': 71.9528, 'loss': 2.5218, 'prec1_c1': 47.6537, 'load_time': 34.8318}\n",
      " 97%|█████████▋| 414/427 [31:17<00:58,  4.53s/it]2019-05-15 05:39:24,703 - algorithms.Algorithm - INFO   - ==> Iteration [  7][ 415 /  426]: {'process_time': 65.1226, 'prec5_c1': 71.9406, 'loss': 2.5231, 'prec1_c1': 47.6273, 'load_time': 34.8774}\n",
      " 98%|█████████▊| 419/427 [31:42<00:39,  4.92s/it]2019-05-15 05:39:48,930 - algorithms.Algorithm - INFO   - ==> Iteration [  7][ 420 /  426]: {'process_time': 65.181, 'prec5_c1': 71.8937, 'loss': 2.5257, 'prec1_c1': 47.5635, 'load_time': 34.819}\n",
      " 99%|█████████▉| 424/427 [32:05<00:14,  4.74s/it]2019-05-15 05:40:13,263 - algorithms.Algorithm - INFO   - ==> Iteration [  7][ 425 /  426]: {'process_time': 65.1447, 'prec5_c1': 71.8714, 'loss': 2.5273, 'prec1_c1': 47.509, 'load_time': 34.8553}\n",
      "100%|██████████| 427/427 [32:18<00:00,  4.29s/it]\n",
      "2019-05-15 05:40:20,922 - algorithms.Algorithm - INFO   - ==> Training stats: {'process_time': 65.183, 'prec5_c1': 71.8681, 'loss': 2.5278, 'prec1_c1': 47.4887, 'load_time': 34.817}\n",
      "2019-05-15 05:40:21,864 - algorithms.Algorithm - INFO   - Evaluating: Custom_NonLinearClassifiers_ImageNet_RotNet_AlexNet_Features_64\n",
      "2019-05-15 05:40:21,866 - algorithms.Algorithm - INFO   - ==> Dataset: custom_supervised/val [64000 images]\n",
      "100%|██████████| 427/427 [22:19<00:00,  2.62s/it]\n",
      "2019-05-15 06:02:41,326 - algorithms.Algorithm - INFO   - ==> Results: {'process_time': 54.5282, 'prec5_c1': 45.6073, 'loss': 3.8667, 'prec1_c1': 23.2365, 'load_time': 45.4718}\n",
      "2019-05-15 06:02:41,354 - algorithms.Algorithm - INFO   - ==> Evaluation stats: {'process_time': 54.5282, 'prec5_c1': 45.6073, 'loss': 3.8667, 'prec1_c1': 23.2365, 'load_time': 45.4718}\n",
      "2019-05-15 06:02:41,356 - algorithms.Algorithm - INFO   - Training epoch [  8 /  40]\n",
      "2019-05-15 06:02:41,357 - algorithms.Algorithm - INFO   - ==> Set to classifier optimizer lr = 0.0100000000\n",
      "2019-05-15 06:02:41,359 - algorithms.Algorithm - INFO   - Training: Custom_NonLinearClassifiers_ImageNet_RotNet_AlexNet_Features_64\n",
      "  1%|          | 4/427 [00:19<36:05,  5.12s/it]2019-05-15 06:03:05,193 - algorithms.Algorithm - INFO   - ==> Iteration [  8][   5 /  426]: {'process_time': 65.5833, 'prec5_c1': 76.2667, 'loss': 2.2376, 'prec1_c1': 53.8667, 'load_time': 34.4167}\n",
      "  2%|▏         | 9/427 [00:42<31:56,  4.58s/it]2019-05-15 06:03:28,241 - algorithms.Algorithm - INFO   - ==> Iteration [  8][  10 /  426]: {'process_time': 71.1424, 'prec5_c1': 77.7333, 'loss': 2.1958, 'prec1_c1': 54.6, 'load_time': 28.8576}\n",
      "  3%|▎         | 14/427 [01:04<31:11,  4.53s/it]2019-05-15 06:03:49,800 - algorithms.Algorithm - INFO   - ==> Iteration [  8][  15 /  426]: {'process_time': 69.5507, 'prec5_c1': 77.4222, 'loss': 2.2198, 'prec1_c1': 54.4444, 'load_time': 30.4493}\n",
      "  4%|▍         | 19/427 [01:25<29:30,  4.34s/it]2019-05-15 06:04:12,128 - algorithms.Algorithm - INFO   - ==> Iteration [  8][  20 /  426]: {'process_time': 71.6593, 'prec5_c1': 77.5, 'loss': 2.2218, 'prec1_c1': 54.2333, 'load_time': 28.3407}\n",
      "  6%|▌         | 24/427 [01:50<32:14,  4.80s/it]2019-05-15 06:04:37,424 - algorithms.Algorithm - INFO   - ==> Iteration [  8][  25 /  426]: {'process_time': 73.0806, 'prec5_c1': 78.2933, 'loss': 2.2036, 'prec1_c1': 55.0667, 'load_time': 26.9194}\n",
      "  7%|▋         | 29/427 [02:13<30:15,  4.56s/it]2019-05-15 06:04:59,763 - algorithms.Algorithm - INFO   - ==> Iteration [  8][  30 /  426]: {'process_time': 73.7096, 'prec5_c1': 78.3556, 'loss': 2.1982, 'prec1_c1': 55.1778, 'load_time': 26.2904}\n",
      "  8%|▊         | 34/427 [02:37<30:38,  4.68s/it]2019-05-15 06:05:22,491 - algorithms.Algorithm - INFO   - ==> Iteration [  8][  35 /  426]: {'process_time': 74.2112, 'prec5_c1': 78.4191, 'loss': 2.1983, 'prec1_c1': 54.9333, 'load_time': 25.7888}\n",
      "  9%|▉         | 39/427 [02:59<29:04,  4.50s/it]2019-05-15 06:05:45,337 - algorithms.Algorithm - INFO   - ==> Iteration [  8][  40 /  426]: {'process_time': 74.6378, 'prec5_c1': 78.0333, 'loss': 2.2199, 'prec1_c1': 54.6333, 'load_time': 25.3622}\n",
      " 10%|█         | 44/427 [03:22<30:05,  4.71s/it]2019-05-15 06:06:08,640 - algorithms.Algorithm - INFO   - ==> Iteration [  8][  45 /  426]: {'process_time': 75.368, 'prec5_c1': 77.7926, 'loss': 2.2301, 'prec1_c1': 54.3259, 'load_time': 24.632}\n",
      " 11%|█▏        | 49/427 [03:46<29:36,  4.70s/it]2019-05-15 06:06:32,287 - algorithms.Algorithm - INFO   - ==> Iteration [  8][  50 /  426]: {'process_time': 74.9335, 'prec5_c1': 77.6667, 'loss': 2.2374, 'prec1_c1': 54.2933, 'load_time': 25.0665}\n",
      " 13%|█▎        | 54/427 [04:08<28:07,  4.52s/it]2019-05-15 06:06:55,477 - algorithms.Algorithm - INFO   - ==> Iteration [  8][  55 /  426]: {'process_time': 74.7727, 'prec5_c1': 77.8909, 'loss': 2.2244, 'prec1_c1': 54.4848, 'load_time': 25.2273}\n"
     ]
    },
    {
     "name": "stderr",
     "output_type": "stream",
     "text": [
      " 14%|█▍        | 59/427 [04:33<29:58,  4.89s/it]2019-05-15 06:07:19,707 - algorithms.Algorithm - INFO   - ==> Iteration [  8][  60 /  426]: {'process_time': 74.7535, 'prec5_c1': 78.0, 'loss': 2.218, 'prec1_c1': 54.6, 'load_time': 25.2465}\n",
      " 15%|█▍        | 64/427 [04:56<27:14,  4.50s/it]2019-05-15 06:07:42,245 - algorithms.Algorithm - INFO   - ==> Iteration [  8][  65 /  426]: {'process_time': 74.0008, 'prec5_c1': 78.1436, 'loss': 2.2165, 'prec1_c1': 54.7282, 'load_time': 25.9992}\n",
      " 16%|█▌        | 69/427 [05:18<27:10,  4.55s/it]2019-05-15 06:08:04,595 - algorithms.Algorithm - INFO   - ==> Iteration [  8][  70 /  426]: {'process_time': 74.0732, 'prec5_c1': 78.1905, 'loss': 2.2126, 'prec1_c1': 54.9143, 'load_time': 25.9268}\n",
      " 17%|█▋        | 74/427 [05:41<27:04,  4.60s/it]2019-05-15 06:08:27,526 - algorithms.Algorithm - INFO   - ==> Iteration [  8][  75 /  426]: {'process_time': 73.5709, 'prec5_c1': 78.2222, 'loss': 2.2162, 'prec1_c1': 54.7822, 'load_time': 26.4291}\n",
      " 19%|█▊        | 79/427 [06:04<26:33,  4.58s/it]2019-05-15 06:08:49,820 - algorithms.Algorithm - INFO   - ==> Iteration [  8][  80 /  426]: {'process_time': 73.5508, 'prec5_c1': 78.1083, 'loss': 2.217, 'prec1_c1': 54.7083, 'load_time': 26.4492}\n",
      " 20%|█▉        | 84/427 [06:26<25:27,  4.45s/it]2019-05-15 06:09:12,872 - algorithms.Algorithm - INFO   - ==> Iteration [  8][  85 /  426]: {'process_time': 73.5414, 'prec5_c1': 77.9765, 'loss': 2.2176, 'prec1_c1': 54.6824, 'load_time': 26.4586}\n",
      " 21%|██        | 89/427 [06:48<24:35,  4.36s/it]2019-05-15 06:09:34,426 - algorithms.Algorithm - INFO   - ==> Iteration [  8][  90 /  426]: {'process_time': 73.2694, 'prec5_c1': 77.9704, 'loss': 2.2211, 'prec1_c1': 54.6593, 'load_time': 26.7306}\n",
      " 22%|██▏       | 94/427 [07:10<24:18,  4.38s/it]2019-05-15 06:09:56,800 - algorithms.Algorithm - INFO   - ==> Iteration [  8][  95 /  426]: {'process_time': 73.1211, 'prec5_c1': 77.9298, 'loss': 2.2218, 'prec1_c1': 54.6597, 'load_time': 26.8789}\n",
      " 23%|██▎       | 99/427 [07:33<24:47,  4.53s/it]2019-05-15 06:10:19,259 - algorithms.Algorithm - INFO   - ==> Iteration [  8][ 100 /  426]: {'process_time': 73.1157, 'prec5_c1': 77.7533, 'loss': 2.2266, 'prec1_c1': 54.4533, 'load_time': 26.8843}\n",
      " 24%|██▍       | 104/427 [07:55<24:15,  4.51s/it]2019-05-15 06:10:41,565 - algorithms.Algorithm - INFO   - ==> Iteration [  8][ 105 /  426]: {'process_time': 73.0282, 'prec5_c1': 77.727, 'loss': 2.2268, 'prec1_c1': 54.3937, 'load_time': 26.9718}\n",
      " 26%|██▌       | 109/427 [08:18<23:49,  4.50s/it]2019-05-15 06:11:03,770 - algorithms.Algorithm - INFO   - ==> Iteration [  8][ 110 /  426]: {'process_time': 73.1264, 'prec5_c1': 77.697, 'loss': 2.2282, 'prec1_c1': 54.3879, 'load_time': 26.8736}\n",
      " 27%|██▋       | 114/427 [08:40<23:02,  4.42s/it]2019-05-15 06:11:25,613 - algorithms.Algorithm - INFO   - ==> Iteration [  8][ 115 /  426]: {'process_time': 73.1423, 'prec5_c1': 77.6464, 'loss': 2.2305, 'prec1_c1': 54.371, 'load_time': 26.8577}\n",
      " 28%|██▊       | 119/427 [09:01<21:47,  4.25s/it]2019-05-15 06:11:46,512 - algorithms.Algorithm - INFO   - ==> Iteration [  8][ 120 /  426]: {'process_time': 72.6423, 'prec5_c1': 77.5667, 'loss': 2.234, 'prec1_c1': 54.3111, 'load_time': 27.3577}\n",
      " 29%|██▉       | 124/427 [09:24<23:15,  4.61s/it]2019-05-15 06:12:10,298 - algorithms.Algorithm - INFO   - ==> Iteration [  8][ 125 /  426]: {'process_time': 72.4348, 'prec5_c1': 77.52, 'loss': 2.2371, 'prec1_c1': 54.224, 'load_time': 27.5652}\n",
      " 30%|███       | 129/427 [09:47<23:10,  4.67s/it]2019-05-15 06:12:32,816 - algorithms.Algorithm - INFO   - ==> Iteration [  8][ 130 /  426]: {'process_time': 72.1164, 'prec5_c1': 77.5026, 'loss': 2.2363, 'prec1_c1': 54.2256, 'load_time': 27.8836}\n",
      " 31%|███▏      | 134/427 [10:09<22:02,  4.51s/it]2019-05-15 06:12:55,863 - algorithms.Algorithm - INFO   - ==> Iteration [  8][ 135 /  426]: {'process_time': 72.3115, 'prec5_c1': 77.4222, 'loss': 2.2397, 'prec1_c1': 54.1432, 'load_time': 27.6885}\n",
      " 33%|███▎      | 139/427 [10:33<23:05,  4.81s/it]2019-05-15 06:13:19,364 - algorithms.Algorithm - INFO   - ==> Iteration [  8][ 140 /  426]: {'process_time': 71.8301, 'prec5_c1': 77.4429, 'loss': 2.2404, 'prec1_c1': 54.1286, 'load_time': 28.1699}\n",
      " 34%|███▎      | 144/427 [10:57<22:55,  4.86s/it]2019-05-15 06:13:43,571 - algorithms.Algorithm - INFO   - ==> Iteration [  8][ 145 /  426]: {'process_time': 71.868, 'prec5_c1': 77.4023, 'loss': 2.243, 'prec1_c1': 54.0368, 'load_time': 28.132}\n",
      " 35%|███▍      | 149/427 [11:22<23:18,  5.03s/it]2019-05-15 06:14:07,525 - algorithms.Algorithm - INFO   - ==> Iteration [  8][ 150 /  426]: {'process_time': 71.6151, 'prec5_c1': 77.2711, 'loss': 2.2477, 'prec1_c1': 53.9822, 'load_time': 28.3849}\n",
      " 36%|███▌      | 154/427 [11:44<20:58,  4.61s/it]2019-05-15 06:14:30,656 - algorithms.Algorithm - INFO   - ==> Iteration [  8][ 155 /  426]: {'process_time': 71.2442, 'prec5_c1': 77.2602, 'loss': 2.249, 'prec1_c1': 53.9484, 'load_time': 28.7558}\n",
      " 37%|███▋      | 159/427 [12:08<21:27,  4.80s/it]2019-05-15 06:14:54,163 - algorithms.Algorithm - INFO   - ==> Iteration [  8][ 160 /  426]: {'process_time': 70.9895, 'prec5_c1': 77.2375, 'loss': 2.2495, 'prec1_c1': 53.9125, 'load_time': 29.0105}\n",
      " 38%|███▊      | 164/427 [12:32<21:18,  4.86s/it]2019-05-15 06:15:17,968 - algorithms.Algorithm - INFO   - ==> Iteration [  8][ 165 /  426]: {'process_time': 70.7372, 'prec5_c1': 77.1071, 'loss': 2.2546, 'prec1_c1': 53.8101, 'load_time': 29.2628}\n",
      " 40%|███▉      | 169/427 [12:56<21:21,  4.97s/it]2019-05-15 06:15:42,581 - algorithms.Algorithm - INFO   - ==> Iteration [  8][ 170 /  426]: {'process_time': 70.4101, 'prec5_c1': 77.098, 'loss': 2.2578, 'prec1_c1': 53.7529, 'load_time': 29.5899}\n",
      " 41%|████      | 174/427 [13:18<19:17,  4.57s/it]2019-05-15 06:16:04,741 - algorithms.Algorithm - INFO   - ==> Iteration [  8][ 175 /  426]: {'process_time': 70.1546, 'prec5_c1': 77.1124, 'loss': 2.2595, 'prec1_c1': 53.6876, 'load_time': 29.8454}\n",
      " 42%|████▏     | 179/427 [13:42<19:36,  4.74s/it]2019-05-15 06:16:28,106 - algorithms.Algorithm - INFO   - ==> Iteration [  8][ 180 /  426]: {'process_time': 69.7274, 'prec5_c1': 77.0815, 'loss': 2.2593, 'prec1_c1': 53.7259, 'load_time': 30.2726}\n",
      " 43%|████▎     | 184/427 [14:04<18:12,  4.50s/it]2019-05-15 06:16:50,174 - algorithms.Algorithm - INFO   - ==> Iteration [  8][ 185 /  426]: {'process_time': 69.3037, 'prec5_c1': 77.0631, 'loss': 2.2599, 'prec1_c1': 53.7189, 'load_time': 30.6963}\n",
      " 44%|████▍     | 189/427 [14:26<17:12,  4.34s/it]2019-05-15 06:17:12,394 - algorithms.Algorithm - INFO   - ==> Iteration [  8][ 190 /  426]: {'process_time': 68.9386, 'prec5_c1': 76.9579, 'loss': 2.2648, 'prec1_c1': 53.6105, 'load_time': 31.0614}\n",
      " 45%|████▌     | 194/427 [14:46<15:36,  4.02s/it]2019-05-15 06:17:33,492 - algorithms.Algorithm - INFO   - ==> Iteration [  8][ 195 /  426]: {'process_time': 68.6254, 'prec5_c1': 76.9504, 'loss': 2.2655, 'prec1_c1': 53.5521, 'load_time': 31.3746}\n",
      " 47%|████▋     | 199/427 [15:09<16:32,  4.35s/it]2019-05-15 06:17:54,439 - algorithms.Algorithm - INFO   - ==> Iteration [  8][ 200 /  426]: {'process_time': 68.2943, 'prec5_c1': 76.9333, 'loss': 2.2673, 'prec1_c1': 53.5, 'load_time': 31.7057}\n",
      " 48%|████▊     | 204/427 [15:31<16:08,  4.34s/it]2019-05-15 06:18:16,417 - algorithms.Algorithm - INFO   - ==> Iteration [  8][ 205 /  426]: {'process_time': 68.0556, 'prec5_c1': 76.8846, 'loss': 2.2696, 'prec1_c1': 53.4602, 'load_time': 31.9444}\n",
      " 49%|████▉     | 209/427 [15:52<15:26,  4.25s/it]2019-05-15 06:18:37,768 - algorithms.Algorithm - INFO   - ==> Iteration [  8][ 210 /  426]: {'process_time': 67.8094, 'prec5_c1': 76.8381, 'loss': 2.2717, 'prec1_c1': 53.4381, 'load_time': 32.1906}\n",
      " 50%|█████     | 214/427 [16:16<16:56,  4.77s/it]2019-05-15 06:19:02,302 - algorithms.Algorithm - INFO   - ==> Iteration [  8][ 215 /  426]: {'process_time': 67.4845, 'prec5_c1': 76.7597, 'loss': 2.2748, 'prec1_c1': 53.3612, 'load_time': 32.5155}\n",
      " 51%|█████▏    | 219/427 [16:39<15:44,  4.54s/it]2019-05-15 06:19:24,183 - algorithms.Algorithm - INFO   - ==> Iteration [  8][ 220 /  426]: {'process_time': 67.238, 'prec5_c1': 76.7758, 'loss': 2.2738, 'prec1_c1': 53.3515, 'load_time': 32.762}\n",
      " 52%|█████▏    | 224/427 [16:59<14:16,  4.22s/it]2019-05-15 06:19:44,508 - algorithms.Algorithm - INFO   - ==> Iteration [  8][ 225 /  426]: {'process_time': 67.1204, 'prec5_c1': 76.6015, 'loss': 2.2813, 'prec1_c1': 53.1763, 'load_time': 32.8796}\n"
     ]
    },
    {
     "name": "stderr",
     "output_type": "stream",
     "text": [
      " 54%|█████▎    | 229/427 [17:19<13:16,  4.03s/it]2019-05-15 06:20:04,329 - algorithms.Algorithm - INFO   - ==> Iteration [  8][ 230 /  426]: {'process_time': 66.8826, 'prec5_c1': 76.5971, 'loss': 2.2805, 'prec1_c1': 53.1594, 'load_time': 33.1174}\n",
      " 55%|█████▍    | 234/427 [17:39<13:06,  4.08s/it]2019-05-15 06:20:25,838 - algorithms.Algorithm - INFO   - ==> Iteration [  8][ 235 /  426]: {'process_time': 66.8295, 'prec5_c1': 76.5589, 'loss': 2.2816, 'prec1_c1': 53.1291, 'load_time': 33.1705}\n",
      " 56%|█████▌    | 239/427 [18:02<14:06,  4.50s/it]2019-05-15 06:20:47,539 - algorithms.Algorithm - INFO   - ==> Iteration [  8][ 240 /  426]: {'process_time': 66.6631, 'prec5_c1': 76.5639, 'loss': 2.2811, 'prec1_c1': 53.1194, 'load_time': 33.3369}\n",
      " 57%|█████▋    | 244/427 [18:23<13:02,  4.28s/it]2019-05-15 06:21:08,827 - algorithms.Algorithm - INFO   - ==> Iteration [  8][ 245 /  426]: {'process_time': 66.5559, 'prec5_c1': 76.498, 'loss': 2.2838, 'prec1_c1': 53.0884, 'load_time': 33.4441}\n",
      " 58%|█████▊    | 249/427 [18:46<13:10,  4.44s/it]2019-05-15 06:21:31,918 - algorithms.Algorithm - INFO   - ==> Iteration [  8][ 250 /  426]: {'process_time': 66.3995, 'prec5_c1': 76.4773, 'loss': 2.2848, 'prec1_c1': 53.0027, 'load_time': 33.6005}\n",
      " 59%|█████▉    | 254/427 [19:06<11:37,  4.03s/it]2019-05-15 06:21:52,011 - algorithms.Algorithm - INFO   - ==> Iteration [  8][ 255 /  426]: {'process_time': 66.067, 'prec5_c1': 76.4209, 'loss': 2.2872, 'prec1_c1': 52.9542, 'load_time': 33.933}\n",
      " 61%|██████    | 259/427 [19:27<11:50,  4.23s/it]2019-05-15 06:22:13,188 - algorithms.Algorithm - INFO   - ==> Iteration [  8][ 260 /  426]: {'process_time': 65.8956, 'prec5_c1': 76.3769, 'loss': 2.2888, 'prec1_c1': 52.9154, 'load_time': 34.1044}\n",
      " 62%|██████▏   | 264/427 [19:48<11:04,  4.07s/it]2019-05-15 06:22:33,412 - algorithms.Algorithm - INFO   - ==> Iteration [  8][ 265 /  426]: {'process_time': 65.574, 'prec5_c1': 76.3648, 'loss': 2.2904, 'prec1_c1': 52.8503, 'load_time': 34.426}\n",
      " 63%|██████▎   | 269/427 [20:09<11:13,  4.26s/it]2019-05-15 06:22:55,026 - algorithms.Algorithm - INFO   - ==> Iteration [  8][ 270 /  426]: {'process_time': 65.3181, 'prec5_c1': 76.3432, 'loss': 2.2908, 'prec1_c1': 52.8593, 'load_time': 34.6819}\n",
      " 64%|██████▍   | 274/427 [20:30<10:52,  4.26s/it]2019-05-15 06:23:16,074 - algorithms.Algorithm - INFO   - ==> Iteration [  8][ 275 /  426]: {'process_time': 65.2175, 'prec5_c1': 76.2982, 'loss': 2.2929, 'prec1_c1': 52.783, 'load_time': 34.7825}\n",
      " 65%|██████▌   | 279/427 [20:51<10:12,  4.14s/it]2019-05-15 06:23:36,519 - algorithms.Algorithm - INFO   - ==> Iteration [  8][ 280 /  426]: {'process_time': 65.2192, 'prec5_c1': 76.3048, 'loss': 2.2917, 'prec1_c1': 52.7905, 'load_time': 34.7808}\n",
      " 67%|██████▋   | 284/427 [21:12<10:05,  4.24s/it]2019-05-15 06:23:58,505 - algorithms.Algorithm - INFO   - ==> Iteration [  8][ 285 /  426]: {'process_time': 65.1972, 'prec5_c1': 76.276, 'loss': 2.2924, 'prec1_c1': 52.7696, 'load_time': 34.8028}\n",
      " 68%|██████▊   | 289/427 [21:35<10:37,  4.62s/it]2019-05-15 06:24:21,272 - algorithms.Algorithm - INFO   - ==> Iteration [  8][ 290 /  426]: {'process_time': 65.0721, 'prec5_c1': 76.2736, 'loss': 2.292, 'prec1_c1': 52.7563, 'load_time': 34.9279}\n",
      " 69%|██████▉   | 294/427 [21:56<09:22,  4.23s/it]2019-05-15 06:24:41,667 - algorithms.Algorithm - INFO   - ==> Iteration [  8][ 295 /  426]: {'process_time': 64.9828, 'prec5_c1': 76.2305, 'loss': 2.2939, 'prec1_c1': 52.7254, 'load_time': 35.0172}\n",
      " 70%|███████   | 299/427 [22:20<10:56,  5.13s/it]2019-05-15 06:25:05,811 - algorithms.Algorithm - INFO   - ==> Iteration [  8][ 300 /  426]: {'process_time': 65.0023, 'prec5_c1': 76.2489, 'loss': 2.2937, 'prec1_c1': 52.7133, 'load_time': 34.9977}\n",
      " 71%|███████   | 304/427 [22:41<09:03,  4.42s/it]2019-05-15 06:25:26,618 - algorithms.Algorithm - INFO   - ==> Iteration [  8][ 305 /  426]: {'process_time': 64.8587, 'prec5_c1': 76.2295, 'loss': 2.2951, 'prec1_c1': 52.6732, 'load_time': 35.1413}\n",
      " 72%|███████▏  | 309/427 [23:01<07:53,  4.01s/it]2019-05-15 06:25:46,965 - algorithms.Algorithm - INFO   - ==> Iteration [  8][ 310 /  426]: {'process_time': 64.779, 'prec5_c1': 76.1699, 'loss': 2.298, 'prec1_c1': 52.5806, 'load_time': 35.221}\n",
      " 74%|███████▎  | 314/427 [23:23<08:02,  4.27s/it]2019-05-15 06:26:08,945 - algorithms.Algorithm - INFO   - ==> Iteration [  8][ 315 /  426]: {'process_time': 64.709, 'prec5_c1': 76.1672, 'loss': 2.2984, 'prec1_c1': 52.5566, 'load_time': 35.291}\n",
      " 75%|███████▍  | 319/427 [23:44<07:39,  4.26s/it]2019-05-15 06:26:30,119 - algorithms.Algorithm - INFO   - ==> Iteration [  8][ 320 /  426]: {'process_time': 64.6313, 'prec5_c1': 76.1583, 'loss': 2.2995, 'prec1_c1': 52.5271, 'load_time': 35.3687}\n",
      " 76%|███████▌  | 324/427 [24:04<06:51,  4.00s/it]2019-05-15 06:26:49,883 - algorithms.Algorithm - INFO   - ==> Iteration [  8][ 325 /  426]: {'process_time': 64.5161, 'prec5_c1': 76.1272, 'loss': 2.3013, 'prec1_c1': 52.4595, 'load_time': 35.4839}\n",
      " 77%|███████▋  | 329/427 [24:24<06:24,  3.92s/it]2019-05-15 06:27:09,239 - algorithms.Algorithm - INFO   - ==> Iteration [  8][ 330 /  426]: {'process_time': 64.4142, 'prec5_c1': 76.0788, 'loss': 2.3024, 'prec1_c1': 52.4141, 'load_time': 35.5858}\n",
      " 78%|███████▊  | 334/427 [24:43<06:06,  3.94s/it]2019-05-15 06:27:28,666 - algorithms.Algorithm - INFO   - ==> Iteration [  8][ 335 /  426]: {'process_time': 64.2922, 'prec5_c1': 76.0557, 'loss': 2.3044, 'prec1_c1': 52.3522, 'load_time': 35.7078}\n",
      " 79%|███████▉  | 339/427 [25:03<05:59,  4.09s/it]2019-05-15 06:27:49,182 - algorithms.Algorithm - INFO   - ==> Iteration [  8][ 340 /  426]: {'process_time': 64.2904, 'prec5_c1': 75.9941, 'loss': 2.3069, 'prec1_c1': 52.2431, 'load_time': 35.7096}\n",
      " 81%|████████  | 344/427 [25:24<05:42,  4.13s/it]2019-05-15 06:28:12,064 - algorithms.Algorithm - INFO   - ==> Iteration [  8][ 345 /  426]: {'process_time': 64.1846, 'prec5_c1': 75.9324, 'loss': 2.3091, 'prec1_c1': 52.1527, 'load_time': 35.8154}\n",
      " 82%|████████▏ | 349/427 [25:46<05:26,  4.19s/it]2019-05-15 06:28:31,849 - algorithms.Algorithm - INFO   - ==> Iteration [  8][ 350 /  426]: {'process_time': 64.1553, 'prec5_c1': 75.9219, 'loss': 2.3083, 'prec1_c1': 52.1733, 'load_time': 35.8447}\n",
      " 83%|████████▎ | 354/427 [26:07<05:03,  4.16s/it]2019-05-15 06:28:53,600 - algorithms.Algorithm - INFO   - ==> Iteration [  8][ 355 /  426]: {'process_time': 64.1461, 'prec5_c1': 75.8986, 'loss': 2.3081, 'prec1_c1': 52.1897, 'load_time': 35.8539}\n",
      " 84%|████████▍ | 359/427 [26:29<05:04,  4.48s/it]2019-05-15 06:29:15,725 - algorithms.Algorithm - INFO   - ==> Iteration [  8][ 360 /  426]: {'process_time': 64.1253, 'prec5_c1': 75.8519, 'loss': 2.3103, 'prec1_c1': 52.137, 'load_time': 35.8747}\n",
      " 85%|████████▌ | 364/427 [26:52<04:36,  4.39s/it]2019-05-15 06:29:37,439 - algorithms.Algorithm - INFO   - ==> Iteration [  8][ 365 /  426]: {'process_time': 64.1082, 'prec5_c1': 75.8667, 'loss': 2.3103, 'prec1_c1': 52.1242, 'load_time': 35.8918}\n",
      " 86%|████████▋ | 369/427 [27:12<04:04,  4.22s/it]2019-05-15 06:29:58,746 - algorithms.Algorithm - INFO   - ==> Iteration [  8][ 370 /  426]: {'process_time': 63.9957, 'prec5_c1': 75.8523, 'loss': 2.3109, 'prec1_c1': 52.0973, 'load_time': 36.0043}\n",
      " 88%|████████▊ | 374/427 [27:35<03:54,  4.43s/it]2019-05-15 06:30:21,287 - algorithms.Algorithm - INFO   - ==> Iteration [  8][ 375 /  426]: {'process_time': 64.0256, 'prec5_c1': 75.7956, 'loss': 2.3129, 'prec1_c1': 52.0302, 'load_time': 35.9744}\n",
      " 89%|████████▉ | 379/427 [27:57<03:27,  4.32s/it]2019-05-15 06:30:42,658 - algorithms.Algorithm - INFO   - ==> Iteration [  8][ 380 /  426]: {'process_time': 63.9151, 'prec5_c1': 75.7561, 'loss': 2.3147, 'prec1_c1': 51.9912, 'load_time': 36.0849}\n",
      " 90%|████████▉ | 384/427 [28:18<03:10,  4.43s/it]2019-05-15 06:31:04,872 - algorithms.Algorithm - INFO   - ==> Iteration [  8][ 385 /  426]: {'process_time': 63.9406, 'prec5_c1': 75.7507, 'loss': 2.3155, 'prec1_c1': 51.9948, 'load_time': 36.0594}\n",
      " 91%|█████████ | 389/427 [28:44<03:07,  4.94s/it]2019-05-15 06:31:30,772 - algorithms.Algorithm - INFO   - ==> Iteration [  8][ 390 /  426]: {'process_time': 63.9191, 'prec5_c1': 75.6991, 'loss': 2.3174, 'prec1_c1': 51.9402, 'load_time': 36.0809}\n",
      " 92%|█████████▏| 394/427 [29:06<02:23,  4.36s/it]2019-05-15 06:31:51,984 - algorithms.Algorithm - INFO   - ==> Iteration [  8][ 395 /  426]: {'process_time': 64.0628, 'prec5_c1': 75.681, 'loss': 2.3181, 'prec1_c1': 51.9089, 'load_time': 35.9372}\n"
     ]
    },
    {
     "name": "stderr",
     "output_type": "stream",
     "text": [
      " 93%|█████████▎| 399/427 [29:30<02:13,  4.76s/it]2019-05-15 06:32:15,556 - algorithms.Algorithm - INFO   - ==> Iteration [  8][ 400 /  426]: {'process_time': 63.9875, 'prec5_c1': 75.6667, 'loss': 2.3186, 'prec1_c1': 51.865, 'load_time': 36.0125}\n",
      " 95%|█████████▍| 404/427 [29:52<01:41,  4.43s/it]2019-05-15 06:32:38,482 - algorithms.Algorithm - INFO   - ==> Iteration [  8][ 405 /  426]: {'process_time': 63.9569, 'prec5_c1': 75.6477, 'loss': 2.319, 'prec1_c1': 51.8469, 'load_time': 36.0431}\n",
      " 96%|█████████▌| 409/427 [30:14<01:18,  4.35s/it]2019-05-15 06:32:59,696 - algorithms.Algorithm - INFO   - ==> Iteration [  8][ 410 /  426]: {'process_time': 64.0374, 'prec5_c1': 75.6374, 'loss': 2.3195, 'prec1_c1': 51.8439, 'load_time': 35.9626}\n",
      " 97%|█████████▋| 414/427 [30:35<00:56,  4.35s/it]2019-05-15 06:33:21,785 - algorithms.Algorithm - INFO   - ==> Iteration [  8][ 415 /  426]: {'process_time': 64.0422, 'prec5_c1': 75.6273, 'loss': 2.3201, 'prec1_c1': 51.804, 'load_time': 35.9578}\n",
      " 98%|█████████▊| 419/427 [30:57<00:33,  4.18s/it]2019-05-15 06:33:42,616 - algorithms.Algorithm - INFO   - ==> Iteration [  8][ 420 /  426]: {'process_time': 64.0004, 'prec5_c1': 75.6016, 'loss': 2.3211, 'prec1_c1': 51.7762, 'load_time': 35.9996}\n",
      " 99%|█████████▉| 424/427 [31:19<00:13,  4.44s/it]2019-05-15 06:34:04,889 - algorithms.Algorithm - INFO   - ==> Iteration [  8][ 425 /  426]: {'process_time': 64.0785, 'prec5_c1': 75.5796, 'loss': 2.322, 'prec1_c1': 51.7537, 'load_time': 35.9215}\n",
      "100%|██████████| 427/427 [31:31<00:00,  4.10s/it]\n",
      "2019-05-15 06:34:12,805 - algorithms.Algorithm - INFO   - ==> Training stats: {'process_time': 64.1133, 'prec5_c1': 75.5933, 'loss': 2.3216, 'prec1_c1': 51.7619, 'load_time': 35.8867}\n",
      "2019-05-15 06:34:13,820 - algorithms.Algorithm - INFO   - Evaluating: Custom_NonLinearClassifiers_ImageNet_RotNet_AlexNet_Features_64\n",
      "2019-05-15 06:34:13,830 - algorithms.Algorithm - INFO   - ==> Dataset: custom_supervised/val [64000 images]\n",
      "100%|██████████| 427/427 [22:17<00:00,  2.03s/it]\n",
      "2019-05-15 06:56:31,557 - algorithms.Algorithm - INFO   - ==> Results: {'process_time': 55.4796, 'prec5_c1': 46.0835, 'loss': 3.8548, 'prec1_c1': 23.5855, 'load_time': 44.5204}\n",
      "2019-05-15 06:56:31,591 - algorithms.Algorithm - INFO   - ==> Evaluation stats: {'process_time': 55.4796, 'prec5_c1': 46.0835, 'loss': 3.8548, 'prec1_c1': 23.5855, 'load_time': 44.5204}\n",
      "2019-05-15 06:56:31,592 - algorithms.Algorithm - INFO   - Training epoch [  9 /  40]\n",
      "2019-05-15 06:56:31,594 - algorithms.Algorithm - INFO   - ==> Set to classifier optimizer lr = 0.0100000000\n",
      "2019-05-15 06:56:31,595 - algorithms.Algorithm - INFO   - Training: Custom_NonLinearClassifiers_ImageNet_RotNet_AlexNet_Features_64\n",
      "  1%|          | 4/427 [00:22<40:45,  5.78s/it]2019-05-15 06:56:58,749 - algorithms.Algorithm - INFO   - ==> Iteration [  9][   5 /  426]: {'process_time': 53.8675, 'prec5_c1': 80.6667, 'loss': 1.9829, 'prec1_c1': 58.2667, 'load_time': 46.1325}\n",
      "  2%|▏         | 9/427 [00:44<32:10,  4.62s/it]2019-05-15 06:57:19,992 - algorithms.Algorithm - INFO   - ==> Iteration [  9][  10 /  426]: {'process_time': 59.3475, 'prec5_c1': 80.2, 'loss': 2.0303, 'prec1_c1': 58.3333, 'load_time': 40.6525}\n",
      "  3%|▎         | 14/427 [01:07<30:45,  4.47s/it]2019-05-15 06:57:43,152 - algorithms.Algorithm - INFO   - ==> Iteration [  9][  15 /  426]: {'process_time': 57.7498, 'prec5_c1': 81.8667, 'loss': 1.9811, 'prec1_c1': 59.5111, 'load_time': 42.2502}\n",
      "  4%|▍         | 19/427 [01:28<29:35,  4.35s/it]2019-05-15 06:58:04,075 - algorithms.Algorithm - INFO   - ==> Iteration [  9][  20 /  426]: {'process_time': 57.6313, 'prec5_c1': 81.4667, 'loss': 1.9886, 'prec1_c1': 59.3333, 'load_time': 42.3687}\n",
      "  6%|▌         | 24/427 [01:51<30:31,  4.54s/it]2019-05-15 06:58:27,802 - algorithms.Algorithm - INFO   - ==> Iteration [  9][  25 /  426]: {'process_time': 59.1702, 'prec5_c1': 81.2, 'loss': 1.9894, 'prec1_c1': 59.9733, 'load_time': 40.8298}\n",
      "  7%|▋         | 29/427 [02:14<29:51,  4.50s/it]2019-05-15 06:58:49,889 - algorithms.Algorithm - INFO   - ==> Iteration [  9][  30 /  426]: {'process_time': 58.9366, 'prec5_c1': 81.6222, 'loss': 1.9654, 'prec1_c1': 60.5333, 'load_time': 41.0634}\n",
      "  8%|▊         | 34/427 [02:35<29:03,  4.44s/it]2019-05-15 06:59:12,136 - algorithms.Algorithm - INFO   - ==> Iteration [  9][  35 /  426]: {'process_time': 59.2189, 'prec5_c1': 81.3143, 'loss': 1.9804, 'prec1_c1': 60.0381, 'load_time': 40.7811}\n",
      "  9%|▉         | 39/427 [02:58<28:30,  4.41s/it]2019-05-15 06:59:34,986 - algorithms.Algorithm - INFO   - ==> Iteration [  9][  40 /  426]: {'process_time': 59.2073, 'prec5_c1': 81.4833, 'loss': 1.9807, 'prec1_c1': 60.05, 'load_time': 40.7927}\n",
      " 10%|█         | 44/427 [03:21<29:32,  4.63s/it]2019-05-15 06:59:57,966 - algorithms.Algorithm - INFO   - ==> Iteration [  9][  45 /  426]: {'process_time': 59.7252, 'prec5_c1': 81.6296, 'loss': 1.9879, 'prec1_c1': 59.6, 'load_time': 40.2748}\n",
      " 11%|█▏        | 49/427 [03:43<27:32,  4.37s/it]2019-05-15 07:00:20,035 - algorithms.Algorithm - INFO   - ==> Iteration [  9][  50 /  426]: {'process_time': 60.2782, 'prec5_c1': 81.44, 'loss': 1.9929, 'prec1_c1': 59.5733, 'load_time': 39.7218}\n",
      " 13%|█▎        | 54/427 [04:05<27:07,  4.36s/it]2019-05-15 07:00:42,013 - algorithms.Algorithm - INFO   - ==> Iteration [  9][  55 /  426]: {'process_time': 60.2364, 'prec5_c1': 81.5758, 'loss': 1.9902, 'prec1_c1': 59.5515, 'load_time': 39.7636}\n",
      " 14%|█▍        | 59/427 [04:29<28:55,  4.72s/it]2019-05-15 07:01:05,459 - algorithms.Algorithm - INFO   - ==> Iteration [  9][  60 /  426]: {'process_time': 60.7406, 'prec5_c1': 81.2, 'loss': 2.0026, 'prec1_c1': 59.3, 'load_time': 39.2594}\n",
      " 15%|█▍        | 64/427 [04:52<28:23,  4.69s/it]2019-05-15 07:01:28,576 - algorithms.Algorithm - INFO   - ==> Iteration [  9][  65 /  426]: {'process_time': 60.0037, 'prec5_c1': 81.3026, 'loss': 2.0014, 'prec1_c1': 59.3436, 'load_time': 39.9963}\n",
      " 16%|█▌        | 69/427 [05:14<26:34,  4.45s/it]2019-05-15 07:01:50,998 - algorithms.Algorithm - INFO   - ==> Iteration [  9][  70 /  426]: {'process_time': 59.7804, 'prec5_c1': 81.0571, 'loss': 2.0101, 'prec1_c1': 59.0476, 'load_time': 40.2196}\n",
      " 17%|█▋        | 74/427 [05:37<26:30,  4.51s/it]2019-05-15 07:02:14,194 - algorithms.Algorithm - INFO   - ==> Iteration [  9][  75 /  426]: {'process_time': 59.9023, 'prec5_c1': 81.04, 'loss': 2.011, 'prec1_c1': 59.0489, 'load_time': 40.0977}\n",
      " 19%|█▊        | 79/427 [06:00<26:49,  4.62s/it]2019-05-15 07:02:37,183 - algorithms.Algorithm - INFO   - ==> Iteration [  9][  80 /  426]: {'process_time': 59.6499, 'prec5_c1': 80.9, 'loss': 2.0191, 'prec1_c1': 58.725, 'load_time': 40.3501}\n",
      " 20%|█▉        | 84/427 [06:24<26:32,  4.64s/it]2019-05-15 07:03:00,053 - algorithms.Algorithm - INFO   - ==> Iteration [  9][  85 /  426]: {'process_time': 59.8733, 'prec5_c1': 80.8235, 'loss': 2.0251, 'prec1_c1': 58.4784, 'load_time': 40.1267}\n",
      " 21%|██        | 89/427 [06:45<24:03,  4.27s/it]2019-05-15 07:03:21,063 - algorithms.Algorithm - INFO   - ==> Iteration [  9][  90 /  426]: {'process_time': 60.3736, 'prec5_c1': 80.8296, 'loss': 2.0234, 'prec1_c1': 58.5778, 'load_time': 39.6264}\n",
      " 22%|██▏       | 94/427 [07:06<24:31,  4.42s/it]2019-05-15 07:03:43,277 - algorithms.Algorithm - INFO   - ==> Iteration [  9][  95 /  426]: {'process_time': 60.6993, 'prec5_c1': 80.793, 'loss': 2.0281, 'prec1_c1': 58.5193, 'load_time': 39.3007}\n",
      " 23%|██▎       | 99/427 [07:29<24:48,  4.54s/it]2019-05-15 07:04:05,981 - algorithms.Algorithm - INFO   - ==> Iteration [  9][ 100 /  426]: {'process_time': 60.9504, 'prec5_c1': 80.9067, 'loss': 2.0276, 'prec1_c1': 58.4933, 'load_time': 39.0496}\n",
      " 24%|██▍       | 104/427 [07:53<25:40,  4.77s/it]2019-05-15 07:04:29,311 - algorithms.Algorithm - INFO   - ==> Iteration [  9][ 105 /  426]: {'process_time': 60.4795, 'prec5_c1': 80.7619, 'loss': 2.0345, 'prec1_c1': 58.3746, 'load_time': 39.5205}\n",
      " 26%|██▌       | 109/427 [08:16<24:57,  4.71s/it]2019-05-15 07:04:53,381 - algorithms.Algorithm - INFO   - ==> Iteration [  9][ 110 /  426]: {'process_time': 60.7662, 'prec5_c1': 80.6849, 'loss': 2.0382, 'prec1_c1': 58.2909, 'load_time': 39.2338}\n",
      " 27%|██▋       | 114/427 [08:40<24:16,  4.65s/it]2019-05-15 07:05:15,831 - algorithms.Algorithm - INFO   - ==> Iteration [  9][ 115 /  426]: {'process_time': 60.7388, 'prec5_c1': 80.7015, 'loss': 2.0358, 'prec1_c1': 58.3536, 'load_time': 39.2612}\n"
     ]
    },
    {
     "name": "stderr",
     "output_type": "stream",
     "text": [
      " 28%|██▊       | 119/427 [09:01<22:25,  4.37s/it]2019-05-15 07:05:37,236 - algorithms.Algorithm - INFO   - ==> Iteration [  9][ 120 /  426]: {'process_time': 60.8164, 'prec5_c1': 80.6278, 'loss': 2.0372, 'prec1_c1': 58.2667, 'load_time': 39.1836}\n",
      " 29%|██▉       | 124/427 [09:22<21:42,  4.30s/it]2019-05-15 07:05:59,168 - algorithms.Algorithm - INFO   - ==> Iteration [  9][ 125 /  426]: {'process_time': 60.9496, 'prec5_c1': 80.624, 'loss': 2.0376, 'prec1_c1': 58.368, 'load_time': 39.0504}\n",
      " 30%|███       | 129/427 [09:44<20:53,  4.21s/it]2019-05-15 07:06:19,952 - algorithms.Algorithm - INFO   - ==> Iteration [  9][ 130 /  426]: {'process_time': 60.7659, 'prec5_c1': 80.6154, 'loss': 2.0382, 'prec1_c1': 58.3487, 'load_time': 39.2341}\n",
      " 31%|███▏      | 134/427 [10:06<22:15,  4.56s/it]2019-05-15 07:06:43,252 - algorithms.Algorithm - INFO   - ==> Iteration [  9][ 135 /  426]: {'process_time': 60.6633, 'prec5_c1': 80.6667, 'loss': 2.0338, 'prec1_c1': 58.4494, 'load_time': 39.3367}\n",
      " 33%|███▎      | 139/427 [10:31<23:43,  4.94s/it]2019-05-15 07:07:07,895 - algorithms.Algorithm - INFO   - ==> Iteration [  9][ 140 /  426]: {'process_time': 60.8924, 'prec5_c1': 80.5524, 'loss': 2.0404, 'prec1_c1': 58.2952, 'load_time': 39.1076}\n",
      " 34%|███▎      | 144/427 [10:54<21:41,  4.60s/it]2019-05-15 07:07:31,321 - algorithms.Algorithm - INFO   - ==> Iteration [  9][ 145 /  426]: {'process_time': 61.13, 'prec5_c1': 80.5839, 'loss': 2.0391, 'prec1_c1': 58.2621, 'load_time': 38.87}\n",
      " 35%|███▍      | 149/427 [11:18<21:36,  4.66s/it]2019-05-15 07:07:54,771 - algorithms.Algorithm - INFO   - ==> Iteration [  9][ 150 /  426]: {'process_time': 61.4919, 'prec5_c1': 80.52, 'loss': 2.04, 'prec1_c1': 58.2444, 'load_time': 38.5081}\n",
      " 36%|███▌      | 154/427 [11:43<22:09,  4.87s/it]2019-05-15 07:08:19,948 - algorithms.Algorithm - INFO   - ==> Iteration [  9][ 155 /  426]: {'process_time': 61.4072, 'prec5_c1': 80.4774, 'loss': 2.0432, 'prec1_c1': 58.129, 'load_time': 38.5928}\n",
      " 37%|███▋      | 159/427 [12:04<19:40,  4.40s/it]2019-05-15 07:08:40,948 - algorithms.Algorithm - INFO   - ==> Iteration [  9][ 160 /  426]: {'process_time': 61.1803, 'prec5_c1': 80.425, 'loss': 2.0459, 'prec1_c1': 58.1083, 'load_time': 38.8197}\n",
      " 38%|███▊      | 164/427 [12:26<18:36,  4.24s/it]2019-05-15 07:09:02,539 - algorithms.Algorithm - INFO   - ==> Iteration [  9][ 165 /  426]: {'process_time': 61.0941, 'prec5_c1': 80.4727, 'loss': 2.0441, 'prec1_c1': 58.1778, 'load_time': 38.9059}\n",
      " 40%|███▉      | 169/427 [12:48<19:08,  4.45s/it]2019-05-15 07:09:25,024 - algorithms.Algorithm - INFO   - ==> Iteration [  9][ 170 /  426]: {'process_time': 61.3003, 'prec5_c1': 80.4941, 'loss': 2.0459, 'prec1_c1': 58.149, 'load_time': 38.6997}\n",
      " 41%|████      | 174/427 [13:12<19:26,  4.61s/it]2019-05-15 07:09:48,337 - algorithms.Algorithm - INFO   - ==> Iteration [  9][ 175 /  426]: {'process_time': 61.2648, 'prec5_c1': 80.3848, 'loss': 2.0512, 'prec1_c1': 58.0305, 'load_time': 38.7352}\n",
      " 42%|████▏     | 179/427 [13:35<18:30,  4.48s/it]2019-05-15 07:10:11,379 - algorithms.Algorithm - INFO   - ==> Iteration [  9][ 180 /  426]: {'process_time': 61.5855, 'prec5_c1': 80.2482, 'loss': 2.0561, 'prec1_c1': 57.9333, 'load_time': 38.4145}\n",
      " 43%|████▎     | 184/427 [13:57<17:47,  4.39s/it]2019-05-15 07:10:33,474 - algorithms.Algorithm - INFO   - ==> Iteration [  9][ 185 /  426]: {'process_time': 61.3386, 'prec5_c1': 80.173, 'loss': 2.0576, 'prec1_c1': 57.9027, 'load_time': 38.6614}\n",
      " 44%|████▍     | 189/427 [14:20<18:04,  4.56s/it]2019-05-15 07:10:56,470 - algorithms.Algorithm - INFO   - ==> Iteration [  9][ 190 /  426]: {'process_time': 61.5193, 'prec5_c1': 80.1298, 'loss': 2.0579, 'prec1_c1': 57.8526, 'load_time': 38.4807}\n",
      " 45%|████▌     | 194/427 [14:42<17:18,  4.46s/it]2019-05-15 07:11:18,034 - algorithms.Algorithm - INFO   - ==> Iteration [  9][ 195 /  426]: {'process_time': 61.4119, 'prec5_c1': 80.1607, 'loss': 2.0585, 'prec1_c1': 57.7949, 'load_time': 38.5881}\n",
      " 47%|████▋     | 199/427 [15:02<15:39,  4.12s/it]2019-05-15 07:11:38,632 - algorithms.Algorithm - INFO   - ==> Iteration [  9][ 200 /  426]: {'process_time': 61.2413, 'prec5_c1': 80.1067, 'loss': 2.0607, 'prec1_c1': 57.7033, 'load_time': 38.7587}\n",
      " 48%|████▊     | 204/427 [15:22<14:41,  3.95s/it]2019-05-15 07:11:58,223 - algorithms.Algorithm - INFO   - ==> Iteration [  9][ 205 /  426]: {'process_time': 61.0996, 'prec5_c1': 80.0943, 'loss': 2.0607, 'prec1_c1': 57.6846, 'load_time': 38.9004}\n",
      " 49%|████▉     | 209/427 [15:46<16:56,  4.66s/it]2019-05-15 07:12:22,483 - algorithms.Algorithm - INFO   - ==> Iteration [  9][ 210 /  426]: {'process_time': 61.1206, 'prec5_c1': 80.1048, 'loss': 2.0609, 'prec1_c1': 57.6762, 'load_time': 38.8794}\n",
      " 50%|█████     | 214/427 [16:08<15:32,  4.38s/it]2019-05-15 07:12:44,111 - algorithms.Algorithm - INFO   - ==> Iteration [  9][ 215 /  426]: {'process_time': 60.9475, 'prec5_c1': 80.0868, 'loss': 2.062, 'prec1_c1': 57.6155, 'load_time': 39.0525}\n",
      " 51%|█████▏    | 219/427 [16:29<15:00,  4.33s/it]2019-05-15 07:13:05,436 - algorithms.Algorithm - INFO   - ==> Iteration [  9][ 220 /  426]: {'process_time': 60.9987, 'prec5_c1': 80.0485, 'loss': 2.0641, 'prec1_c1': 57.5606, 'load_time': 39.0013}\n",
      " 52%|█████▏    | 224/427 [16:51<14:57,  4.42s/it]2019-05-15 07:13:27,747 - algorithms.Algorithm - INFO   - ==> Iteration [  9][ 225 /  426]: {'process_time': 60.9826, 'prec5_c1': 80.0237, 'loss': 2.0659, 'prec1_c1': 57.4963, 'load_time': 39.0174}\n",
      " 54%|█████▎    | 229/427 [17:14<15:09,  4.60s/it]2019-05-15 07:13:50,938 - algorithms.Algorithm - INFO   - ==> Iteration [  9][ 230 /  426]: {'process_time': 61.1827, 'prec5_c1': 79.9681, 'loss': 2.0681, 'prec1_c1': 57.4435, 'load_time': 38.8173}\n",
      " 55%|█████▍    | 234/427 [17:36<13:57,  4.34s/it]2019-05-15 07:14:12,551 - algorithms.Algorithm - INFO   - ==> Iteration [  9][ 235 /  426]: {'process_time': 61.0503, 'prec5_c1': 79.9404, 'loss': 2.0701, 'prec1_c1': 57.3617, 'load_time': 38.9497}\n",
      " 56%|█████▌    | 239/427 [18:01<16:24,  5.24s/it]2019-05-15 07:14:37,099 - algorithms.Algorithm - INFO   - ==> Iteration [  9][ 240 /  426]: {'process_time': 61.2858, 'prec5_c1': 79.8917, 'loss': 2.071, 'prec1_c1': 57.35, 'load_time': 38.7142}\n",
      " 57%|█████▋    | 244/427 [18:23<14:05,  4.62s/it]2019-05-15 07:14:59,414 - algorithms.Algorithm - INFO   - ==> Iteration [  9][ 245 /  426]: {'process_time': 61.1845, 'prec5_c1': 79.8966, 'loss': 2.072, 'prec1_c1': 57.2871, 'load_time': 38.8155}\n",
      " 58%|█████▊    | 249/427 [18:45<13:00,  4.39s/it]2019-05-15 07:15:21,015 - algorithms.Algorithm - INFO   - ==> Iteration [  9][ 250 /  426]: {'process_time': 60.9213, 'prec5_c1': 79.8907, 'loss': 2.0714, 'prec1_c1': 57.3093, 'load_time': 39.0787}\n",
      " 59%|█████▉    | 254/427 [19:08<13:37,  4.73s/it]2019-05-15 07:15:44,191 - algorithms.Algorithm - INFO   - ==> Iteration [  9][ 255 /  426]: {'process_time': 61.0474, 'prec5_c1': 79.8771, 'loss': 2.072, 'prec1_c1': 57.281, 'load_time': 38.9526}\n",
      " 61%|██████    | 259/427 [19:30<12:57,  4.63s/it]2019-05-15 07:16:06,558 - algorithms.Algorithm - INFO   - ==> Iteration [  9][ 260 /  426]: {'process_time': 60.8533, 'prec5_c1': 79.8615, 'loss': 2.0738, 'prec1_c1': 57.2462, 'load_time': 39.1467}\n",
      " 62%|██████▏   | 264/427 [19:53<12:09,  4.48s/it]2019-05-15 07:16:29,608 - algorithms.Algorithm - INFO   - ==> Iteration [  9][ 265 /  426]: {'process_time': 60.8146, 'prec5_c1': 79.8616, 'loss': 2.0749, 'prec1_c1': 57.2478, 'load_time': 39.1854}\n",
      " 63%|██████▎   | 269/427 [20:15<11:53,  4.51s/it]2019-05-15 07:16:51,855 - algorithms.Algorithm - INFO   - ==> Iteration [  9][ 270 /  426]: {'process_time': 60.7112, 'prec5_c1': 79.8469, 'loss': 2.0758, 'prec1_c1': 57.2568, 'load_time': 39.2888}\n",
      " 64%|██████▍   | 274/427 [20:39<12:16,  4.81s/it]2019-05-15 07:17:15,853 - algorithms.Algorithm - INFO   - ==> Iteration [  9][ 275 /  426]: {'process_time': 60.7873, 'prec5_c1': 79.8012, 'loss': 2.0765, 'prec1_c1': 57.2509, 'load_time': 39.2127}\n",
      " 65%|██████▌   | 279/427 [21:04<12:30,  5.07s/it]2019-05-15 07:17:40,894 - algorithms.Algorithm - INFO   - ==> Iteration [  9][ 280 /  426]: {'process_time': 60.8366, 'prec5_c1': 79.7405, 'loss': 2.0787, 'prec1_c1': 57.1452, 'load_time': 39.1634}\n",
      " 67%|██████▋   | 284/427 [21:27<11:21,  4.76s/it]2019-05-15 07:18:04,275 - algorithms.Algorithm - INFO   - ==> Iteration [  9][ 285 /  426]: {'process_time': 60.9136, 'prec5_c1': 79.6561, 'loss': 2.0824, 'prec1_c1': 57.0456, 'load_time': 39.0864}\n"
     ]
    },
    {
     "name": "stderr",
     "output_type": "stream",
     "text": [
      " 68%|██████▊   | 289/427 [21:52<11:21,  4.94s/it]2019-05-15 07:18:28,761 - algorithms.Algorithm - INFO   - ==> Iteration [  9][ 290 /  426]: {'process_time': 61.1253, 'prec5_c1': 79.5678, 'loss': 2.0856, 'prec1_c1': 56.977, 'load_time': 38.8747}\n",
      " 69%|██████▉   | 294/427 [22:15<10:02,  4.53s/it]2019-05-15 07:18:50,941 - algorithms.Algorithm - INFO   - ==> Iteration [  9][ 295 /  426]: {'process_time': 61.2933, 'prec5_c1': 79.5458, 'loss': 2.0871, 'prec1_c1': 56.9379, 'load_time': 38.7067}\n",
      " 70%|███████   | 299/427 [22:37<09:32,  4.47s/it]2019-05-15 07:19:14,269 - algorithms.Algorithm - INFO   - ==> Iteration [  9][ 300 /  426]: {'process_time': 61.5503, 'prec5_c1': 79.5356, 'loss': 2.0879, 'prec1_c1': 56.8711, 'load_time': 38.4497}\n",
      " 71%|███████   | 304/427 [23:00<09:22,  4.57s/it]2019-05-15 07:19:36,195 - algorithms.Algorithm - INFO   - ==> Iteration [  9][ 305 /  426]: {'process_time': 61.6809, 'prec5_c1': 79.506, 'loss': 2.0888, 'prec1_c1': 56.8481, 'load_time': 38.3191}\n",
      " 72%|███████▏  | 309/427 [23:24<09:23,  4.78s/it]2019-05-15 07:20:00,728 - algorithms.Algorithm - INFO   - ==> Iteration [  9][ 310 /  426]: {'process_time': 61.9942, 'prec5_c1': 79.4645, 'loss': 2.0902, 'prec1_c1': 56.8194, 'load_time': 38.0058}\n",
      " 74%|███████▎  | 314/427 [23:48<09:05,  4.83s/it]2019-05-15 07:20:24,357 - algorithms.Algorithm - INFO   - ==> Iteration [  9][ 315 /  426]: {'process_time': 62.1928, 'prec5_c1': 79.3947, 'loss': 2.0932, 'prec1_c1': 56.7619, 'load_time': 37.8072}\n",
      " 75%|███████▍  | 319/427 [24:11<08:20,  4.63s/it]2019-05-15 07:20:48,077 - algorithms.Algorithm - INFO   - ==> Iteration [  9][ 320 /  426]: {'process_time': 62.4351, 'prec5_c1': 79.3854, 'loss': 2.0948, 'prec1_c1': 56.7271, 'load_time': 37.5649}\n",
      " 76%|███████▌  | 324/427 [24:38<08:50,  5.15s/it]2019-05-15 07:21:14,521 - algorithms.Algorithm - INFO   - ==> Iteration [  9][ 325 /  426]: {'process_time': 62.7273, 'prec5_c1': 79.3805, 'loss': 2.0953, 'prec1_c1': 56.6995, 'load_time': 37.2727}\n",
      " 77%|███████▋  | 329/427 [25:01<07:43,  4.73s/it]2019-05-15 07:21:37,736 - algorithms.Algorithm - INFO   - ==> Iteration [  9][ 330 /  426]: {'process_time': 62.9489, 'prec5_c1': 79.3657, 'loss': 2.0964, 'prec1_c1': 56.6606, 'load_time': 37.0511}\n",
      " 78%|███████▊  | 334/427 [25:24<07:00,  4.52s/it]2019-05-15 07:22:00,837 - algorithms.Algorithm - INFO   - ==> Iteration [  9][ 335 /  426]: {'process_time': 63.0076, 'prec5_c1': 79.3333, 'loss': 2.0977, 'prec1_c1': 56.599, 'load_time': 36.9924}\n",
      " 79%|███████▉  | 339/427 [25:48<07:08,  4.87s/it]2019-05-15 07:22:24,577 - algorithms.Algorithm - INFO   - ==> Iteration [  9][ 340 /  426]: {'process_time': 63.1799, 'prec5_c1': 79.3373, 'loss': 2.0979, 'prec1_c1': 56.5627, 'load_time': 36.8201}\n",
      " 81%|████████  | 344/427 [26:12<06:53,  4.98s/it]2019-05-15 07:22:49,721 - algorithms.Algorithm - INFO   - ==> Iteration [  9][ 345 /  426]: {'process_time': 63.312, 'prec5_c1': 79.2773, 'loss': 2.1006, 'prec1_c1': 56.4773, 'load_time': 36.688}\n",
      " 82%|████████▏ | 349/427 [26:37<06:13,  4.79s/it]2019-05-15 07:23:13,517 - algorithms.Algorithm - INFO   - ==> Iteration [  9][ 350 /  426]: {'process_time': 63.4981, 'prec5_c1': 79.2133, 'loss': 2.1026, 'prec1_c1': 56.4248, 'load_time': 36.5019}\n",
      " 83%|████████▎ | 354/427 [27:04<06:39,  5.47s/it]2019-05-15 07:23:40,953 - algorithms.Algorithm - INFO   - ==> Iteration [  9][ 355 /  426]: {'process_time': 63.7193, 'prec5_c1': 79.2, 'loss': 2.1042, 'prec1_c1': 56.3869, 'load_time': 36.2807}\n",
      " 84%|████████▍ | 359/427 [27:29<05:39,  5.00s/it]2019-05-15 07:24:05,738 - algorithms.Algorithm - INFO   - ==> Iteration [  9][ 360 /  426]: {'process_time': 63.8114, 'prec5_c1': 79.1741, 'loss': 2.1056, 'prec1_c1': 56.3667, 'load_time': 36.1886}\n",
      " 85%|████████▌ | 364/427 [27:53<05:06,  4.86s/it]2019-05-15 07:24:30,064 - algorithms.Algorithm - INFO   - ==> Iteration [  9][ 365 /  426]: {'process_time': 63.9697, 'prec5_c1': 79.2, 'loss': 2.105, 'prec1_c1': 56.3671, 'load_time': 36.0303}\n",
      " 86%|████████▋ | 369/427 [28:16<04:19,  4.47s/it]2019-05-15 07:24:52,487 - algorithms.Algorithm - INFO   - ==> Iteration [  9][ 370 /  426]: {'process_time': 64.1105, 'prec5_c1': 79.1946, 'loss': 2.1063, 'prec1_c1': 56.3279, 'load_time': 35.8895}\n",
      " 88%|████████▊ | 374/427 [28:41<04:24,  4.99s/it]2019-05-15 07:25:17,462 - algorithms.Algorithm - INFO   - ==> Iteration [  9][ 375 /  426]: {'process_time': 64.174, 'prec5_c1': 79.1644, 'loss': 2.107, 'prec1_c1': 56.3129, 'load_time': 35.826}\n",
      " 89%|████████▉ | 379/427 [29:04<03:43,  4.67s/it]2019-05-15 07:25:40,478 - algorithms.Algorithm - INFO   - ==> Iteration [  9][ 380 /  426]: {'process_time': 64.4226, 'prec5_c1': 79.1702, 'loss': 2.108, 'prec1_c1': 56.2228, 'load_time': 35.5774}\n",
      " 90%|████████▉ | 384/427 [29:29<03:36,  5.04s/it]2019-05-15 07:26:05,642 - algorithms.Algorithm - INFO   - ==> Iteration [  9][ 385 /  426]: {'process_time': 64.4718, 'prec5_c1': 79.129, 'loss': 2.1101, 'prec1_c1': 56.1645, 'load_time': 35.5282}\n",
      " 91%|█████████ | 389/427 [29:52<02:58,  4.69s/it]2019-05-15 07:26:29,305 - algorithms.Algorithm - INFO   - ==> Iteration [  9][ 390 /  426]: {'process_time': 64.5512, 'prec5_c1': 79.0923, 'loss': 2.1118, 'prec1_c1': 56.0991, 'load_time': 35.4488}\n",
      " 92%|█████████▏| 394/427 [30:17<02:45,  5.01s/it]2019-05-15 07:26:54,320 - algorithms.Algorithm - INFO   - ==> Iteration [  9][ 395 /  426]: {'process_time': 64.5826, 'prec5_c1': 79.0835, 'loss': 2.1129, 'prec1_c1': 56.054, 'load_time': 35.4174}\n",
      " 93%|█████████▎| 399/427 [30:43<02:21,  5.04s/it]2019-05-15 07:27:19,247 - algorithms.Algorithm - INFO   - ==> Iteration [  9][ 400 /  426]: {'process_time': 64.654, 'prec5_c1': 79.065, 'loss': 2.1145, 'prec1_c1': 56.0267, 'load_time': 35.346}\n",
      " 95%|█████████▍| 404/427 [31:05<01:44,  4.53s/it]2019-05-15 07:27:41,646 - algorithms.Algorithm - INFO   - ==> Iteration [  9][ 405 /  426]: {'process_time': 64.6583, 'prec5_c1': 79.0502, 'loss': 2.1166, 'prec1_c1': 55.944, 'load_time': 35.3417}\n",
      " 96%|█████████▌| 409/427 [31:27<01:18,  4.37s/it]2019-05-15 07:28:03,429 - algorithms.Algorithm - INFO   - ==> Iteration [  9][ 410 /  426]: {'process_time': 64.704, 'prec5_c1': 79.0065, 'loss': 2.118, 'prec1_c1': 55.8959, 'load_time': 35.296}\n",
      " 97%|█████████▋| 414/427 [31:50<01:00,  4.69s/it]2019-05-15 07:28:27,061 - algorithms.Algorithm - INFO   - ==> Iteration [  9][ 415 /  426]: {'process_time': 64.75, 'prec5_c1': 78.9655, 'loss': 2.1192, 'prec1_c1': 55.8843, 'load_time': 35.25}\n",
      " 98%|█████████▊| 419/427 [32:13<00:37,  4.63s/it]2019-05-15 07:28:50,040 - algorithms.Algorithm - INFO   - ==> Iteration [  9][ 420 /  426]: {'process_time': 64.7227, 'prec5_c1': 78.9524, 'loss': 2.1208, 'prec1_c1': 55.8333, 'load_time': 35.2773}\n",
      " 99%|█████████▉| 424/427 [32:35<00:13,  4.40s/it]2019-05-15 07:29:12,394 - algorithms.Algorithm - INFO   - ==> Iteration [  9][ 425 /  426]: {'process_time': 64.7571, 'prec5_c1': 78.9443, 'loss': 2.1222, 'prec1_c1': 55.7835, 'load_time': 35.2429}\n",
      "100%|██████████| 427/427 [32:48<00:00,  4.16s/it]\n",
      "2019-05-15 07:29:20,110 - algorithms.Algorithm - INFO   - ==> Training stats: {'process_time': 64.7824, 'prec5_c1': 78.9313, 'loss': 2.1227, 'prec1_c1': 55.7658, 'load_time': 35.2176}\n",
      "2019-05-15 07:29:21,085 - algorithms.Algorithm - INFO   - Evaluating: Custom_NonLinearClassifiers_ImageNet_RotNet_AlexNet_Features_64\n",
      "2019-05-15 07:29:21,087 - algorithms.Algorithm - INFO   - ==> Dataset: custom_supervised/val [64000 images]\n",
      "100%|██████████| 427/427 [22:18<00:00,  2.62s/it]\n",
      "2019-05-15 07:51:39,766 - algorithms.Algorithm - INFO   - ==> Results: {'process_time': 53.036, 'prec5_c1': 46.242, 'loss': 3.8451, 'prec1_c1': 23.9844, 'load_time': 46.964}\n",
      "2019-05-15 07:51:39,785 - algorithms.Algorithm - INFO   - ==> Evaluation stats: {'process_time': 53.036, 'prec5_c1': 46.242, 'loss': 3.8451, 'prec1_c1': 23.9844, 'load_time': 46.964}\n",
      "2019-05-15 07:51:39,786 - algorithms.Algorithm - INFO   - Training epoch [ 10 /  40]\n",
      "2019-05-15 07:51:39,787 - algorithms.Algorithm - INFO   - ==> Set to classifier optimizer lr = 0.0100000000\n",
      "2019-05-15 07:51:39,788 - algorithms.Algorithm - INFO   - Training: Custom_NonLinearClassifiers_ImageNet_RotNet_AlexNet_Features_64\n",
      "  1%|          | 4/427 [00:20<38:14,  5.42s/it]2019-05-15 07:52:04,546 - algorithms.Algorithm - INFO   - ==> Iteration [ 10][   5 /  426]: {'process_time': 69.1157, 'prec5_c1': 86.1333, 'loss': 1.7996, 'prec1_c1': 62.2667, 'load_time': 30.8843}\n"
     ]
    },
    {
     "name": "stderr",
     "output_type": "stream",
     "text": [
      "  2%|▏         | 9/427 [00:44<35:58,  5.16s/it]2019-05-15 07:52:29,162 - algorithms.Algorithm - INFO   - ==> Iteration [ 10][  10 /  426]: {'process_time': 70.7922, 'prec5_c1': 85.0667, 'loss': 1.7961, 'prec1_c1': 63.7333, 'load_time': 29.2078}\n",
      "  3%|▎         | 14/427 [01:09<33:59,  4.94s/it]2019-05-15 07:52:53,618 - algorithms.Algorithm - INFO   - ==> Iteration [ 10][  15 /  426]: {'process_time': 69.4573, 'prec5_c1': 84.5333, 'loss': 1.8098, 'prec1_c1': 63.6444, 'load_time': 30.5427}\n",
      "  4%|▍         | 19/427 [01:31<32:06,  4.72s/it]2019-05-15 07:53:16,233 - algorithms.Algorithm - INFO   - ==> Iteration [ 10][  20 /  426]: {'process_time': 69.7956, 'prec5_c1': 84.5333, 'loss': 1.7971, 'prec1_c1': 64.4333, 'load_time': 30.2044}\n",
      "  6%|▌         | 24/427 [01:54<30:14,  4.50s/it]2019-05-15 07:53:39,529 - algorithms.Algorithm - INFO   - ==> Iteration [ 10][  25 /  426]: {'process_time': 70.8052, 'prec5_c1': 84.6667, 'loss': 1.802, 'prec1_c1': 64.4267, 'load_time': 29.1948}\n",
      "  7%|▋         | 29/427 [02:19<32:23,  4.88s/it]2019-05-15 07:54:03,573 - algorithms.Algorithm - INFO   - ==> Iteration [ 10][  30 /  426]: {'process_time': 71.3438, 'prec5_c1': 84.4889, 'loss': 1.8035, 'prec1_c1': 64.0, 'load_time': 28.6562}\n",
      "  8%|▊         | 34/427 [02:41<29:15,  4.47s/it]2019-05-15 07:54:25,473 - algorithms.Algorithm - INFO   - ==> Iteration [ 10][  35 /  426]: {'process_time': 70.7473, 'prec5_c1': 84.4571, 'loss': 1.8155, 'prec1_c1': 63.6571, 'load_time': 29.2527}\n",
      "  9%|▉         | 39/427 [03:05<31:06,  4.81s/it]2019-05-15 07:54:49,625 - algorithms.Algorithm - INFO   - ==> Iteration [ 10][  40 /  426]: {'process_time': 70.6008, 'prec5_c1': 84.5333, 'loss': 1.8184, 'prec1_c1': 63.6167, 'load_time': 29.3992}\n",
      " 10%|█         | 44/427 [03:35<40:07,  6.29s/it]2019-05-15 07:55:21,928 - algorithms.Algorithm - INFO   - ==> Iteration [ 10][  45 /  426]: {'process_time': 70.7743, 'prec5_c1': 84.3259, 'loss': 1.8254, 'prec1_c1': 63.3185, 'load_time': 29.2257}\n",
      " 11%|█▏        | 49/427 [04:03<34:13,  5.43s/it]2019-05-15 07:55:48,010 - algorithms.Algorithm - INFO   - ==> Iteration [ 10][  50 /  426]: {'process_time': 70.5465, 'prec5_c1': 84.4, 'loss': 1.8279, 'prec1_c1': 63.3333, 'load_time': 29.4535}\n",
      " 13%|█▎        | 54/427 [04:28<32:17,  5.19s/it]2019-05-15 07:56:14,386 - algorithms.Algorithm - INFO   - ==> Iteration [ 10][  55 /  426]: {'process_time': 70.6826, 'prec5_c1': 84.1939, 'loss': 1.832, 'prec1_c1': 63.1758, 'load_time': 29.3174}\n",
      " 14%|█▍        | 59/427 [04:54<31:11,  5.09s/it]2019-05-15 07:56:40,305 - algorithms.Algorithm - INFO   - ==> Iteration [ 10][  60 /  426]: {'process_time': 70.5954, 'prec5_c1': 84.0778, 'loss': 1.8363, 'prec1_c1': 63.2, 'load_time': 29.4046}\n",
      " 15%|█▍        | 64/427 [05:20<29:32,  4.88s/it]2019-05-15 07:57:04,991 - algorithms.Algorithm - INFO   - ==> Iteration [ 10][  65 /  426]: {'process_time': 70.6826, 'prec5_c1': 84.1026, 'loss': 1.8348, 'prec1_c1': 63.1795, 'load_time': 29.3174}\n",
      " 16%|█▌        | 69/427 [05:45<29:47,  4.99s/it]2019-05-15 07:57:30,893 - algorithms.Algorithm - INFO   - ==> Iteration [ 10][  70 /  426]: {'process_time': 70.6449, 'prec5_c1': 84.2191, 'loss': 1.8316, 'prec1_c1': 63.2952, 'load_time': 29.3551}\n",
      " 17%|█▋        | 74/427 [06:11<30:34,  5.20s/it]2019-05-15 07:57:57,145 - algorithms.Algorithm - INFO   - ==> Iteration [ 10][  75 /  426]: {'process_time': 70.8029, 'prec5_c1': 84.0178, 'loss': 1.8363, 'prec1_c1': 63.1022, 'load_time': 29.1971}\n",
      " 19%|█▊        | 79/427 [06:39<31:49,  5.49s/it]2019-05-15 07:58:24,352 - algorithms.Algorithm - INFO   - ==> Iteration [ 10][  80 /  426]: {'process_time': 71.1675, 'prec5_c1': 83.8417, 'loss': 1.8436, 'prec1_c1': 62.9917, 'load_time': 28.8325}\n",
      " 20%|█▉        | 84/427 [07:05<29:29,  5.16s/it]2019-05-15 07:58:50,014 - algorithms.Algorithm - INFO   - ==> Iteration [ 10][  85 /  426]: {'process_time': 71.5967, 'prec5_c1': 83.7333, 'loss': 1.8479, 'prec1_c1': 62.7765, 'load_time': 28.4033}\n",
      " 21%|██        | 89/427 [07:31<30:04,  5.34s/it]2019-05-15 07:59:16,481 - algorithms.Algorithm - INFO   - ==> Iteration [ 10][  90 /  426]: {'process_time': 71.8313, 'prec5_c1': 83.7259, 'loss': 1.8482, 'prec1_c1': 62.6667, 'load_time': 28.1687}\n",
      " 22%|██▏       | 94/427 [07:56<28:21,  5.11s/it]2019-05-15 07:59:41,902 - algorithms.Algorithm - INFO   - ==> Iteration [ 10][  95 /  426]: {'process_time': 72.0826, 'prec5_c1': 83.8667, 'loss': 1.842, 'prec1_c1': 62.7439, 'load_time': 27.9174}\n",
      " 23%|██▎       | 99/427 [08:22<27:31,  5.04s/it]2019-05-15 08:00:06,514 - algorithms.Algorithm - INFO   - ==> Iteration [ 10][ 100 /  426]: {'process_time': 71.9435, 'prec5_c1': 83.9067, 'loss': 1.8415, 'prec1_c1': 62.7067, 'load_time': 28.0565}\n",
      " 24%|██▍       | 104/427 [08:48<28:22,  5.27s/it]2019-05-15 08:00:33,940 - algorithms.Algorithm - INFO   - ==> Iteration [ 10][ 105 /  426]: {'process_time': 71.914, 'prec5_c1': 83.8603, 'loss': 1.8461, 'prec1_c1': 62.527, 'load_time': 28.086}\n",
      " 26%|██▌       | 109/427 [09:16<29:25,  5.55s/it]2019-05-15 08:01:00,785 - algorithms.Algorithm - INFO   - ==> Iteration [ 10][ 110 /  426]: {'process_time': 72.2372, 'prec5_c1': 83.8727, 'loss': 1.8461, 'prec1_c1': 62.5758, 'load_time': 27.7628}\n",
      " 27%|██▋       | 114/427 [09:41<27:24,  5.26s/it]2019-05-15 08:01:26,995 - algorithms.Algorithm - INFO   - ==> Iteration [ 10][ 115 /  426]: {'process_time': 72.1739, 'prec5_c1': 83.7855, 'loss': 1.849, 'prec1_c1': 62.5217, 'load_time': 27.8261}\n",
      " 28%|██▊       | 119/427 [10:06<26:14,  5.11s/it]2019-05-15 08:01:52,872 - algorithms.Algorithm - INFO   - ==> Iteration [ 10][ 120 /  426]: {'process_time': 72.3197, 'prec5_c1': 83.7444, 'loss': 1.8515, 'prec1_c1': 62.4389, 'load_time': 27.6803}\n",
      " 29%|██▉       | 124/427 [10:34<26:58,  5.34s/it]2019-05-15 08:02:18,934 - algorithms.Algorithm - INFO   - ==> Iteration [ 10][ 125 /  426]: {'process_time': 72.1491, 'prec5_c1': 83.7333, 'loss': 1.8512, 'prec1_c1': 62.4107, 'load_time': 27.8509}\n",
      " 30%|███       | 129/427 [10:58<24:30,  4.94s/it]2019-05-15 08:02:42,881 - algorithms.Algorithm - INFO   - ==> Iteration [ 10][ 130 /  426]: {'process_time': 72.2268, 'prec5_c1': 83.6462, 'loss': 1.8559, 'prec1_c1': 62.2923, 'load_time': 27.7732}\n",
      " 31%|███▏      | 134/427 [11:21<23:24,  4.79s/it]2019-05-15 08:03:06,686 - algorithms.Algorithm - INFO   - ==> Iteration [ 10][ 135 /  426]: {'process_time': 71.5789, 'prec5_c1': 83.6148, 'loss': 1.8577, 'prec1_c1': 62.1728, 'load_time': 28.4211}\n",
      " 33%|███▎      | 139/427 [11:48<24:36,  5.13s/it]2019-05-15 08:03:32,658 - algorithms.Algorithm - INFO   - ==> Iteration [ 10][ 140 /  426]: {'process_time': 71.978, 'prec5_c1': 83.5333, 'loss': 1.8635, 'prec1_c1': 61.9905, 'load_time': 28.022}\n",
      " 34%|███▎      | 144/427 [12:11<22:05,  4.68s/it]2019-05-15 08:03:56,263 - algorithms.Algorithm - INFO   - ==> Iteration [ 10][ 145 /  426]: {'process_time': 71.9064, 'prec5_c1': 83.5218, 'loss': 1.8626, 'prec1_c1': 61.9632, 'load_time': 28.0936}\n",
      " 35%|███▍      | 149/427 [12:36<23:02,  4.97s/it]2019-05-15 08:04:21,031 - algorithms.Algorithm - INFO   - ==> Iteration [ 10][ 150 /  426]: {'process_time': 71.8998, 'prec5_c1': 83.44, 'loss': 1.8653, 'prec1_c1': 61.8044, 'load_time': 28.1002}\n",
      " 36%|███▌      | 154/427 [13:01<23:06,  5.08s/it]2019-05-15 08:04:45,801 - algorithms.Algorithm - INFO   - ==> Iteration [ 10][ 155 /  426]: {'process_time': 71.6113, 'prec5_c1': 83.4022, 'loss': 1.8658, 'prec1_c1': 61.7849, 'load_time': 28.3887}\n",
      " 37%|███▋      | 159/427 [13:25<22:09,  4.96s/it]2019-05-15 08:05:10,096 - algorithms.Algorithm - INFO   - ==> Iteration [ 10][ 160 /  426]: {'process_time': 71.8184, 'prec5_c1': 83.3958, 'loss': 1.8649, 'prec1_c1': 61.7625, 'load_time': 28.1816}\n",
      " 38%|███▊      | 164/427 [13:50<20:56,  4.78s/it]2019-05-15 08:05:35,447 - algorithms.Algorithm - INFO   - ==> Iteration [ 10][ 165 /  426]: {'process_time': 71.8082, 'prec5_c1': 83.3374, 'loss': 1.8689, 'prec1_c1': 61.6929, 'load_time': 28.1918}\n",
      " 40%|███▉      | 169/427 [14:16<22:09,  5.15s/it]2019-05-15 08:06:00,883 - algorithms.Algorithm - INFO   - ==> Iteration [ 10][ 170 /  426]: {'process_time': 71.7567, 'prec5_c1': 83.251, 'loss': 1.8718, 'prec1_c1': 61.6314, 'load_time': 28.2433}\n",
      " 41%|████      | 174/427 [14:42<22:36,  5.36s/it]2019-05-15 08:06:28,332 - algorithms.Algorithm - INFO   - ==> Iteration [ 10][ 175 /  426]: {'process_time': 72.0021, 'prec5_c1': 83.2114, 'loss': 1.8752, 'prec1_c1': 61.6152, 'load_time': 27.9979}\n"
     ]
    },
    {
     "name": "stderr",
     "output_type": "stream",
     "text": [
      " 42%|████▏     | 179/427 [15:08<21:20,  5.16s/it]2019-05-15 08:06:53,136 - algorithms.Algorithm - INFO   - ==> Iteration [ 10][ 180 /  426]: {'process_time': 71.9574, 'prec5_c1': 83.1519, 'loss': 1.8781, 'prec1_c1': 61.5481, 'load_time': 28.0426}\n",
      " 43%|████▎     | 184/427 [15:35<21:18,  5.26s/it]2019-05-15 08:07:21,486 - algorithms.Algorithm - INFO   - ==> Iteration [ 10][ 185 /  426]: {'process_time': 72.0103, 'prec5_c1': 83.1351, 'loss': 1.8792, 'prec1_c1': 61.5423, 'load_time': 27.9897}\n",
      " 44%|████▍     | 189/427 [16:02<21:19,  5.38s/it]2019-05-15 08:07:48,756 - algorithms.Algorithm - INFO   - ==> Iteration [ 10][ 190 /  426]: {'process_time': 72.0791, 'prec5_c1': 83.2, 'loss': 1.8765, 'prec1_c1': 61.6211, 'load_time': 27.9209}\n",
      " 45%|████▌     | 194/427 [16:26<18:38,  4.80s/it]2019-05-15 08:08:12,415 - algorithms.Algorithm - INFO   - ==> Iteration [ 10][ 195 /  426]: {'process_time': 71.9011, 'prec5_c1': 83.1521, 'loss': 1.8774, 'prec1_c1': 61.6239, 'load_time': 28.0989}\n",
      " 47%|████▋     | 199/427 [16:51<17:55,  4.72s/it]2019-05-15 08:08:37,334 - algorithms.Algorithm - INFO   - ==> Iteration [ 10][ 200 /  426]: {'process_time': 71.7593, 'prec5_c1': 83.13, 'loss': 1.8799, 'prec1_c1': 61.5867, 'load_time': 28.2407}\n",
      " 48%|████▊     | 204/427 [17:18<19:33,  5.26s/it]2019-05-15 08:09:04,542 - algorithms.Algorithm - INFO   - ==> Iteration [ 10][ 205 /  426]: {'process_time': 71.5382, 'prec5_c1': 83.174, 'loss': 1.8781, 'prec1_c1': 61.6423, 'load_time': 28.4618}\n",
      " 49%|████▉     | 209/427 [17:45<19:01,  5.24s/it]2019-05-15 08:09:30,406 - algorithms.Algorithm - INFO   - ==> Iteration [ 10][ 210 /  426]: {'process_time': 71.2369, 'prec5_c1': 83.1556, 'loss': 1.8794, 'prec1_c1': 61.5873, 'load_time': 28.7631}\n",
      " 50%|█████     | 214/427 [18:13<19:37,  5.53s/it]2019-05-15 08:09:58,295 - algorithms.Algorithm - INFO   - ==> Iteration [ 10][ 215 /  426]: {'process_time': 71.2994, 'prec5_c1': 83.0698, 'loss': 1.8812, 'prec1_c1': 61.5814, 'load_time': 28.7006}\n",
      " 51%|█████▏    | 219/427 [18:39<18:07,  5.23s/it]2019-05-15 08:10:26,023 - algorithms.Algorithm - INFO   - ==> Iteration [ 10][ 220 /  426]: {'process_time': 71.4795, 'prec5_c1': 83.0394, 'loss': 1.8822, 'prec1_c1': 61.5485, 'load_time': 28.5205}\n",
      " 52%|█████▏    | 224/427 [19:05<17:11,  5.08s/it]2019-05-15 08:10:50,373 - algorithms.Algorithm - INFO   - ==> Iteration [ 10][ 225 /  426]: {'process_time': 71.4141, 'prec5_c1': 82.9985, 'loss': 1.8848, 'prec1_c1': 61.4607, 'load_time': 28.5859}\n",
      " 54%|█████▎    | 229/427 [19:33<18:47,  5.69s/it]2019-05-15 08:11:17,313 - algorithms.Algorithm - INFO   - ==> Iteration [ 10][ 230 /  426]: {'process_time': 71.3363, 'prec5_c1': 82.9594, 'loss': 1.8872, 'prec1_c1': 61.3942, 'load_time': 28.6637}\n",
      " 55%|█████▍    | 234/427 [19:58<17:31,  5.45s/it]2019-05-15 08:11:44,033 - algorithms.Algorithm - INFO   - ==> Iteration [ 10][ 235 /  426]: {'process_time': 71.3714, 'prec5_c1': 82.9106, 'loss': 1.8903, 'prec1_c1': 61.2936, 'load_time': 28.6286}\n",
      " 56%|█████▌    | 239/427 [20:28<17:47,  5.68s/it]2019-05-15 08:12:16,303 - algorithms.Algorithm - INFO   - ==> Iteration [ 10][ 240 /  426]: {'process_time': 71.2688, 'prec5_c1': 82.9194, 'loss': 1.8906, 'prec1_c1': 61.2972, 'load_time': 28.7312}\n",
      " 57%|█████▋    | 244/427 [21:00<18:09,  5.95s/it]2019-05-15 08:12:46,443 - algorithms.Algorithm - INFO   - ==> Iteration [ 10][ 245 /  426]: {'process_time': 71.4933, 'prec5_c1': 82.849, 'loss': 1.8927, 'prec1_c1': 61.2272, 'load_time': 28.5067}\n",
      " 58%|█████▊    | 249/427 [21:30<17:33,  5.92s/it]2019-05-15 08:13:18,217 - algorithms.Algorithm - INFO   - ==> Iteration [ 10][ 250 /  426]: {'process_time': 71.6273, 'prec5_c1': 82.816, 'loss': 1.8941, 'prec1_c1': 61.1813, 'load_time': 28.3727}\n",
      " 59%|█████▉    | 254/427 [21:57<15:27,  5.36s/it]2019-05-15 08:13:45,273 - algorithms.Algorithm - INFO   - ==> Iteration [ 10][ 255 /  426]: {'process_time': 71.581, 'prec5_c1': 82.7948, 'loss': 1.8957, 'prec1_c1': 61.1634, 'load_time': 28.419}\n",
      " 61%|██████    | 259/427 [22:31<17:52,  6.39s/it]2019-05-15 08:14:16,211 - algorithms.Algorithm - INFO   - ==> Iteration [ 10][ 260 /  426]: {'process_time': 71.5531, 'prec5_c1': 82.7718, 'loss': 1.8981, 'prec1_c1': 61.0769, 'load_time': 28.4469}\n",
      " 62%|██████▏   | 264/427 [23:02<17:29,  6.44s/it]2019-05-15 08:14:47,793 - algorithms.Algorithm - INFO   - ==> Iteration [ 10][ 265 /  426]: {'process_time': 71.7915, 'prec5_c1': 82.6994, 'loss': 1.9016, 'prec1_c1': 60.961, 'load_time': 28.2085}\n",
      " 63%|██████▎   | 269/427 [23:31<15:07,  5.75s/it]2019-05-15 08:15:19,129 - algorithms.Algorithm - INFO   - ==> Iteration [ 10][ 270 /  426]: {'process_time': 71.7897, 'prec5_c1': 82.6988, 'loss': 1.9011, 'prec1_c1': 60.963, 'load_time': 28.2103}\n",
      " 64%|██████▍   | 274/427 [24:01<13:58,  5.48s/it]2019-05-15 08:15:47,441 - algorithms.Algorithm - INFO   - ==> Iteration [ 10][ 275 /  426]: {'process_time': 71.9707, 'prec5_c1': 82.6861, 'loss': 1.9016, 'prec1_c1': 60.9333, 'load_time': 28.0293}\n",
      " 65%|██████▌   | 279/427 [24:32<15:30,  6.29s/it]2019-05-15 08:16:16,959 - algorithms.Algorithm - INFO   - ==> Iteration [ 10][ 280 /  426]: {'process_time': 72.1007, 'prec5_c1': 82.6881, 'loss': 1.9025, 'prec1_c1': 60.9048, 'load_time': 27.8993}\n",
      " 67%|██████▋   | 284/427 [24:59<13:56,  5.85s/it]2019-05-15 08:16:44,735 - algorithms.Algorithm - INFO   - ==> Iteration [ 10][ 285 /  426]: {'process_time': 72.1163, 'prec5_c1': 82.6947, 'loss': 1.9024, 'prec1_c1': 60.8561, 'load_time': 27.8837}\n",
      " 68%|██████▊   | 289/427 [25:27<12:48,  5.57s/it]2019-05-15 08:17:15,035 - algorithms.Algorithm - INFO   - ==> Iteration [ 10][ 290 /  426]: {'process_time': 72.0854, 'prec5_c1': 82.6253, 'loss': 1.9046, 'prec1_c1': 60.7862, 'load_time': 27.9146}\n",
      " 69%|██████▉   | 294/427 [25:57<12:41,  5.73s/it]2019-05-15 08:17:43,329 - algorithms.Algorithm - INFO   - ==> Iteration [ 10][ 295 /  426]: {'process_time': 72.1366, 'prec5_c1': 82.5966, 'loss': 1.9055, 'prec1_c1': 60.7842, 'load_time': 27.8634}\n",
      " 70%|███████   | 299/427 [26:27<12:40,  5.94s/it]2019-05-15 08:18:13,836 - algorithms.Algorithm - INFO   - ==> Iteration [ 10][ 300 /  426]: {'process_time': 72.0818, 'prec5_c1': 82.5867, 'loss': 1.9069, 'prec1_c1': 60.7511, 'load_time': 27.9182}\n",
      " 71%|███████   | 304/427 [26:59<12:31,  6.11s/it]2019-05-15 08:18:43,974 - algorithms.Algorithm - INFO   - ==> Iteration [ 10][ 305 /  426]: {'process_time': 72.1488, 'prec5_c1': 82.518, 'loss': 1.9101, 'prec1_c1': 60.6645, 'load_time': 27.8512}\n",
      " 72%|███████▏  | 309/427 [27:28<11:53,  6.05s/it]2019-05-15 08:19:14,644 - algorithms.Algorithm - INFO   - ==> Iteration [ 10][ 310 /  426]: {'process_time': 72.2927, 'prec5_c1': 82.4882, 'loss': 1.9112, 'prec1_c1': 60.6022, 'load_time': 27.7073}\n",
      " 74%|███████▎  | 314/427 [27:55<09:57,  5.29s/it]2019-05-15 08:19:40,483 - algorithms.Algorithm - INFO   - ==> Iteration [ 10][ 315 /  426]: {'process_time': 72.3705, 'prec5_c1': 82.4635, 'loss': 1.9131, 'prec1_c1': 60.5206, 'load_time': 27.6295}\n",
      " 75%|███████▍  | 319/427 [28:24<10:45,  5.98s/it]2019-05-15 08:20:09,231 - algorithms.Algorithm - INFO   - ==> Iteration [ 10][ 320 /  426]: {'process_time': 72.2758, 'prec5_c1': 82.4438, 'loss': 1.9143, 'prec1_c1': 60.4625, 'load_time': 27.7242}\n",
      " 76%|███████▌  | 324/427 [28:53<10:02,  5.85s/it]2019-05-15 08:20:38,052 - algorithms.Algorithm - INFO   - ==> Iteration [ 10][ 325 /  426]: {'process_time': 72.2295, 'prec5_c1': 82.4164, 'loss': 1.9163, 'prec1_c1': 60.4226, 'load_time': 27.7705}\n",
      " 77%|███████▋  | 329/427 [29:21<09:09,  5.61s/it]2019-05-15 08:21:07,588 - algorithms.Algorithm - INFO   - ==> Iteration [ 10][ 330 /  426]: {'process_time': 72.3693, 'prec5_c1': 82.4303, 'loss': 1.9154, 'prec1_c1': 60.4404, 'load_time': 27.6307}\n",
      " 78%|███████▊  | 334/427 [29:50<08:53,  5.74s/it]2019-05-15 08:21:35,535 - algorithms.Algorithm - INFO   - ==> Iteration [ 10][ 335 /  426]: {'process_time': 72.5138, 'prec5_c1': 82.396, 'loss': 1.9162, 'prec1_c1': 60.4299, 'load_time': 27.4862}\n",
      " 79%|███████▉  | 339/427 [30:19<08:25,  5.75s/it]2019-05-15 08:22:05,913 - algorithms.Algorithm - INFO   - ==> Iteration [ 10][ 340 /  426]: {'process_time': 72.6293, 'prec5_c1': 82.3549, 'loss': 1.9173, 'prec1_c1': 60.4098, 'load_time': 27.3707}\n",
      " 81%|████████  | 344/427 [30:51<08:31,  6.17s/it]2019-05-15 08:22:39,462 - algorithms.Algorithm - INFO   - ==> Iteration [ 10][ 345 /  426]: {'process_time': 72.7481, 'prec5_c1': 82.3188, 'loss': 1.9189, 'prec1_c1': 60.3498, 'load_time': 27.2519}\n"
     ]
    },
    {
     "name": "stderr",
     "output_type": "stream",
     "text": [
      " 82%|████████▏ | 349/427 [31:23<08:21,  6.43s/it]2019-05-15 08:23:08,656 - algorithms.Algorithm - INFO   - ==> Iteration [ 10][ 350 /  426]: {'process_time': 72.8929, 'prec5_c1': 82.2914, 'loss': 1.9202, 'prec1_c1': 60.3048, 'load_time': 27.1071}\n",
      " 83%|████████▎ | 354/427 [31:52<06:56,  5.70s/it]2019-05-15 08:23:37,856 - algorithms.Algorithm - INFO   - ==> Iteration [ 10][ 355 /  426]: {'process_time': 72.9347, 'prec5_c1': 82.2892, 'loss': 1.9212, 'prec1_c1': 60.2911, 'load_time': 27.0653}\n",
      " 84%|████████▍ | 359/427 [32:21<06:36,  5.83s/it]2019-05-15 08:24:07,007 - algorithms.Algorithm - INFO   - ==> Iteration [ 10][ 360 /  426]: {'process_time': 72.9344, 'prec5_c1': 82.2611, 'loss': 1.9228, 'prec1_c1': 60.2426, 'load_time': 27.0656}\n",
      " 85%|████████▌ | 364/427 [33:05<10:45, 10.25s/it]2019-05-15 08:24:45,848 - algorithms.Algorithm - INFO   - ==> Iteration [ 10][ 365 /  426]: {'process_time': 72.981, 'prec5_c1': 82.232, 'loss': 1.9244, 'prec1_c1': 60.2155, 'load_time': 27.019}\n",
      " 86%|████████▋ | 369/427 [33:26<05:27,  5.64s/it]2019-05-15 08:25:13,961 - algorithms.Algorithm - INFO   - ==> Iteration [ 10][ 370 /  426]: {'process_time': 73.0776, 'prec5_c1': 82.2342, 'loss': 1.9242, 'prec1_c1': 60.2324, 'load_time': 26.9224}\n",
      " 88%|████████▊ | 374/427 [33:56<05:25,  6.13s/it]2019-05-15 08:25:43,311 - algorithms.Algorithm - INFO   - ==> Iteration [ 10][ 375 /  426]: {'process_time': 73.2195, 'prec5_c1': 82.2187, 'loss': 1.9251, 'prec1_c1': 60.2169, 'load_time': 26.7805}\n",
      " 89%|████████▉ | 379/427 [34:28<05:09,  6.45s/it]2019-05-15 08:26:18,468 - algorithms.Algorithm - INFO   - ==> Iteration [ 10][ 380 /  426]: {'process_time': 73.2107, 'prec5_c1': 82.1877, 'loss': 1.9268, 'prec1_c1': 60.1807, 'load_time': 26.7893}\n",
      " 90%|████████▉ | 383/427 [34:53<04:18,  5.88s/it]"
     ]
    }
   ],
   "source": [
    "if not args_opt.evaluate: # train the algorithm\n",
    "    algorithm.solve(dloader_train, dloader_test)\n",
    "else:\n",
    "    algorithm.evaluate(dloader_test) # evaluate the algorithm\n"
   ]
  },
  {
   "cell_type": "markdown",
   "metadata": {},
   "source": [
    "/scratch/um367/urwa-env/py2.7.12/lib/python2.7/site-packages/torchvision/transforms/functional.py\", line 48, in to_tensor"
   ]
  },
  {
   "cell_type": "code",
   "execution_count": null,
   "metadata": {},
   "outputs": [],
   "source": []
  }
 ],
 "metadata": {
  "kernelspec": {
   "display_name": "Python 2",
   "language": "python",
   "name": "python2"
  },
  "language_info": {
   "codemirror_mode": {
    "name": "ipython",
    "version": 2
   },
   "file_extension": ".py",
   "mimetype": "text/x-python",
   "name": "python",
   "nbconvert_exporter": "python",
   "pygments_lexer": "ipython2",
   "version": "2.7.12"
  }
 },
 "nbformat": 4,
 "nbformat_minor": 2
}
